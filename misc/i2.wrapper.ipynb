{
 "cells": [
  {
   "cell_type": "markdown",
   "metadata": {
    "toc": true
   },
   "source": [
    "<h1>Table of Contents<span class=\"tocSkip\"></span></h1>\n",
    "<div class=\"toc\"><ul class=\"toc-item\"><li><span><a href=\"#Highlights\" data-toc-modified-id=\"Highlights-1\"><span class=\"toc-item-num\">1&nbsp;&nbsp;</span>Highlights</a></span><ul class=\"toc-item\"><li><span><a href=\"#Highlights:-A-few-high-level-examples\" data-toc-modified-id=\"Highlights:-A-few-high-level-examples-1.1\"><span class=\"toc-item-num\">1.1&nbsp;&nbsp;</span>Highlights: A few high level examples</a></span></li><li><span><a href=\"#Why-not-do-decorators-&quot;the-normal-way&quot;?\" data-toc-modified-id=\"Why-not-do-decorators-&quot;the-normal-way&quot;?-1.2\"><span class=\"toc-item-num\">1.2&nbsp;&nbsp;</span>Why not do decorators \"the normal way\"?</a></span><ul class=\"toc-item\"><li><span><a href=\"#Closures-don't-pickle\" data-toc-modified-id=\"Closures-don't-pickle-1.2.1\"><span class=\"toc-item-num\">1.2.1&nbsp;&nbsp;</span>Closures don't pickle</a></span></li><li><span><a href=\"#Make-Frequent-patterns-easy-(and-correct)\" data-toc-modified-id=\"Make-Frequent-patterns-easy-(and-correct)-1.2.2\"><span class=\"toc-item-num\">1.2.2&nbsp;&nbsp;</span>Make Frequent patterns easy (and correct)</a></span></li></ul></li><li><span><a href=\"#The-Wrap-class\" data-toc-modified-id=\"The-Wrap-class-1.3\"><span class=\"toc-item-num\">1.3&nbsp;&nbsp;</span>The <code>Wrap</code> class</a></span></li><li><span><a href=\"#The-Ingress-class\" data-toc-modified-id=\"The-Ingress-class-1.4\"><span class=\"toc-item-num\">1.4&nbsp;&nbsp;</span>The <code>Ingress</code> class</a></span></li></ul></li><li><span><a href=\"#Real-world-examples\" data-toc-modified-id=\"Real-world-examples-2\"><span class=\"toc-item-num\">2&nbsp;&nbsp;</span>Real-world examples</a></span><ul class=\"toc-item\"><li><span><a href=\"#parameter-subsets-and-reordering\" data-toc-modified-id=\"parameter-subsets-and-reordering-2.1\"><span class=\"toc-item-num\">2.1&nbsp;&nbsp;</span>parameter subsets and reordering</a></span></li></ul></li><li><span><a href=\"#Scrap\" data-toc-modified-id=\"Scrap-3\"><span class=\"toc-item-num\">3&nbsp;&nbsp;</span>Scrap</a></span><ul class=\"toc-item\"><li><span><a href=\"#grouping-nodes-in-graphviz-graphs\" data-toc-modified-id=\"grouping-nodes-in-graphviz-graphs-3.1\"><span class=\"toc-item-num\">3.1&nbsp;&nbsp;</span>grouping nodes in graphviz graphs</a></span></li><li><span><a href=\"#graphs\" data-toc-modified-id=\"graphs-3.2\"><span class=\"toc-item-num\">3.2&nbsp;&nbsp;</span>graphs</a></span></li></ul></li></ul></div>"
   ]
  },
  {
   "cell_type": "markdown",
   "metadata": {},
   "source": [
    "# Highlights"
   ]
  },
  {
   "cell_type": "markdown",
   "metadata": {},
   "source": [
    "* Highlights: A few high level examples\n",
    "* Why not do decorators \"the normal way\"?\n",
    "    * Make Frequent patterns easy (and correct)\n",
    "    * Build a components+combinators framework for wrappers\n",
    "    * Closures don't pickle\n",
    "* The `Wrap` class\n",
    "* The `Ingress` class"
   ]
  },
  {
   "cell_type": "markdown",
   "metadata": {},
   "source": [
    "## Highlights: A few high level examples"
   ]
  },
  {
   "cell_type": "code",
   "execution_count": 1,
   "metadata": {
    "ExecuteTime": {
     "end_time": "2022-02-01T01:04:12.155448Z",
     "start_time": "2022-02-01T01:04:12.130257Z"
    }
   },
   "outputs": [],
   "source": [
    "def f(w, /, x: float, y=2, *, z: int = 3):\n",
    "    \"\"\"Has 3 kinds & every of the 4 combinations of (default y/n, annotated y/n)\n",
    "    >>> formula2(0, 1, 2)\n",
    "    '(w:=0) + (x:=1) * (y:=2) ** (z:=3) == 8'\n",
    "    \"\"\"\n",
    "    return f\"(w:={w}) + (x:={x}) * (y:={y}) ** (z:={z}) == {w + x * y ** z}\""
   ]
  },
  {
   "cell_type": "code",
   "execution_count": 2,
   "metadata": {
    "ExecuteTime": {
     "end_time": "2022-02-01T01:04:12.187704Z",
     "start_time": "2022-02-01T01:04:12.160307Z"
    }
   },
   "outputs": [],
   "source": [
    "from functools import wraps, partial\n",
    "\n",
    "def add_log(func=None, *, logger=print):\n",
    "    if func is None:\n",
    "        return partial(add_log, logger=logger)\n",
    "    else:\n",
    "        @wraps(func)\n",
    "        def _func(*args, **kwargs):\n",
    "            func_name = getattr(func, '__name__', '')\n",
    "            logger(func_name, args, kwargs)\n",
    "            return func(*args, **kwargs)\n",
    "        return _func\n",
    "\n",
    "# from i2.wrapper import wrap, double_up_as_factory\n",
    "# def log_ingress(*args, **kwargs):\n",
    "#\n",
    "#     return args, kwargs\n",
    "#     func_name = getattr(func, '__name__', '')\n",
    "#\n",
    "# @double_up_as_factory\n",
    "# def add_log(func=None, *, logger=print):\n",
    "#"
   ]
  },
  {
   "cell_type": "code",
   "execution_count": 3,
   "metadata": {
    "ExecuteTime": {
     "end_time": "2022-02-01T01:04:12.225824Z",
     "start_time": "2022-02-01T01:04:12.191739Z"
    }
   },
   "outputs": [
    {
     "name": "stdout",
     "output_type": "stream",
     "text": [
      "f (10,) {'b': 42}\n",
      "f(10, b=42)\n",
      "f(10, b=42)\n",
      "f(10, b=42)\n"
     ]
    },
    {
     "data": {
      "text/plain": [
       "52"
      ]
     },
     "execution_count": 3,
     "metadata": {},
     "output_type": "execute_result"
    }
   ],
   "source": [
    "######################################################################\n",
    "# You can just be quick and...\n",
    "\n",
    "@add_log\n",
    "def f(a, b=3):\n",
    "    return a + b\n",
    "\n",
    "f(10, b=42)\n",
    "\n",
    "######################################################################\n",
    "# You can also specify a different logger\n",
    "\n",
    "def more_involved_logger(func_name, args, kwargs, log_call=print):\n",
    "    args_str = ', '.join(map(str, args))\n",
    "    kwargs_str = ', '.join(map(lambda kv: f\"{kv[0]}={kv[1]}\", kwargs.items()))\n",
    "    log_call(f\"{func_name}({args_str}, {kwargs_str})\")\n",
    "\n",
    "@add_log(logger=more_involved_logger)\n",
    "def f(a, b=3):\n",
    "    return a + b\n",
    "\n",
    "f(10, b=42)\n",
    "\n",
    "######################################################################\n",
    "# you can also use like this\n",
    "\n",
    "def f(a, b=3):\n",
    "    return a + b\n",
    "\n",
    "f = add_log(f, logger=more_involved_logger)\n",
    "\n",
    "f(10, b=42)\n",
    "\n",
    "######################################################################\n",
    "# and you can pickle!\n",
    "\n",
    "import pickle\n",
    "\n",
    "unpickled_f = pickle.loads(pickle.dumps(f))\n",
    "\n",
    "unpickled_f(10, b=42)"
   ]
  },
  {
   "cell_type": "markdown",
   "metadata": {},
   "source": [
    "## Why not do decorators \"the normal way\"?"
   ]
  },
  {
   "cell_type": "markdown",
   "metadata": {},
   "source": [
    "If you don't need to pickle things (say to persist or use multiprocessing), \n",
    "and your case is very particular (so you don't think -- or don't care -- that there's \n",
    "anything reusable there), than fine: Use decorators \"the normal way\". \n",
    "By \"the normal way\" I mean the way python books usually teach them. \n",
    "[Here's an example tutorial](https://realpython.com/primer-on-python-decorators/)\n",
    "\n",
    "But that way has problems. Don't take it from me, and I won't explain further, \n",
    "[this guy](https://hynek.me/articles/decorators/) will. \n",
    "\n",
    "Here, we're not focused the problems mentioned in that last article, but in two ones in particular:\n",
    "* pickability (we'd like to wrap objects so that we don't break their capability of being pickled\n",
    "* MORE IMPORTANTLY: We're interested in developing \"wrapper tooling\" -- that is, making frequent \n",
    "    wrapping patterns easy to get, consistent, and correct. \n"
   ]
  },
  {
   "cell_type": "markdown",
   "metadata": {},
   "source": [
    "### Closures don't pickle"
   ]
  },
  {
   "cell_type": "code",
   "execution_count": 4,
   "metadata": {
    "ExecuteTime": {
     "end_time": "2022-02-01T01:04:12.256711Z",
     "start_time": "2022-02-01T01:04:12.230615Z"
    }
   },
   "outputs": [],
   "source": [
    "# TODO: Show this"
   ]
  },
  {
   "cell_type": "markdown",
   "metadata": {},
   "source": [
    "### Make Frequent patterns easy (and correct)"
   ]
  },
  {
   "cell_type": "markdown",
   "metadata": {},
   "source": [
    "TODO: Give examples"
   ]
  },
  {
   "cell_type": "markdown",
   "metadata": {},
   "source": [
    "## The `Wrap` class"
   ]
  },
  {
   "cell_type": "code",
   "execution_count": 5,
   "metadata": {
    "ExecuteTime": {
     "end_time": "2022-02-01T01:04:12.432924Z",
     "start_time": "2022-02-01T01:04:12.360248Z"
    }
   },
   "outputs": [
    {
     "data": {
      "text/plain": [
       "['ArgNameMappingIngress',\n",
       " 'ArgValConverterIngress',\n",
       " 'Callable',\n",
       " 'Ingress',\n",
       " 'InnerKwargs',\n",
       " 'InnerMapIngress',\n",
       " 'Iterable',\n",
       " 'KwargsTrans',\n",
       " 'Mapping',\n",
       " 'MethodFunc',\n",
       " 'MethodType',\n",
       " 'Optional',\n",
       " 'OuterKwargs',\n",
       " 'Parameter',\n",
       " 'Pipe',\n",
       " 'Sig',\n",
       " 'Wrap',\n",
       " '_alt_convert_dict_values',\n",
       " '_handle_ingress_class_inputs',\n",
       " 'append_empty_args',\n",
       " 'arg_val_converter',\n",
       " 'arg_val_converter_ingress',\n",
       " 'camelize',\n",
       " 'convert_dict_values',\n",
       " 'double_up_as_factory',\n",
       " 'empty',\n",
       " 'func_to_method_func',\n",
       " 'identity',\n",
       " 'invert_map',\n",
       " 'items_with_mapped_keys',\n",
       " 'kwargs_trans_to_extract_args_from_attrs',\n",
       " 'make_dataclass',\n",
       " 'make_funcs_binding_class',\n",
       " 'mk_ingress_from_name_mapper',\n",
       " 'nice_kinds',\n",
       " 'param_to_dataclass_field_tuple',\n",
       " 'parameter_to_dict',\n",
       " 'parameters_to_dict',\n",
       " 'partial',\n",
       " 'signature',\n",
       " 'transparent_egress',\n",
       " 'transparent_ingress',\n",
       " 'wrap',\n",
       " 'wraps']"
      ]
     },
     "execution_count": 5,
     "metadata": {},
     "output_type": "execute_result"
    }
   ],
   "source": [
    "import i2.wrapper\n",
    "ddir = lambda o: list(x for x in dir(o) if not x.startswith('__'))\n",
    "ddir(i2.wrapper)"
   ]
  },
  {
   "cell_type": "markdown",
   "metadata": {},
   "source": [
    "## The `Ingress` class"
   ]
  },
  {
   "cell_type": "code",
   "execution_count": 6,
   "metadata": {
    "ExecuteTime": {
     "end_time": "2022-02-01T01:04:14.842699Z",
     "start_time": "2022-02-01T01:04:14.815231Z"
    }
   },
   "outputs": [],
   "source": [
    "from i2.wrapper import Ingress, wrap, Wrap\n",
    "from inspect import signature\n",
    "from i2.wrapper import InnerMapIngress\n",
    "\n",
    "Ingress = InnerMapIngress\n",
    "\n",
    "def f(w, /, x: float, y=2, *, z: int = 3):\n",
    "    \"\"\"Has 3 kinds & every of the 4 combinations of (default y/n, annotated y/n)\n",
    "    >>> formula2(0, 1, 2)\n",
    "    '(w:=0) + (x:=1) * (y:=2) ** (z:=3) == 8'\n",
    "    \"\"\"\n",
    "    return f\"(w:={w}) + (x:={x}) * (y:={y}) ** (z:={z}) == {w + x * y ** z}\"\n"
   ]
  },
  {
   "cell_type": "code",
   "execution_count": 7,
   "metadata": {
    "ExecuteTime": {
     "end_time": "2022-02-01T01:04:15.404916Z",
     "start_time": "2022-02-01T01:04:15.378397Z"
    }
   },
   "outputs": [
    {
     "data": {
      "text/plain": [
       "'(w:=0) + (x:=1) * (y:=2) ** (z:=3) == 8'"
      ]
     },
     "execution_count": 7,
     "metadata": {},
     "output_type": "execute_result"
    }
   ],
   "source": [
    "f(0, 1)"
   ]
  },
  {
   "cell_type": "markdown",
   "metadata": {},
   "source": [
    "Let's say you wanted to dispatch this function to a command line interface, or a webservice\n",
    "where all arguments are taken from the url.\n",
    "The problem here is that this means that all incoming values will be strings in that case.\n",
    "Say you wanted all input values to be cast to ints.\n",
    "In that case you could do:"
   ]
  },
  {
   "cell_type": "code",
   "execution_count": 8,
   "metadata": {
    "ExecuteTime": {
     "end_time": "2022-02-01T01:04:16.446896Z",
     "start_time": "2022-02-01T01:04:16.418846Z"
    }
   },
   "outputs": [
    {
     "data": {
      "text/plain": [
       "'(w:=2) + (x:=3) * (y:=4) ** (z:=3) == 194'"
      ]
     },
     "execution_count": 8,
     "metadata": {},
     "output_type": "execute_result"
    }
   ],
   "source": [
    "trans_all_vals_to_ints = lambda d: {k: int(v) for k, v in d.items()}\n",
    "\n",
    "cli_f = wrap(\n",
    "    f,\n",
    "    ingress=Ingress(signature(f), kwargs_trans=trans_all_vals_to_ints)\n",
    ")\n",
    "\n",
    "cli_f(\"2\", \"3\", \"4\")"
   ]
  },
  {
   "cell_type": "markdown",
   "metadata": {},
   "source": [
    "In a more realistic situation, you'd want to have more control over this value transformation.\n",
    "\n",
    "Say you wanted to convert to int if it's possible, try float if not, and just leave the string\n",
    "alone otherwise."
   ]
  },
  {
   "cell_type": "code",
   "execution_count": 9,
   "metadata": {
    "ExecuteTime": {
     "end_time": "2022-02-01T01:04:17.806649Z",
     "start_time": "2022-02-01T01:04:17.782135Z"
    }
   },
   "outputs": [
    {
     "data": {
      "text/plain": [
       "'(w:=2) + (x:=3.14) * (y:=4) ** (z:=3) == 202.96'"
      ]
     },
     "execution_count": 9,
     "metadata": {},
     "output_type": "execute_result"
    }
   ],
   "source": [
    "def _try_casting_to_numeric(x):\n",
    "    try:\n",
    "        return int(x)\n",
    "    except ValueError:\n",
    "        try:\n",
    "            return float(x)\n",
    "        except ValueError:\n",
    "            return x\n",
    "\n",
    "def cast_numbers(d: dict):\n",
    "    return {k: _try_casting_to_numeric(v) for k, v in d.items()}\n",
    "\n",
    "\n",
    "cli_f = wrap(\n",
    "    f,\n",
    "    ingress=Ingress(signature(f), kwargs_trans=cast_numbers)\n",
    ")\n",
    "\n",
    "cli_f(\"2\", \"3.14\", \"4\")"
   ]
  },
  {
   "cell_type": "code",
   "execution_count": 10,
   "metadata": {
    "ExecuteTime": {
     "end_time": "2022-02-01T01:04:18.675835Z",
     "start_time": "2022-02-01T01:04:18.647636Z"
    }
   },
   "outputs": [],
   "source": [
    "def kwargs_trans(outer_kw):\n",
    "    \"\"\"\n",
    "    Example of a kwargs_trans with a 1-to-many and a many-to-1 transformation\n",
    "      w   x   y\n",
    "     / \\   \\ /\n",
    "    w   x   y\n",
    "    \"\"\"\n",
    "    return dict(\n",
    "        # e.g. 1-to-many: one outer arg (w) producing two inner args (w, and x)\n",
    "        w=outer_kw['w'] * 2,\n",
    "        x=outer_kw['w'] * 3,\n",
    "        # e.g. many-to-1: two outer args (x and y) producing one inner arg (y)\n",
    "        y=outer_kw['x'] + outer_kw['y'],\n",
    "        # Note that no z is mentioned: This means we're just leaving it alone\n",
    "    )\n",
    "\n",
    "\n",
    "ingress = Ingress(signature(f), kwargs_trans=kwargs_trans)\n",
    "assert ingress(2, x=3, y=4) == ((4,), {'x': 6, 'y': 7, 'z': 3})\n",
    "\n",
    "wrapped_f = wrap(f, ingress)\n",
    "assert wrapped_f(2, x=3, y=4) == '(w:=4) + (x:=6) * (y:=7) ** (z:=3) == 2062'\n"
   ]
  },
  {
   "cell_type": "markdown",
   "metadata": {},
   "source": [
    "The following is an example that involves several aspects of the `Ingress` class."
   ]
  },
  {
   "cell_type": "code",
   "execution_count": 11,
   "metadata": {
    "ExecuteTime": {
     "end_time": "2022-02-01T01:04:22.464781Z",
     "start_time": "2022-02-01T01:04:22.436082Z"
    }
   },
   "outputs": [],
   "source": [
    "from i2 import Sig\n",
    "from i2.wrapper import Ingress\n",
    "\n",
    "def kwargs_trans(outer_kw):\n",
    "    return dict(\n",
    "        w=outer_kw['w'] * 2,\n",
    "        x=outer_kw['w'] * 3,\n",
    "        # need to pop you (inner func has no you argument)\n",
    "        y=outer_kw['x'] + outer_kw.pop('you'),\n",
    "        # Note that no z is mentioned: This means we're just leaving it alone\n",
    "    )\n",
    "\n",
    "ingress = Ingress(\n",
    "    inner_sig=signature(f),\n",
    "    kwargs_trans=kwargs_trans,\n",
    "    outer_sig=Sig(f).ch_names(y='you')  # need to give the outer sig a you\n",
    "    # You could also express it this way (though you'd loose the annotations)\n",
    "    # outer_sig=lambda w, /, x, you=2, *, z=3: None\n",
    ")\n",
    "assert ingress(2, x=3, you=4) == ((4,), {'x': 6, 'y': 7, 'z': 3})\n",
    "\n",
    "wrapped_f = wrap(f, ingress)\n",
    "assert wrapped_f(2, x=3, you=4) == '(w:=4) + (x:=6) * (y:=7) ** (z:=3) == 2062'"
   ]
  },
  {
   "cell_type": "code",
   "execution_count": 12,
   "metadata": {
    "ExecuteTime": {
     "end_time": "2022-02-01T01:04:23.982141Z",
     "start_time": "2022-02-01T01:04:23.955562Z"
    }
   },
   "outputs": [
    {
     "data": {
      "text/plain": [
       "<Sig (w, /, x: float, you=2, *, z: int = 3)>"
      ]
     },
     "execution_count": 12,
     "metadata": {},
     "output_type": "execute_result"
    }
   ],
   "source": [
    "Sig(f).ch_names(y='you')"
   ]
  },
  {
   "cell_type": "code",
   "execution_count": 13,
   "metadata": {
    "ExecuteTime": {
     "end_time": "2022-02-01T01:04:24.618900Z",
     "start_time": "2022-02-01T01:04:24.591535Z"
    }
   },
   "outputs": [
    {
     "data": {
      "text/plain": [
       "<Sig (w, /, x: float, you=2, *, z: int = 3)>"
      ]
     },
     "execution_count": 13,
     "metadata": {},
     "output_type": "execute_result"
    }
   ],
   "source": [
    "ingress.outer_sig"
   ]
  },
  {
   "cell_type": "code",
   "execution_count": 14,
   "metadata": {
    "ExecuteTime": {
     "end_time": "2022-02-01T01:04:27.432936Z",
     "start_time": "2022-02-01T01:04:27.406395Z"
    }
   },
   "outputs": [
    {
     "data": {
      "text/plain": [
       "<Signature (w, /, x: float, y=2, *, z: int = 3)>"
      ]
     },
     "execution_count": 14,
     "metadata": {},
     "output_type": "execute_result"
    }
   ],
   "source": [
    "signature(f)"
   ]
  },
  {
   "cell_type": "code",
   "execution_count": 15,
   "metadata": {
    "ExecuteTime": {
     "end_time": "2022-02-01T01:04:28.126830Z",
     "start_time": "2022-02-01T01:04:28.099575Z"
    }
   },
   "outputs": [
    {
     "data": {
      "text/plain": [
       "<Sig (w, /, x: float, you=2, *, z: int = 3)>"
      ]
     },
     "execution_count": 15,
     "metadata": {},
     "output_type": "execute_result"
    }
   ],
   "source": [
    "Sig(f).ch_names(y='you')"
   ]
  },
  {
   "cell_type": "code",
   "execution_count": null,
   "metadata": {},
   "outputs": [],
   "source": []
  },
  {
   "cell_type": "code",
   "execution_count": null,
   "metadata": {},
   "outputs": [],
   "source": []
  },
  {
   "cell_type": "markdown",
   "metadata": {},
   "source": [
    "A class to help build ingresses systematically by mapping the inner signature.\n",
    "\n",
    "*Systematically*, i.e. \"according to a fixed plan/system\" is what it's about\n",
    "here. As we'll see below, if you need to write a particular adapter for a\n",
    "specific\n",
    "\n",
    "- `inner_sig`: The signature of the wrapped function.\n",
    "- `_allow_reordering`: Whether we want to allow reordering of variables\n",
    "- `changes_for_name`: The `inner_name=dict_of_changes_for_that_name` pairs,\n",
    "the `dict_of_changes_for_that_name` is a `dict` with keys being valid\n",
    "`inspect.Parameter`\n"
   ]
  },
  {
   "cell_type": "markdown",
   "metadata": {},
   "source": [
    "Consider the following function that has a position only, a keyword only,\n",
    "two arguments with annotations, and three with a default."
   ]
  },
  {
   "cell_type": "code",
   "execution_count": 16,
   "metadata": {
    "ExecuteTime": {
     "end_time": "2022-02-01T01:04:33.654088Z",
     "start_time": "2022-02-01T01:04:33.628755Z"
    }
   },
   "outputs": [],
   "source": [
    "def f(w, /, x: float = 1, y=2, *, z: int = 3):\n",
    "    return w + x * y ** z"
   ]
  },
  {
   "cell_type": "markdown",
   "metadata": {},
   "source": [
    "Say we wanted a version of this function\n",
    "\n",
    "- that didn't have the argument kind restrinctions (all POSITION_OR_KEYWORD),\n",
    "\n",
    "- where the annotation of ``x`` was changed ``int`` and the default removed\n",
    "\n",
    "- where `y` was named `you` instead, and has an annotation (`int`).\n",
    "\n",
    "- where the default of ``z`` was ``10`` instead of ``3``, and doesn't have an\n",
    "annotation.\n",
    "\n",
    "In order to get a version of this function we wanted (more lenient kinds,\n",
    "with some annotations and a default change), we used the ingress function:\n"
   ]
  },
  {
   "cell_type": "code",
   "execution_count": 17,
   "metadata": {
    "ExecuteTime": {
     "end_time": "2022-02-01T01:04:34.457764Z",
     "start_time": "2022-02-01T01:04:34.432136Z"
    }
   },
   "outputs": [],
   "source": [
    "def directly_defined_ingress(w, x: int, you: int = 2, z=10):\n",
    "    return (w,), dict(x=x, y=you, z=z)"
   ]
  },
  {
   "cell_type": "markdown",
   "metadata": {},
   "source": [
    "When we need to wrap a specific function in a specific way, defining an ingress\n",
    "function  this way is usually the simplest way.\n",
    "But in some cases we need to build the ingress function using some predefined\n",
    "rule/protocol to make applying rule/protocol systematic.\n",
    "\n",
    "For those cases, ``InnerMapIngress`` comes in handy.\n",
    "\n",
    "With `InnerMapIngress` we'd build our ingress function like this:"
   ]
  },
  {
   "cell_type": "code",
   "execution_count": 18,
   "metadata": {
    "ExecuteTime": {
     "end_time": "2022-02-01T01:04:36.919783Z",
     "start_time": "2022-02-01T01:04:36.893355Z"
    }
   },
   "outputs": [],
   "source": [
    "from inspect import Parameter, signature\n",
    "from i2.wrapper import InnerMapIngress\n",
    "\n",
    "PK = Parameter.POSITIONAL_OR_KEYWORD\n",
    "empty = Parameter.empty\n",
    "ingress = InnerMapIngress(\n",
    "    f,\n",
    "    # change kind to PK:\n",
    "    w=dict(kind=PK),\n",
    "    # change annotation of x from float to int and remove default\n",
    "    x=dict(annotation=int, default=empty),\n",
    "    # rename y to you and add annotation int:\n",
    "    y=dict(name='you', annotation=int),\n",
    "    # change kind to PK, default to 10, and remove annotation:\n",
    "    z=dict(kind=PK, default=10, annotation=empty),\n",
    ")"
   ]
  },
  {
   "cell_type": "markdown",
   "metadata": {},
   "source": [
    "Note:\n",
    "\n",
    "- Only the changes we wish to make to the parameters are mentioned.\n",
    "You could also define the parameters explicitly by simply listing all three\n",
    "of the dimensions (kind, annotation, and default)\n",
    "\n",
    "- Three? But a `Parameter` object has four; what about the name?\n",
    "Indeed, you can use name as well, more on that later.\n",
    "\n",
    "- Note that in order to specify that you want no default, or no annotation,\n",
    "you cannot use `None` since `None` is both a valid default and a valid\n",
    "annotation; So instead you need to use `Parameter.empty` (conveniently assigned\n",
    "to a constant named `empty` in the `wrapping` module.\n",
    "\n",
    "Now see that all arguments are `POSITIONAL_OR_KEYWORD`, `x` and `y` are `int`,\n",
    "and default of `z` is 10:"
   ]
  },
  {
   "cell_type": "code",
   "execution_count": 19,
   "metadata": {
    "ExecuteTime": {
     "end_time": "2022-02-01T01:04:40.839846Z",
     "start_time": "2022-02-01T01:04:40.814865Z"
    }
   },
   "outputs": [],
   "source": [
    "assert (\n",
    "        str(signature(ingress))\n",
    "        == str(signature(directly_defined_ingress))\n",
    "        == '(w, x: int, you: int = 2, z=10)'\n",
    ")"
   ]
  },
  {
   "cell_type": "markdown",
   "metadata": {},
   "source": [
    "Additionally, `ingress` function does it's job of dispatching the right args\n",
    "and kwargs to the target function:"
   ]
  },
  {
   "cell_type": "code",
   "execution_count": 20,
   "metadata": {
    "ExecuteTime": {
     "end_time": "2022-02-01T01:04:42.276708Z",
     "start_time": "2022-02-01T01:04:42.250959Z"
    }
   },
   "outputs": [],
   "source": [
    "assert (\n",
    "        ingress(0, 1, 2, 3)\n",
    "        == directly_defined_ingress(0, 1, 2, 3)\n",
    "        == ((0,), {'x': 1, 'y': 2, 'z': 3})\n",
    ")"
   ]
  },
  {
   "cell_type": "code",
   "execution_count": 47,
   "metadata": {
    "ExecuteTime": {
     "end_time": "2022-02-02T19:53:30.577127Z",
     "start_time": "2022-02-02T19:53:30.541288Z"
    }
   },
   "outputs": [
    {
     "name": "stdout",
     "output_type": "stream",
     "text": [
      "(3,) {}\n"
     ]
    },
    {
     "data": {
      "text/plain": [
       "30"
      ]
     },
     "execution_count": 47,
     "metadata": {},
     "output_type": "execute_result"
    }
   ],
   "source": [
    "def w(f):\n",
    "    def _f(*args, **kwargs):\n",
    "        print(args, kwargs)\n",
    "        return f(*args, **kwargs)\n",
    "    return _f\n",
    "\n",
    "\n",
    "def foo(x):\n",
    "    return x * 10\n",
    "\n",
    "w_foo = w(foo)\n",
    "w_foo(3)"
   ]
  },
  {
   "cell_type": "code",
   "execution_count": 54,
   "metadata": {
    "ExecuteTime": {
     "end_time": "2022-02-02T19:54:45.793030Z",
     "start_time": "2022-02-02T19:54:45.693692Z"
    }
   },
   "outputs": [
    {
     "data": {
      "text/plain": [
       "True"
      ]
     },
     "execution_count": 54,
     "metadata": {},
     "output_type": "execute_result"
    }
   ],
   "source": [
    "from tested import validate_codec\n",
    "import dill\n",
    "validate_codec(w_foo, dill.dumps, dill.loads)"
   ]
  },
  {
   "cell_type": "code",
   "execution_count": null,
   "outputs": [],
   "source": [
    "# Real-world examples"
   ],
   "metadata": {
    "collapsed": false
   }
  },
  {
   "cell_type": "code",
   "execution_count": 25,
   "metadata": {
    "ExecuteTime": {
     "end_time": "2022-02-01T01:28:05.099023Z",
     "start_time": "2022-02-01T01:28:05.071931Z"
    }
   },
   "outputs": [],
   "source": [
    "def f(w, /, x: float, y=2, *, z: int = 3):\n",
    "    \"\"\"Has 3 kinds & every of the 4 combinations of (default y/n, annotated y/n)\n",
    "    >>> formula2(0, 1, 2)\n",
    "    '(w:=0) + (x:=1) * (y:=2) ** (z:=3) == 8'\n",
    "    \"\"\"\n",
    "    return f\"(w:={w}) + (x:={x}) * (y:={y}) ** (z:={z}) == {w + x * y ** z}\""
   ]
  },
  {
   "cell_type": "markdown",
   "metadata": {
    "ExecuteTime": {
     "end_time": "2022-02-01T01:25:28.538947Z",
     "start_time": "2022-02-01T01:25:28.511102Z"
    }
   },
   "source": [
    "## parameter subsets and reordering"
   ]
  },
  {
   "cell_type": "code",
   "execution_count": 38,
   "metadata": {
    "ExecuteTime": {
     "end_time": "2022-02-02T17:59:01.654987Z",
     "start_time": "2022-02-02T17:59:01.625748Z"
    }
   },
   "outputs": [],
   "source": [
    "from i2.wrapper import Ingress, Wrap, wrap\n",
    "from i2 import Sig\n",
    "\n",
    "def include_exclude_ingress_factory(func, include=None, exclude=None):\n",
    "    \"\"\"A pattern underlying any ingress that takes a subset of parameters (possibly reordering them).\n",
    "    For example: Keep only required arguments, or reorder params to be able to \n",
    "    partialize #3 (without having to partialize #1 and #2)\n",
    "    Note: A more general version would allow include and exclude to be expressed as functions \n",
    "    that apply to one or several properties of the params (name, kind, default, annotation).\n",
    "    \"\"\"\n",
    "    sig = Sig(func)\n",
    "    exclude = exclude or set()\n",
    "    include = [x for x in (include or sig.names) if x not in exclude]\n",
    "    \n",
    "    return Ingress(\n",
    "        inner_sig=sig,\n",
    "        outer_sig=sig[include]\n",
    "    )\n"
   ]
  },
  {
   "cell_type": "code",
   "execution_count": 39,
   "metadata": {
    "ExecuteTime": {
     "end_time": "2022-02-02T17:59:02.584266Z",
     "start_time": "2022-02-02T17:59:02.553602Z"
    }
   },
   "outputs": [
    {
     "data": {
      "text/plain": [
       "((), {'w': 2, 'x': 1, 'y': 2, 'z': 3})"
      ]
     },
     "execution_count": 39,
     "metadata": {},
     "output_type": "execute_result"
    }
   ],
   "source": [
    "def ff(w, x: float, y=2, z: int = 3):\n",
    "    return f\"(w:={w}) + (x:={x}) * (y:={y}) ** (z:={z}) == {w + x * y ** z}\"\n",
    "\n",
    "ing = include_exclude_ingress_factory(ff, include=['x', 'w'])\n",
    "ing(1, 2)"
   ]
  },
  {
   "cell_type": "code",
   "execution_count": 41,
   "metadata": {
    "ExecuteTime": {
     "end_time": "2022-02-02T17:59:20.384714Z",
     "start_time": "2022-02-02T17:59:20.354834Z"
    }
   },
   "outputs": [
    {
     "data": {
      "text/plain": [
       "<Sig (func)>"
      ]
     },
     "execution_count": 41,
     "metadata": {},
     "output_type": "execute_result"
    }
   ],
   "source": [
    "from i2.wrapper import MakeFromFunc\n",
    "x_then_w_ingress_factory = partial(include_exclude_ingress_factory, include=['x', 'w'])\n",
    "\n",
    "wrapped_ff = wrap(ff, ingress=MakeFromFunc(x_then_w_ingress_factory))\n",
    "Sig(wrapped_ff)"
   ]
  },
  {
   "cell_type": "code",
   "execution_count": 42,
   "metadata": {
    "ExecuteTime": {
     "end_time": "2022-02-02T17:59:28.560773Z",
     "start_time": "2022-02-02T17:59:28.529551Z"
    }
   },
   "outputs": [],
   "source": [
    "wrapped_ff = wrap(ff, ingress=x_then_w_ingress_factory(ff))"
   ]
  },
  {
   "cell_type": "code",
   "execution_count": 43,
   "metadata": {
    "ExecuteTime": {
     "end_time": "2022-02-02T17:59:30.249365Z",
     "start_time": "2022-02-02T17:59:30.222283Z"
    }
   },
   "outputs": [],
   "source": [
    "def keep_only_required(func):\n",
    "    sig = Sig(func)\n",
    "    include = [x for x in sig.names if x not in sig.defaults]\n",
    "    return partial(include_exclude_ingress_factory, include=include)\n",
    "#     return include_exclude_ingress_factory(func, include=include)"
   ]
  },
  {
   "cell_type": "code",
   "execution_count": 44,
   "metadata": {
    "ExecuteTime": {
     "end_time": "2022-02-02T17:59:30.729675Z",
     "start_time": "2022-02-02T17:59:30.701071Z"
    }
   },
   "outputs": [
    {
     "data": {
      "text/plain": [
       "<i2.wrapper.Wrap at 0x127759d30>"
      ]
     },
     "execution_count": 44,
     "metadata": {},
     "output_type": "execute_result"
    }
   ],
   "source": [
    "keep_only_required_wrap = partial(wrap, ingress=MakeFromFunc(keep_only_required))\n",
    "wrapped_ff = keep_only_required_wrap(ff)\n",
    "Sig(wrapped_ff)\n",
    "wrap(ff, ingress=MakeFromFunc(keep_only_required))"
   ]
  },
  {
   "cell_type": "code",
   "execution_count": 45,
   "metadata": {
    "ExecuteTime": {
     "end_time": "2022-02-02T17:59:31.493125Z",
     "start_time": "2022-02-02T17:59:31.466155Z"
    }
   },
   "outputs": [
    {
     "data": {
      "text/plain": [
       "<Sig (func, *, include=['w', 'x'], exclude=None)>"
      ]
     },
     "execution_count": 45,
     "metadata": {},
     "output_type": "execute_result"
    }
   ],
   "source": [
    "Sig(keep_only_required(ff))"
   ]
  },
  {
   "cell_type": "code",
   "execution_count": null,
   "metadata": {},
   "outputs": [],
   "source": []
  },
  {
   "cell_type": "code",
   "execution_count": null,
   "metadata": {
    "ExecuteTime": {
     "end_time": "2022-02-01T17:46:35.174520Z",
     "start_time": "2022-02-01T17:46:35.143500Z"
    }
   },
   "outputs": [],
   "source": []
  },
  {
   "cell_type": "code",
   "execution_count": 88,
   "metadata": {
    "ExecuteTime": {
     "end_time": "2022-02-01T17:47:18.948385Z",
     "start_time": "2022-02-01T17:47:18.770822Z"
    }
   },
   "outputs": [
    {
     "data": {
      "text/plain": [
       "<Sig (w: str, x: str, y: str = 2, z: str = 3)>"
      ]
     },
     "execution_count": 88,
     "metadata": {},
     "output_type": "execute_result"
    }
   ],
   "source": [
    "new_sig = sig.ch_annotations(**{name: str for name in sig.names})\n",
    "new_sig"
   ]
  },
  {
   "cell_type": "code",
   "execution_count": 134,
   "metadata": {
    "ExecuteTime": {
     "end_time": "2022-02-01T19:37:11.527765Z",
     "start_time": "2022-02-01T19:37:11.494211Z"
    }
   },
   "outputs": [
    {
     "data": {
      "text/plain": [
       "\"<class 'list'>, <class 'filter'>\""
      ]
     },
     "execution_count": 134,
     "metadata": {},
     "output_type": "execute_result"
    }
   ],
   "source": [
    "', '.join(map(str, [list, filter]))"
   ]
  },
  {
   "cell_type": "code",
   "execution_count": null,
   "metadata": {},
   "outputs": [],
   "source": [
    "def f(a, b):\n",
    "    return a + b\n",
    "\n",
    "def g(a_plus_b, b):\n",
    "    return a_plus_b * d"
   ]
  },
  {
   "cell_type": "code",
   "execution_count": 8,
   "metadata": {
    "ExecuteTime": {
     "end_time": "2022-02-01T20:19:33.160367Z",
     "start_time": "2022-02-01T20:19:33.129197Z"
    }
   },
   "outputs": [
    {
     "data": {
      "text/plain": [
       "LineParametrized(*value, sep=' ', end='\\n', file=<ipykernel.iostream.OutStream object at 0x10b1ad190>, flush=False)"
      ]
     },
     "execution_count": 8,
     "metadata": {},
     "output_type": "execute_result"
    }
   ],
   "source": [
    "from lined import Line #, LineParametrized\n",
    "from i2 import Sig\n",
    "\n",
    "Sig(LineParametrized)\n"
   ]
  },
  {
   "cell_type": "code",
   "execution_count": 15,
   "metadata": {
    "ExecuteTime": {
     "end_time": "2022-02-01T20:26:03.866624Z",
     "start_time": "2022-02-01T20:26:03.367123Z"
    }
   },
   "outputs": [
    {
     "data": {
      "image/svg+xml": [
       "<?xml version=\"1.0\" encoding=\"UTF-8\" standalone=\"no\"?>\n",
       "<!DOCTYPE svg PUBLIC \"-//W3C//DTD SVG 1.1//EN\"\n",
       " \"http://www.w3.org/Graphics/SVG/1.1/DTD/svg11.dtd\">\n",
       "<!-- Generated by graphviz version 2.49.3 (20211023.0002)\n",
       " -->\n",
       "<!-- Pages: 1 -->\n",
       "<svg width=\"170pt\" height=\"332pt\"\n",
       " viewBox=\"0.00 0.00 170.00 332.00\" xmlns=\"http://www.w3.org/2000/svg\" xmlns:xlink=\"http://www.w3.org/1999/xlink\">\n",
       "<g id=\"graph0\" class=\"graph\" transform=\"scale(1 1) rotate(0) translate(4 328)\">\n",
       "<polygon fill=\"white\" stroke=\"transparent\" points=\"-4,4 -4,-328 166,-328 166,4 -4,4\"/>\n",
       "<!-- f -->\n",
       "<g id=\"node1\" class=\"node\">\n",
       "<title>f</title>\n",
       "<text text-anchor=\"middle\" x=\"99\" y=\"-158.3\" font-family=\"Times,serif\" font-size=\"14.00\">f</text>\n",
       "</g>\n",
       "<!-- g_ -->\n",
       "<g id=\"node6\" class=\"node\">\n",
       "<title>g_</title>\n",
       "<polygon fill=\"none\" stroke=\"black\" points=\"90,-108 36,-108 36,-72 90,-72 90,-108\"/>\n",
       "<text text-anchor=\"middle\" x=\"63\" y=\"-86.3\" font-family=\"Times,serif\" font-size=\"14.00\">g_</text>\n",
       "</g>\n",
       "<!-- f&#45;&gt;g_ -->\n",
       "<g id=\"edge5\" class=\"edge\">\n",
       "<title>f&#45;&gt;g_</title>\n",
       "<path fill=\"none\" stroke=\"black\" d=\"M90.1,-143.7C86,-135.73 81.05,-126.1 76.51,-117.26\"/>\n",
       "<polygon fill=\"black\" stroke=\"black\" points=\"79.48,-115.4 71.8,-108.1 73.26,-118.6 79.48,-115.4\"/>\n",
       "</g>\n",
       "<!-- f_ -->\n",
       "<g id=\"node2\" class=\"node\">\n",
       "<title>f_</title>\n",
       "<polygon fill=\"none\" stroke=\"black\" points=\"126,-252 72,-252 72,-216 126,-216 126,-252\"/>\n",
       "<text text-anchor=\"middle\" x=\"99\" y=\"-230.3\" font-family=\"Times,serif\" font-size=\"14.00\">f_</text>\n",
       "</g>\n",
       "<!-- f_&#45;&gt;f -->\n",
       "<g id=\"edge1\" class=\"edge\">\n",
       "<title>f_&#45;&gt;f</title>\n",
       "<path fill=\"none\" stroke=\"black\" d=\"M99,-215.7C99,-207.98 99,-198.71 99,-190.11\"/>\n",
       "<polygon fill=\"black\" stroke=\"black\" points=\"102.5,-190.1 99,-180.1 95.5,-190.1 102.5,-190.1\"/>\n",
       "</g>\n",
       "<!-- a -->\n",
       "<g id=\"node3\" class=\"node\">\n",
       "<title>a</title>\n",
       "<text text-anchor=\"middle\" x=\"63\" y=\"-302.3\" font-family=\"Times,serif\" font-size=\"14.00\">a</text>\n",
       "</g>\n",
       "<!-- a&#45;&gt;f_ -->\n",
       "<g id=\"edge2\" class=\"edge\">\n",
       "<title>a&#45;&gt;f_</title>\n",
       "<path fill=\"none\" stroke=\"black\" d=\"M71.9,-287.7C76,-279.73 80.95,-270.1 85.49,-261.26\"/>\n",
       "<polygon fill=\"black\" stroke=\"black\" points=\"88.74,-262.6 90.2,-252.1 82.52,-259.4 88.74,-262.6\"/>\n",
       "</g>\n",
       "<!-- b -->\n",
       "<g id=\"node4\" class=\"node\">\n",
       "<title>b</title>\n",
       "<text text-anchor=\"middle\" x=\"135\" y=\"-302.3\" font-family=\"Times,serif\" font-size=\"14.00\">b</text>\n",
       "</g>\n",
       "<!-- b&#45;&gt;f_ -->\n",
       "<g id=\"edge3\" class=\"edge\">\n",
       "<title>b&#45;&gt;f_</title>\n",
       "<path fill=\"none\" stroke=\"black\" d=\"M126.1,-287.7C122,-279.73 117.05,-270.1 112.51,-261.26\"/>\n",
       "<polygon fill=\"black\" stroke=\"black\" points=\"115.48,-259.4 107.8,-252.1 109.26,-262.6 115.48,-259.4\"/>\n",
       "</g>\n",
       "<!-- g -->\n",
       "<g id=\"node5\" class=\"node\">\n",
       "<title>g</title>\n",
       "<text text-anchor=\"middle\" x=\"63\" y=\"-14.3\" font-family=\"Times,serif\" font-size=\"14.00\">g</text>\n",
       "</g>\n",
       "<!-- g_&#45;&gt;g -->\n",
       "<g id=\"edge4\" class=\"edge\">\n",
       "<title>g_&#45;&gt;g</title>\n",
       "<path fill=\"none\" stroke=\"black\" d=\"M63,-71.7C63,-63.98 63,-54.71 63,-46.11\"/>\n",
       "<polygon fill=\"black\" stroke=\"black\" points=\"66.5,-46.1 63,-36.1 59.5,-46.1 66.5,-46.1\"/>\n",
       "</g>\n",
       "<!-- d -->\n",
       "<g id=\"node7\" class=\"node\">\n",
       "<title>d</title>\n",
       "<text text-anchor=\"middle\" x=\"27\" y=\"-158.3\" font-family=\"Times,serif\" font-size=\"14.00\">d=</text>\n",
       "</g>\n",
       "<!-- d&#45;&gt;g_ -->\n",
       "<g id=\"edge6\" class=\"edge\">\n",
       "<title>d&#45;&gt;g_</title>\n",
       "<path fill=\"none\" stroke=\"black\" d=\"M35.9,-143.7C40,-135.73 44.95,-126.1 49.49,-117.26\"/>\n",
       "<polygon fill=\"black\" stroke=\"black\" points=\"52.74,-118.6 54.2,-108.1 46.52,-115.4 52.74,-118.6\"/>\n",
       "</g>\n",
       "</g>\n",
       "</svg>\n"
      ],
      "text/plain": [
       "<graphviz.graphs.Digraph at 0x124f2a520>"
      ]
     },
     "execution_count": 15,
     "metadata": {},
     "output_type": "execute_result"
    }
   ],
   "source": [
    "# def make_line(*funcs):\n",
    "#     # make it with DAG\n",
    "#     # --> boils down to making the FuncNodes\n",
    "#     func_nodes = [\n",
    "#         FuncNode(func, out=f\"_{i}\", bind={f\"_{i}\": f\"_{i + 1}\"}) for i, func in enumerate(funcs, 1)\n",
    "#     ]\n",
    "#     return func_nodes\n",
    "\n",
    "\n",
    "def f(a, b):\n",
    "    return a + b\n",
    "\n",
    "def g(f, d=2):\n",
    "    return a_plus_b * d\n",
    "\n",
    "\n",
    "DAG((f, g)).dot_digraph()"
   ]
  },
  {
   "cell_type": "markdown",
   "metadata": {},
   "source": [
    "# Scrap"
   ]
  },
  {
   "cell_type": "code",
   "execution_count": 127,
   "metadata": {
    "ExecuteTime": {
     "end_time": "2022-02-01T18:29:25.967435Z",
     "start_time": "2022-02-01T18:29:25.937361Z"
    }
   },
   "outputs": [],
   "source": [
    "def f(x: list) -> float:\n",
    "    return np.mean(x)\n",
    "\n",
    "def chunks(x: list, chk_size=2):\n",
    "    yield from zip(*[iter(x)] * chk_size)\n",
    "    \n",
    "def expected_wrapped_f(x: list):\n",
    "    return [f(chk) for chk in chunks(x)]\n",
    "\n",
    "x = [1, 2, 3, 4]\n",
    "assert f(x) == 2.5\n",
    "assert expected_wrapped_f(x) == [1.5, 3.5]"
   ]
  },
  {
   "cell_type": "code",
   "execution_count": 131,
   "metadata": {
    "ExecuteTime": {
     "end_time": "2022-02-01T18:33:43.198435Z",
     "start_time": "2022-02-01T18:33:43.168377Z"
    }
   },
   "outputs": [
    {
     "data": {
      "text/plain": [
       "[1.0, 2.0, 3.0, 4.0]"
      ]
     },
     "execution_count": 131,
     "metadata": {},
     "output_type": "execute_result"
    }
   ],
   "source": [
    "from i2 import Pipe\n",
    "t = Pipe(partial(map, f), list)\n",
    "list(t(x))"
   ]
  },
  {
   "cell_type": "code",
   "execution_count": null,
   "metadata": {},
   "outputs": [],
   "source": []
  },
  {
   "cell_type": "code",
   "execution_count": null,
   "metadata": {},
   "outputs": [],
   "source": []
  },
  {
   "cell_type": "code",
   "execution_count": null,
   "metadata": {},
   "outputs": [],
   "source": []
  },
  {
   "cell_type": "markdown",
   "metadata": {},
   "source": [
    "## grouping nodes in graphviz graphs"
   ]
  },
  {
   "cell_type": "code",
   "execution_count": 26,
   "metadata": {
    "ExecuteTime": {
     "end_time": "2022-01-31T22:56:34.974219Z",
     "start_time": "2022-01-31T22:56:34.683140Z"
    }
   },
   "outputs": [
    {
     "data": {
      "image/svg+xml": [
       "<?xml version=\"1.0\" encoding=\"UTF-8\" standalone=\"no\"?>\n",
       "<!DOCTYPE svg PUBLIC \"-//W3C//DTD SVG 1.1//EN\"\n",
       " \"http://www.w3.org/Graphics/SVG/1.1/DTD/svg11.dtd\">\n",
       "<!-- Generated by graphviz version 2.49.3 (20211023.0002)\n",
       " -->\n",
       "<!-- Title: G Pages: 1 -->\n",
       "<svg width=\"376pt\" height=\"194pt\"\n",
       " viewBox=\"0.00 0.00 376.00 194.00\" xmlns=\"http://www.w3.org/2000/svg\" xmlns:xlink=\"http://www.w3.org/1999/xlink\">\n",
       "<g id=\"graph0\" class=\"graph\" transform=\"scale(1 1) rotate(0) translate(4 190)\">\n",
       "<title>G</title>\n",
       "<polygon fill=\"white\" stroke=\"transparent\" points=\"-4,4 -4,-190 372,-190 372,4 -4,4\"/>\n",
       "<g id=\"clust1\" class=\"cluster\">\n",
       "<title>cluster_0</title>\n",
       "<polygon fill=\"none\" stroke=\"black\" points=\"8,-103 8,-178 360,-178 360,-103 8,-103\"/>\n",
       "<text text-anchor=\"middle\" x=\"184\" y=\"-162.8\" font-family=\"Times,serif\" font-size=\"14.00\">new signature</text>\n",
       "</g>\n",
       "<g id=\"clust2\" class=\"cluster\">\n",
       "<title>cluster_1</title>\n",
       "<polygon fill=\"none\" stroke=\"black\" points=\"8,-8 8,-83 360,-83 360,-8 8,-8\"/>\n",
       "<text text-anchor=\"middle\" x=\"184\" y=\"-15.8\" font-family=\"Times,serif\" font-size=\"14.00\">old signature</text>\n",
       "</g>\n",
       "<!-- outer_arg0 -->\n",
       "<g id=\"node1\" class=\"node\">\n",
       "<title>outer_arg0</title>\n",
       "<ellipse fill=\"white\" stroke=\"white\" cx=\"302\" cy=\"-129\" rx=\"50.09\" ry=\"18\"/>\n",
       "<text text-anchor=\"middle\" x=\"302\" y=\"-125.3\" font-family=\"Times,serif\" font-size=\"14.00\">outer_arg0</text>\n",
       "</g>\n",
       "<!-- inner_arg0 -->\n",
       "<g id=\"node4\" class=\"node\">\n",
       "<title>inner_arg0</title>\n",
       "<ellipse fill=\"white\" stroke=\"white\" cx=\"302\" cy=\"-57\" rx=\"50.09\" ry=\"18\"/>\n",
       "<text text-anchor=\"middle\" x=\"302\" y=\"-53.3\" font-family=\"Times,serif\" font-size=\"14.00\">inner_arg0</text>\n",
       "</g>\n",
       "<!-- outer_arg0&#45;&gt;inner_arg0 -->\n",
       "<g id=\"edge1\" class=\"edge\">\n",
       "<title>outer_arg0&#45;&gt;inner_arg0</title>\n",
       "<path fill=\"none\" stroke=\"black\" d=\"M302,-110.7C302,-102.98 302,-93.71 302,-85.11\"/>\n",
       "<polygon fill=\"black\" stroke=\"black\" points=\"305.5,-85.1 302,-75.1 298.5,-85.1 305.5,-85.1\"/>\n",
       "</g>\n",
       "<!-- outer_arg1 -->\n",
       "<g id=\"node2\" class=\"node\">\n",
       "<title>outer_arg1</title>\n",
       "<ellipse fill=\"white\" stroke=\"white\" cx=\"184\" cy=\"-129\" rx=\"50.09\" ry=\"18\"/>\n",
       "<text text-anchor=\"middle\" x=\"184\" y=\"-125.3\" font-family=\"Times,serif\" font-size=\"14.00\">outer_arg1</text>\n",
       "</g>\n",
       "<!-- inner_arg1 -->\n",
       "<g id=\"node5\" class=\"node\">\n",
       "<title>inner_arg1</title>\n",
       "<ellipse fill=\"white\" stroke=\"white\" cx=\"184\" cy=\"-57\" rx=\"50.09\" ry=\"18\"/>\n",
       "<text text-anchor=\"middle\" x=\"184\" y=\"-53.3\" font-family=\"Times,serif\" font-size=\"14.00\">inner_arg1</text>\n",
       "</g>\n",
       "<!-- outer_arg1&#45;&gt;inner_arg1 -->\n",
       "<g id=\"edge2\" class=\"edge\">\n",
       "<title>outer_arg1&#45;&gt;inner_arg1</title>\n",
       "<path fill=\"none\" stroke=\"black\" d=\"M184,-110.7C184,-102.98 184,-93.71 184,-85.11\"/>\n",
       "<polygon fill=\"black\" stroke=\"black\" points=\"187.5,-85.1 184,-75.1 180.5,-85.1 187.5,-85.1\"/>\n",
       "</g>\n",
       "<!-- outer_arg2 -->\n",
       "<g id=\"node3\" class=\"node\">\n",
       "<title>outer_arg2</title>\n",
       "<ellipse fill=\"white\" stroke=\"white\" cx=\"66\" cy=\"-129\" rx=\"50.09\" ry=\"18\"/>\n",
       "<text text-anchor=\"middle\" x=\"66\" y=\"-125.3\" font-family=\"Times,serif\" font-size=\"14.00\">outer_arg2</text>\n",
       "</g>\n",
       "<!-- inner_arg2 -->\n",
       "<g id=\"node6\" class=\"node\">\n",
       "<title>inner_arg2</title>\n",
       "<ellipse fill=\"white\" stroke=\"white\" cx=\"66\" cy=\"-57\" rx=\"50.09\" ry=\"18\"/>\n",
       "<text text-anchor=\"middle\" x=\"66\" y=\"-53.3\" font-family=\"Times,serif\" font-size=\"14.00\">inner_arg2</text>\n",
       "</g>\n",
       "<!-- outer_arg2&#45;&gt;inner_arg2 -->\n",
       "<g id=\"edge3\" class=\"edge\">\n",
       "<title>outer_arg2&#45;&gt;inner_arg2</title>\n",
       "<path fill=\"none\" stroke=\"black\" d=\"M66,-110.7C66,-102.98 66,-93.71 66,-85.11\"/>\n",
       "<polygon fill=\"black\" stroke=\"black\" points=\"69.5,-85.1 66,-75.1 62.5,-85.1 69.5,-85.1\"/>\n",
       "</g>\n",
       "</g>\n",
       "</svg>\n"
      ],
      "text/plain": [
       "<graphviz.sources.Source at 0x129a292b0>"
      ]
     },
     "execution_count": 26,
     "metadata": {},
     "output_type": "execute_result"
    }
   ],
   "source": [
    "from graphviz import Source\n",
    "\n",
    "\n",
    "Source(\"\"\"\n",
    "digraph G {\n",
    "\tsubgraph cluster_0 {\n",
    "        node [style=filled, color=white];\n",
    "        outer_arg0, outer_arg1, outer_arg2\n",
    "\t\tlabel = \"new signature\";\n",
    "\t}\n",
    "    \n",
    "\tsubgraph cluster_1 {\n",
    "        node [style=filled, color=white];\n",
    "        inner_arg0, inner_arg1, inner_arg2\n",
    "\t\tlabel = \"old signature\";\n",
    "        labelloc=\"b\"\n",
    "\t}\n",
    "\n",
    "    outer_arg0 -> inner_arg0\n",
    "    outer_arg1 -> inner_arg1\n",
    "    outer_arg2 -> inner_arg2\n",
    "}\n",
    "\"\"\")"
   ]
  },
  {
   "cell_type": "code",
   "execution_count": 41,
   "metadata": {
    "ExecuteTime": {
     "end_time": "2022-01-31T23:15:47.031077Z",
     "start_time": "2022-01-31T23:15:46.742338Z"
    }
   },
   "outputs": [
    {
     "data": {
      "image/svg+xml": [
       "<?xml version=\"1.0\" encoding=\"UTF-8\" standalone=\"no\"?>\n",
       "<!DOCTYPE svg PUBLIC \"-//W3C//DTD SVG 1.1//EN\"\n",
       " \"http://www.w3.org/Graphics/SVG/1.1/DTD/svg11.dtd\">\n",
       "<!-- Generated by graphviz version 2.49.3 (20211023.0002)\n",
       " -->\n",
       "<!-- Title: G Pages: 1 -->\n",
       "<svg width=\"188pt\" height=\"266pt\"\n",
       " viewBox=\"0.00 0.00 188.00 266.00\" xmlns=\"http://www.w3.org/2000/svg\" xmlns:xlink=\"http://www.w3.org/1999/xlink\">\n",
       "<g id=\"graph0\" class=\"graph\" transform=\"scale(1 1) rotate(0) translate(4 262)\">\n",
       "<title>G</title>\n",
       "<polygon fill=\"white\" stroke=\"transparent\" points=\"-4,4 -4,-262 184,-262 184,4 -4,4\"/>\n",
       "<g id=\"clust1\" class=\"cluster\">\n",
       "<title>cluster_0</title>\n",
       "<polygon fill=\"none\" stroke=\"black\" points=\"12,-175 12,-250 172,-250 172,-175 12,-175\"/>\n",
       "<text text-anchor=\"middle\" x=\"92\" y=\"-234.8\" font-family=\"Times,serif\" font-size=\"14.00\">new signature</text>\n",
       "</g>\n",
       "<g id=\"clust2\" class=\"cluster\">\n",
       "<title>cluster_1</title>\n",
       "<polygon fill=\"none\" stroke=\"black\" points=\"12,-8 12,-83 172,-83 172,-8 12,-8\"/>\n",
       "<text text-anchor=\"middle\" x=\"92\" y=\"-15.8\" font-family=\"Times,serif\" font-size=\"14.00\">old signature</text>\n",
       "</g>\n",
       "<!-- outer_arg0 -->\n",
       "<g id=\"node1\" class=\"node\">\n",
       "<title>outer_arg0</title>\n",
       "<ellipse fill=\"white\" stroke=\"white\" cx=\"38\" cy=\"-201\" rx=\"18\" ry=\"18\"/>\n",
       "</g>\n",
       "<!-- val_trans -->\n",
       "<g id=\"node7\" class=\"node\">\n",
       "<title>val_trans</title>\n",
       "<polygon fill=\"none\" stroke=\"black\" points=\"68,-147 0,-147 0,-111 68,-111 68,-147\"/>\n",
       "<text text-anchor=\"middle\" x=\"34\" y=\"-125.3\" font-family=\"Times,serif\" font-size=\"14.00\">val_trans</text>\n",
       "</g>\n",
       "<!-- outer_arg0&#45;&gt;val_trans -->\n",
       "<g id=\"edge1\" class=\"edge\">\n",
       "<title>outer_arg0&#45;&gt;val_trans</title>\n",
       "<path fill=\"none\" stroke=\"black\" d=\"M37.01,-182.7C36.57,-174.98 36.04,-165.71 35.55,-157.11\"/>\n",
       "<polygon fill=\"black\" stroke=\"black\" points=\"39.04,-156.89 34.98,-147.1 32.05,-157.29 39.04,-156.89\"/>\n",
       "</g>\n",
       "<!-- outer_arg1 -->\n",
       "<g id=\"node2\" class=\"node\">\n",
       "<title>outer_arg1</title>\n",
       "<ellipse fill=\"white\" stroke=\"white\" cx=\"92\" cy=\"-201\" rx=\"18\" ry=\"18\"/>\n",
       "</g>\n",
       "<!-- inner_arg1 -->\n",
       "<g id=\"node5\" class=\"node\">\n",
       "<title>inner_arg1</title>\n",
       "<ellipse fill=\"black\" stroke=\"black\" cx=\"92\" cy=\"-57\" rx=\"18\" ry=\"18\"/>\n",
       "</g>\n",
       "<!-- outer_arg1&#45;&gt;inner_arg1 -->\n",
       "<g id=\"edge3\" class=\"edge\">\n",
       "<title>outer_arg1&#45;&gt;inner_arg1</title>\n",
       "<path fill=\"none\" stroke=\"black\" d=\"M92,-182.87C92,-158.67 92,-114.21 92,-85.39\"/>\n",
       "<polygon fill=\"black\" stroke=\"black\" points=\"95.5,-85.19 92,-75.19 88.5,-85.19 95.5,-85.19\"/>\n",
       "</g>\n",
       "<!-- outer_arg2 -->\n",
       "<g id=\"node3\" class=\"node\">\n",
       "<title>outer_arg2</title>\n",
       "<ellipse fill=\"white\" stroke=\"white\" cx=\"146\" cy=\"-201\" rx=\"18\" ry=\"18\"/>\n",
       "</g>\n",
       "<!-- inner_arg2 -->\n",
       "<g id=\"node6\" class=\"node\">\n",
       "<title>inner_arg2</title>\n",
       "<ellipse fill=\"black\" stroke=\"black\" cx=\"146\" cy=\"-57\" rx=\"18\" ry=\"18\"/>\n",
       "</g>\n",
       "<!-- outer_arg2&#45;&gt;inner_arg2 -->\n",
       "<g id=\"edge4\" class=\"edge\">\n",
       "<title>outer_arg2&#45;&gt;inner_arg2</title>\n",
       "<path fill=\"none\" stroke=\"black\" d=\"M146,-182.87C146,-158.67 146,-114.21 146,-85.39\"/>\n",
       "<polygon fill=\"black\" stroke=\"black\" points=\"149.5,-85.19 146,-75.19 142.5,-85.19 149.5,-85.19\"/>\n",
       "</g>\n",
       "<!-- inner_arg0 -->\n",
       "<g id=\"node4\" class=\"node\">\n",
       "<title>inner_arg0</title>\n",
       "<ellipse fill=\"black\" stroke=\"black\" cx=\"38\" cy=\"-57\" rx=\"18\" ry=\"18\"/>\n",
       "</g>\n",
       "<!-- val_trans&#45;&gt;inner_arg0 -->\n",
       "<g id=\"edge2\" class=\"edge\">\n",
       "<title>val_trans&#45;&gt;inner_arg0</title>\n",
       "<path fill=\"none\" stroke=\"black\" d=\"M34.99,-110.7C35.43,-102.98 35.96,-93.71 36.45,-85.11\"/>\n",
       "<polygon fill=\"black\" stroke=\"black\" points=\"39.95,-85.29 37.02,-75.1 32.96,-84.89 39.95,-85.29\"/>\n",
       "</g>\n",
       "</g>\n",
       "</svg>\n"
      ],
      "text/plain": [
       "<graphviz.sources.Source at 0x129a29730>"
      ]
     },
     "execution_count": 41,
     "metadata": {},
     "output_type": "execute_result"
    }
   ],
   "source": [
    "from graphviz import Source\n",
    "\n",
    "\n",
    "Source(\"\"\"\n",
    "digraph G {\n",
    "\tsubgraph cluster_0 {\n",
    "        node [label=\"\" shape=circle style=filled color=white];\n",
    "        node [style=filled, color=white];\n",
    "        outer_arg0, outer_arg1, outer_arg2\n",
    "\t\tlabel = \"new signature\";\n",
    "\t}\n",
    "    \n",
    "\tsubgraph cluster_1 {\n",
    "        node [label=\"\" shape=circle style=filled color=black];\n",
    "        inner_arg0, inner_arg1, inner_arg2\n",
    "\t\tlabel = \"old signature\";\n",
    "        labelloc=\"b\"\n",
    "\t}\n",
    "\n",
    "    outer_arg0 -> val_trans -> inner_arg0\n",
    "    val_trans [shape=\"box\"]\n",
    "    outer_arg1 -> inner_arg1\n",
    "    outer_arg2 -> inner_arg2\n",
    "    \n",
    "    inner_arg2 [label=\"\" shape=\"circle\" style=\"filled\" color=black]\n",
    "}\n",
    "\n",
    "\"\"\")"
   ]
  },
  {
   "cell_type": "code",
   "execution_count": 19,
   "metadata": {
    "ExecuteTime": {
     "end_time": "2022-01-31T22:50:46.296054Z",
     "start_time": "2022-01-31T22:50:46.011310Z"
    }
   },
   "outputs": [
    {
     "data": {
      "image/svg+xml": [
       "<?xml version=\"1.0\" encoding=\"UTF-8\" standalone=\"no\"?>\n",
       "<!DOCTYPE svg PUBLIC \"-//W3C//DTD SVG 1.1//EN\"\n",
       " \"http://www.w3.org/Graphics/SVG/1.1/DTD/svg11.dtd\">\n",
       "<!-- Generated by graphviz version 2.49.3 (20211023.0002)\n",
       " -->\n",
       "<!-- Title: G Pages: 1 -->\n",
       "<svg width=\"224pt\" height=\"408pt\"\n",
       " viewBox=\"0.00 0.00 224.00 408.00\" xmlns=\"http://www.w3.org/2000/svg\" xmlns:xlink=\"http://www.w3.org/1999/xlink\">\n",
       "<g id=\"graph0\" class=\"graph\" transform=\"scale(1 1) rotate(0) translate(4 404)\">\n",
       "<title>G</title>\n",
       "<polygon fill=\"white\" stroke=\"transparent\" points=\"-4,4 -4,-404 220,-404 220,4 -4,4\"/>\n",
       "<g id=\"clust1\" class=\"cluster\">\n",
       "<title>cluster_0</title>\n",
       "<polygon fill=\"lightgrey\" stroke=\"lightgrey\" points=\"8,-65 8,-356 98,-356 98,-65 8,-65\"/>\n",
       "<text text-anchor=\"middle\" x=\"53\" y=\"-340.8\" font-family=\"Times,serif\" font-size=\"14.00\">process #1</text>\n",
       "</g>\n",
       "<g id=\"clust2\" class=\"cluster\">\n",
       "<title>cluster_1</title>\n",
       "<polygon fill=\"none\" stroke=\"blue\" points=\"132,-65 132,-356 208,-356 208,-65 132,-65\"/>\n",
       "<text text-anchor=\"middle\" x=\"170\" y=\"-340.8\" font-family=\"Times,serif\" font-size=\"14.00\">process #2</text>\n",
       "</g>\n",
       "<!-- a0 -->\n",
       "<g id=\"node1\" class=\"node\">\n",
       "<title>a0</title>\n",
       "<ellipse fill=\"white\" stroke=\"white\" cx=\"63\" cy=\"-307\" rx=\"27\" ry=\"18\"/>\n",
       "<text text-anchor=\"middle\" x=\"63\" y=\"-303.3\" font-family=\"Times,serif\" font-size=\"14.00\">a0</text>\n",
       "</g>\n",
       "<!-- a1 -->\n",
       "<g id=\"node2\" class=\"node\">\n",
       "<title>a1</title>\n",
       "<ellipse fill=\"white\" stroke=\"white\" cx=\"63\" cy=\"-235\" rx=\"27\" ry=\"18\"/>\n",
       "<text text-anchor=\"middle\" x=\"63\" y=\"-231.3\" font-family=\"Times,serif\" font-size=\"14.00\">a1</text>\n",
       "</g>\n",
       "<!-- a0&#45;&gt;a1 -->\n",
       "<g id=\"edge1\" class=\"edge\">\n",
       "<title>a0&#45;&gt;a1</title>\n",
       "<path fill=\"none\" stroke=\"black\" d=\"M63,-288.7C63,-280.98 63,-271.71 63,-263.11\"/>\n",
       "<polygon fill=\"black\" stroke=\"black\" points=\"66.5,-263.1 63,-253.1 59.5,-263.1 66.5,-263.1\"/>\n",
       "</g>\n",
       "<!-- a2 -->\n",
       "<g id=\"node3\" class=\"node\">\n",
       "<title>a2</title>\n",
       "<ellipse fill=\"white\" stroke=\"white\" cx=\"63\" cy=\"-163\" rx=\"27\" ry=\"18\"/>\n",
       "<text text-anchor=\"middle\" x=\"63\" y=\"-159.3\" font-family=\"Times,serif\" font-size=\"14.00\">a2</text>\n",
       "</g>\n",
       "<!-- a1&#45;&gt;a2 -->\n",
       "<g id=\"edge2\" class=\"edge\">\n",
       "<title>a1&#45;&gt;a2</title>\n",
       "<path fill=\"none\" stroke=\"black\" d=\"M63,-216.7C63,-208.98 63,-199.71 63,-191.11\"/>\n",
       "<polygon fill=\"black\" stroke=\"black\" points=\"66.5,-191.1 63,-181.1 59.5,-191.1 66.5,-191.1\"/>\n",
       "</g>\n",
       "<!-- b3 -->\n",
       "<g id=\"node8\" class=\"node\">\n",
       "<title>b3</title>\n",
       "<ellipse fill=\"lightgrey\" stroke=\"black\" cx=\"167\" cy=\"-91\" rx=\"27\" ry=\"18\"/>\n",
       "<text text-anchor=\"middle\" x=\"167\" y=\"-87.3\" font-family=\"Times,serif\" font-size=\"14.00\">b3</text>\n",
       "</g>\n",
       "<!-- a1&#45;&gt;b3 -->\n",
       "<g id=\"edge9\" class=\"edge\">\n",
       "<title>a1&#45;&gt;b3</title>\n",
       "<path fill=\"none\" stroke=\"black\" d=\"M74.33,-218.53C92.46,-193.78 128.12,-145.08 149.53,-115.85\"/>\n",
       "<polygon fill=\"black\" stroke=\"black\" points=\"152.6,-117.58 155.69,-107.45 146.95,-113.45 152.6,-117.58\"/>\n",
       "</g>\n",
       "<!-- a3 -->\n",
       "<g id=\"node4\" class=\"node\">\n",
       "<title>a3</title>\n",
       "<ellipse fill=\"white\" stroke=\"white\" cx=\"63\" cy=\"-91\" rx=\"27\" ry=\"18\"/>\n",
       "<text text-anchor=\"middle\" x=\"63\" y=\"-87.3\" font-family=\"Times,serif\" font-size=\"14.00\">a3</text>\n",
       "</g>\n",
       "<!-- a2&#45;&gt;a3 -->\n",
       "<g id=\"edge3\" class=\"edge\">\n",
       "<title>a2&#45;&gt;a3</title>\n",
       "<path fill=\"none\" stroke=\"black\" d=\"M63,-144.7C63,-136.98 63,-127.71 63,-119.11\"/>\n",
       "<polygon fill=\"black\" stroke=\"black\" points=\"66.5,-119.1 63,-109.1 59.5,-119.1 66.5,-119.1\"/>\n",
       "</g>\n",
       "<!-- a3&#45;&gt;a0 -->\n",
       "<g id=\"edge11\" class=\"edge\">\n",
       "<title>a3&#45;&gt;a0</title>\n",
       "<path fill=\"none\" stroke=\"black\" d=\"M49.25,-106.93C41.04,-116.9 31.38,-130.75 27,-145 12.89,-190.88 12.89,-207.12 27,-253 30.29,-263.69 36.54,-274.15 42.93,-282.92\"/>\n",
       "<polygon fill=\"black\" stroke=\"black\" points=\"40.35,-285.31 49.25,-291.07 45.88,-281.02 40.35,-285.31\"/>\n",
       "</g>\n",
       "<!-- end -->\n",
       "<g id=\"node10\" class=\"node\">\n",
       "<title>end</title>\n",
       "<polygon fill=\"none\" stroke=\"black\" points=\"133.5,-37 96.5,-37 96.5,0 133.5,0 133.5,-37\"/>\n",
       "<polyline fill=\"none\" stroke=\"black\" points=\"108.5,-37 96.5,-25 \"/>\n",
       "<polyline fill=\"none\" stroke=\"black\" points=\"96.5,-12 108.5,0 \"/>\n",
       "<polyline fill=\"none\" stroke=\"black\" points=\"121.5,0 133.5,-12 \"/>\n",
       "<polyline fill=\"none\" stroke=\"black\" points=\"133.5,-25 121.5,-37 \"/>\n",
       "<text text-anchor=\"middle\" x=\"115\" y=\"-14.8\" font-family=\"Times,serif\" font-size=\"14.00\">end</text>\n",
       "</g>\n",
       "<!-- a3&#45;&gt;end -->\n",
       "<g id=\"edge12\" class=\"edge\">\n",
       "<title>a3&#45;&gt;end</title>\n",
       "<path fill=\"none\" stroke=\"black\" d=\"M74.54,-74.35C80.84,-65.82 88.79,-55.04 95.97,-45.3\"/>\n",
       "<polygon fill=\"black\" stroke=\"black\" points=\"98.91,-47.21 102.03,-37.09 93.28,-43.06 98.91,-47.21\"/>\n",
       "</g>\n",
       "<!-- b0 -->\n",
       "<g id=\"node5\" class=\"node\">\n",
       "<title>b0</title>\n",
       "<ellipse fill=\"lightgrey\" stroke=\"black\" cx=\"167\" cy=\"-307\" rx=\"27\" ry=\"18\"/>\n",
       "<text text-anchor=\"middle\" x=\"167\" y=\"-303.3\" font-family=\"Times,serif\" font-size=\"14.00\">b0</text>\n",
       "</g>\n",
       "<!-- b1 -->\n",
       "<g id=\"node6\" class=\"node\">\n",
       "<title>b1</title>\n",
       "<ellipse fill=\"lightgrey\" stroke=\"black\" cx=\"170\" cy=\"-235\" rx=\"27\" ry=\"18\"/>\n",
       "<text text-anchor=\"middle\" x=\"170\" y=\"-231.3\" font-family=\"Times,serif\" font-size=\"14.00\">b1</text>\n",
       "</g>\n",
       "<!-- b0&#45;&gt;b1 -->\n",
       "<g id=\"edge4\" class=\"edge\">\n",
       "<title>b0&#45;&gt;b1</title>\n",
       "<path fill=\"none\" stroke=\"black\" d=\"M167.74,-288.7C168.07,-280.98 168.47,-271.71 168.84,-263.11\"/>\n",
       "<polygon fill=\"black\" stroke=\"black\" points=\"172.34,-263.25 169.27,-253.1 165.34,-262.95 172.34,-263.25\"/>\n",
       "</g>\n",
       "<!-- b2 -->\n",
       "<g id=\"node7\" class=\"node\">\n",
       "<title>b2</title>\n",
       "<ellipse fill=\"lightgrey\" stroke=\"black\" cx=\"173\" cy=\"-163\" rx=\"27\" ry=\"18\"/>\n",
       "<text text-anchor=\"middle\" x=\"173\" y=\"-159.3\" font-family=\"Times,serif\" font-size=\"14.00\">b2</text>\n",
       "</g>\n",
       "<!-- b1&#45;&gt;b2 -->\n",
       "<g id=\"edge5\" class=\"edge\">\n",
       "<title>b1&#45;&gt;b2</title>\n",
       "<path fill=\"none\" stroke=\"black\" d=\"M170.74,-216.7C171.07,-208.98 171.47,-199.71 171.84,-191.11\"/>\n",
       "<polygon fill=\"black\" stroke=\"black\" points=\"175.34,-191.25 172.27,-181.1 168.34,-190.95 175.34,-191.25\"/>\n",
       "</g>\n",
       "<!-- b2&#45;&gt;a3 -->\n",
       "<g id=\"edge10\" class=\"edge\">\n",
       "<title>b2&#45;&gt;a3</title>\n",
       "<path fill=\"none\" stroke=\"black\" d=\"M153.84,-149.81C136.33,-138.67 110.24,-122.06 90.51,-109.5\"/>\n",
       "<polygon fill=\"black\" stroke=\"black\" points=\"92.26,-106.47 81.94,-104.05 88.5,-112.37 92.26,-106.47\"/>\n",
       "</g>\n",
       "<!-- b2&#45;&gt;b3 -->\n",
       "<g id=\"edge6\" class=\"edge\">\n",
       "<title>b2&#45;&gt;b3</title>\n",
       "<path fill=\"none\" stroke=\"black\" d=\"M171.52,-144.7C170.86,-136.98 170.06,-127.71 169.32,-119.11\"/>\n",
       "<polygon fill=\"black\" stroke=\"black\" points=\"172.81,-118.77 168.47,-109.1 165.83,-119.37 172.81,-118.77\"/>\n",
       "</g>\n",
       "<!-- b3&#45;&gt;end -->\n",
       "<g id=\"edge13\" class=\"edge\">\n",
       "<title>b3&#45;&gt;end</title>\n",
       "<path fill=\"none\" stroke=\"black\" d=\"M155.46,-74.35C149.16,-65.82 141.21,-55.04 134.03,-45.3\"/>\n",
       "<polygon fill=\"black\" stroke=\"black\" points=\"136.72,-43.06 127.97,-37.09 131.09,-47.21 136.72,-43.06\"/>\n",
       "</g>\n",
       "<!-- start -->\n",
       "<g id=\"node9\" class=\"node\">\n",
       "<title>start</title>\n",
       "<polygon fill=\"none\" stroke=\"black\" points=\"115,-400 77.13,-382 115,-364 152.87,-382 115,-400\"/>\n",
       "<polyline fill=\"none\" stroke=\"black\" points=\"87.97,-387.15 87.97,-376.85 \"/>\n",
       "<polyline fill=\"none\" stroke=\"black\" points=\"104.16,-369.15 125.84,-369.15 \"/>\n",
       "<polyline fill=\"none\" stroke=\"black\" points=\"142.03,-376.85 142.03,-387.15 \"/>\n",
       "<polyline fill=\"none\" stroke=\"black\" points=\"125.84,-394.85 104.16,-394.85 \"/>\n",
       "<text text-anchor=\"middle\" x=\"115\" y=\"-378.3\" font-family=\"Times,serif\" font-size=\"14.00\">start</text>\n",
       "</g>\n",
       "<!-- start&#45;&gt;a0 -->\n",
       "<g id=\"edge7\" class=\"edge\">\n",
       "<title>start&#45;&gt;a0</title>\n",
       "<path fill=\"none\" stroke=\"black\" d=\"M105.94,-368.28C98.82,-358.29 88.71,-344.09 80.08,-331.97\"/>\n",
       "<polygon fill=\"black\" stroke=\"black\" points=\"82.78,-329.73 74.12,-323.62 77.07,-333.79 82.78,-329.73\"/>\n",
       "</g>\n",
       "<!-- start&#45;&gt;b0 -->\n",
       "<g id=\"edge8\" class=\"edge\">\n",
       "<title>start&#45;&gt;b0</title>\n",
       "<path fill=\"none\" stroke=\"black\" d=\"M124.06,-368.28C131.18,-358.29 141.29,-344.09 149.92,-331.97\"/>\n",
       "<polygon fill=\"black\" stroke=\"black\" points=\"152.93,-333.79 155.88,-323.62 147.22,-329.73 152.93,-333.79\"/>\n",
       "</g>\n",
       "</g>\n",
       "</svg>\n"
      ],
      "text/plain": [
       "<graphviz.sources.Source at 0x1298ca310>"
      ]
     },
     "execution_count": 19,
     "metadata": {},
     "output_type": "execute_result"
    }
   ],
   "source": [
    "from graphviz import Source\n",
    "\n",
    "\n",
    "Source(\"\"\"\n",
    "digraph G {\n",
    "\n",
    "\tsubgraph cluster_0 {\n",
    "\t\tstyle=filled;\n",
    "\t\tcolor=lightgrey;\n",
    "\t\tnode [style=filled,color=white];\n",
    "\t\ta0 -> a1 -> a2 -> a3;\n",
    "\t\tlabel = \"process #1\";\n",
    "\t}\n",
    "\n",
    "\tsubgraph cluster_1 {\n",
    "\t\tnode [style=filled];\n",
    "\t\tb0 -> b1 -> b2 -> b3;\n",
    "\t\tlabel = \"process #2\";\n",
    "\t\tcolor=blue\n",
    "\t}\n",
    "\tstart -> a0;\n",
    "\tstart -> b0;\n",
    "\ta1 -> b3;\n",
    "\tb2 -> a3;\n",
    "\ta3 -> a0;\n",
    "\ta3 -> end;\n",
    "\tb3 -> end;\n",
    "\n",
    "\tstart [shape=Mdiamond];\n",
    "\tend [shape=Msquare];\n",
    "}\n",
    "\"\"\")"
   ]
  },
  {
   "cell_type": "code",
   "execution_count": null,
   "metadata": {},
   "outputs": [],
   "source": []
  },
  {
   "cell_type": "markdown",
   "metadata": {},
   "source": [
    "## graphs"
   ]
  },
  {
   "cell_type": "code",
   "execution_count": 9,
   "metadata": {
    "ExecuteTime": {
     "end_time": "2022-01-28T23:01:17.788246Z",
     "start_time": "2022-01-28T23:01:02.107166Z"
    }
   },
   "outputs": [
    {
     "data": {
      "image/svg+xml": [
       "<?xml version=\"1.0\" encoding=\"UTF-8\" standalone=\"no\"?>\n",
       "<!DOCTYPE svg PUBLIC \"-//W3C//DTD SVG 1.1//EN\"\n",
       " \"http://www.w3.org/Graphics/SVG/1.1/DTD/svg11.dtd\">\n",
       "<!-- Generated by graphviz version 2.49.3 (20211023.0002)\n",
       " -->\n",
       "<!-- Title: G Pages: 1 -->\n",
       "<svg width=\"270pt\" height=\"476pt\"\n",
       " viewBox=\"0.00 0.00 270.19 476.00\" xmlns=\"http://www.w3.org/2000/svg\" xmlns:xlink=\"http://www.w3.org/1999/xlink\">\n",
       "<g id=\"graph0\" class=\"graph\" transform=\"scale(1 1) rotate(0) translate(4 472)\">\n",
       "<title>G</title>\n",
       "<polygon fill=\"white\" stroke=\"transparent\" points=\"-4,4 -4,-472 266.19,-472 266.19,4 -4,4\"/>\n",
       "<!-- outer_args -->\n",
       "<g id=\"node1\" class=\"node\">\n",
       "<title>outer_args</title>\n",
       "<ellipse fill=\"none\" stroke=\"black\" cx=\"53.3\" cy=\"-450\" rx=\"53.09\" ry=\"18\"/>\n",
       "<text text-anchor=\"middle\" x=\"53.3\" y=\"-446.3\" font-family=\"Times,serif\" font-size=\"14.00\">*outer_args</text>\n",
       "</g>\n",
       "<!-- ingress -->\n",
       "<g id=\"node2\" class=\"node\">\n",
       "<title>ingress</title>\n",
       "<polygon fill=\"lightgrey\" stroke=\"black\" points=\"151.3,-396 95.3,-396 95.3,-360 151.3,-360 151.3,-396\"/>\n",
       "<text text-anchor=\"middle\" x=\"123.3\" y=\"-374.3\" font-family=\"Times,serif\" font-size=\"14.00\">ingress</text>\n",
       "</g>\n",
       "<!-- outer_args&#45;&gt;ingress -->\n",
       "<g id=\"edge1\" class=\"edge\">\n",
       "<title>outer_args&#45;&gt;ingress</title>\n",
       "<path fill=\"none\" stroke=\"black\" d=\"M69.53,-432.76C78.28,-424.01 89.26,-413.03 99.01,-403.28\"/>\n",
       "<polygon fill=\"black\" stroke=\"black\" points=\"101.58,-405.67 106.17,-396.12 96.63,-400.72 101.58,-405.67\"/>\n",
       "</g>\n",
       "<!-- inner_args -->\n",
       "<g id=\"node4\" class=\"node\">\n",
       "<title>inner_args</title>\n",
       "<ellipse fill=\"none\" stroke=\"black\" cx=\"53.3\" cy=\"-306\" rx=\"53.09\" ry=\"18\"/>\n",
       "<text text-anchor=\"middle\" x=\"53.3\" y=\"-302.3\" font-family=\"Times,serif\" font-size=\"14.00\">*inner_args</text>\n",
       "</g>\n",
       "<!-- ingress&#45;&gt;inner_args -->\n",
       "<g id=\"edge3\" class=\"edge\">\n",
       "<title>ingress&#45;&gt;inner_args</title>\n",
       "<path fill=\"none\" stroke=\"black\" d=\"M105.99,-359.7C97.3,-351.01 86.64,-340.34 77.18,-330.89\"/>\n",
       "<polygon fill=\"black\" stroke=\"black\" points=\"79.46,-328.22 69.92,-323.62 74.51,-333.17 79.46,-328.22\"/>\n",
       "</g>\n",
       "<!-- inner_kwargs -->\n",
       "<g id=\"node5\" class=\"node\">\n",
       "<title>inner_kwargs</title>\n",
       "<ellipse fill=\"none\" stroke=\"black\" cx=\"193.3\" cy=\"-306\" rx=\"68.79\" ry=\"18\"/>\n",
       "<text text-anchor=\"middle\" x=\"193.3\" y=\"-302.3\" font-family=\"Times,serif\" font-size=\"14.00\">**inner_kwargs</text>\n",
       "</g>\n",
       "<!-- ingress&#45;&gt;inner_kwargs -->\n",
       "<g id=\"edge4\" class=\"edge\">\n",
       "<title>ingress&#45;&gt;inner_kwargs</title>\n",
       "<path fill=\"none\" stroke=\"black\" d=\"M140.6,-359.7C149.29,-351.01 159.95,-340.34 169.41,-330.89\"/>\n",
       "<polygon fill=\"black\" stroke=\"black\" points=\"172.08,-333.17 176.67,-323.62 167.13,-328.22 172.08,-333.17\"/>\n",
       "</g>\n",
       "<!-- outer_kwargs -->\n",
       "<g id=\"node3\" class=\"node\">\n",
       "<title>outer_kwargs</title>\n",
       "<ellipse fill=\"none\" stroke=\"black\" cx=\"193.3\" cy=\"-450\" rx=\"68.79\" ry=\"18\"/>\n",
       "<text text-anchor=\"middle\" x=\"193.3\" y=\"-446.3\" font-family=\"Times,serif\" font-size=\"14.00\">**outer_kwargs</text>\n",
       "</g>\n",
       "<!-- outer_kwargs&#45;&gt;ingress -->\n",
       "<g id=\"edge2\" class=\"edge\">\n",
       "<title>outer_kwargs&#45;&gt;ingress</title>\n",
       "<path fill=\"none\" stroke=\"black\" d=\"M176.71,-432.41C168.16,-423.86 157.56,-413.26 148.06,-403.77\"/>\n",
       "<polygon fill=\"black\" stroke=\"black\" points=\"150.29,-401.04 140.74,-396.45 145.34,-405.99 150.29,-401.04\"/>\n",
       "</g>\n",
       "<!-- func -->\n",
       "<g id=\"node6\" class=\"node\">\n",
       "<title>func</title>\n",
       "<polygon fill=\"lightgrey\" stroke=\"black\" points=\"150.3,-252 96.3,-252 96.3,-216 150.3,-216 150.3,-252\"/>\n",
       "<text text-anchor=\"middle\" x=\"123.3\" y=\"-230.3\" font-family=\"Times,serif\" font-size=\"14.00\">func</text>\n",
       "</g>\n",
       "<!-- inner_args&#45;&gt;func -->\n",
       "<g id=\"edge5\" class=\"edge\">\n",
       "<title>inner_args&#45;&gt;func</title>\n",
       "<path fill=\"none\" stroke=\"black\" d=\"M69.53,-288.76C78.28,-280.01 89.26,-269.03 99.01,-259.28\"/>\n",
       "<polygon fill=\"black\" stroke=\"black\" points=\"101.58,-261.67 106.17,-252.12 96.63,-256.72 101.58,-261.67\"/>\n",
       "</g>\n",
       "<!-- inner_kwargs&#45;&gt;func -->\n",
       "<g id=\"edge6\" class=\"edge\">\n",
       "<title>inner_kwargs&#45;&gt;func</title>\n",
       "<path fill=\"none\" stroke=\"black\" d=\"M176.71,-288.41C168.16,-279.86 157.56,-269.26 148.06,-259.77\"/>\n",
       "<polygon fill=\"black\" stroke=\"black\" points=\"150.29,-257.04 140.74,-252.45 145.34,-261.99 150.29,-257.04\"/>\n",
       "</g>\n",
       "<!-- inner_output -->\n",
       "<g id=\"node7\" class=\"node\">\n",
       "<title>inner_output</title>\n",
       "<ellipse fill=\"none\" stroke=\"black\" cx=\"123.3\" cy=\"-162\" rx=\"57.39\" ry=\"18\"/>\n",
       "<text text-anchor=\"middle\" x=\"123.3\" y=\"-158.3\" font-family=\"Times,serif\" font-size=\"14.00\">inner_output</text>\n",
       "</g>\n",
       "<!-- func&#45;&gt;inner_output -->\n",
       "<g id=\"edge7\" class=\"edge\">\n",
       "<title>func&#45;&gt;inner_output</title>\n",
       "<path fill=\"none\" stroke=\"black\" d=\"M123.3,-215.7C123.3,-207.98 123.3,-198.71 123.3,-190.11\"/>\n",
       "<polygon fill=\"black\" stroke=\"black\" points=\"126.8,-190.1 123.3,-180.1 119.8,-190.1 126.8,-190.1\"/>\n",
       "</g>\n",
       "<!-- egress -->\n",
       "<g id=\"node8\" class=\"node\">\n",
       "<title>egress</title>\n",
       "<polygon fill=\"lightgrey\" stroke=\"black\" points=\"150.3,-108 96.3,-108 96.3,-72 150.3,-72 150.3,-108\"/>\n",
       "<text text-anchor=\"middle\" x=\"123.3\" y=\"-86.3\" font-family=\"Times,serif\" font-size=\"14.00\">egress</text>\n",
       "</g>\n",
       "<!-- inner_output&#45;&gt;egress -->\n",
       "<g id=\"edge8\" class=\"edge\">\n",
       "<title>inner_output&#45;&gt;egress</title>\n",
       "<path fill=\"none\" stroke=\"black\" d=\"M123.3,-143.7C123.3,-135.98 123.3,-126.71 123.3,-118.11\"/>\n",
       "<polygon fill=\"black\" stroke=\"black\" points=\"126.8,-118.1 123.3,-108.1 119.8,-118.1 126.8,-118.1\"/>\n",
       "</g>\n",
       "<!-- outer_output -->\n",
       "<g id=\"node9\" class=\"node\">\n",
       "<title>outer_output</title>\n",
       "<ellipse fill=\"none\" stroke=\"black\" cx=\"123.3\" cy=\"-18\" rx=\"57.39\" ry=\"18\"/>\n",
       "<text text-anchor=\"middle\" x=\"123.3\" y=\"-14.3\" font-family=\"Times,serif\" font-size=\"14.00\">outer_output</text>\n",
       "</g>\n",
       "<!-- egress&#45;&gt;outer_output -->\n",
       "<g id=\"edge9\" class=\"edge\">\n",
       "<title>egress&#45;&gt;outer_output</title>\n",
       "<path fill=\"none\" stroke=\"black\" d=\"M123.3,-71.7C123.3,-63.98 123.3,-54.71 123.3,-46.11\"/>\n",
       "<polygon fill=\"black\" stroke=\"black\" points=\"126.8,-46.1 123.3,-36.1 119.8,-46.1 126.8,-46.1\"/>\n",
       "</g>\n",
       "</g>\n",
       "</svg>\n"
      ],
      "text/plain": [
       "<graphviz.sources.Source at 0x11bcd0a90>"
      ]
     },
     "execution_count": 9,
     "metadata": {},
     "output_type": "execute_result"
    }
   ],
   "source": [
    "from qo import dgdisp, dot_to_ascii\n",
    "from i2 import Pipe\n",
    "from graphviz import Source\n",
    "\n",
    "variable_props = 'shape=\"oval\"'\n",
    "func_props = 'shape=\"rectangle\" style=filled'\n",
    "\n",
    "Source(\"\"\"\n",
    "    digraph G {{\n",
    "\n",
    "        outer_args -> ingress\n",
    "        outer_kwargs -> ingress\n",
    "        ingress -> inner_args\n",
    "        ingress -> inner_kwargs\n",
    "\n",
    "        inner_args -> func\n",
    "        inner_kwargs -> func\n",
    "        func -> inner_output\n",
    "\n",
    "\n",
    "        inner_output -> egress\n",
    "        egress -> outer_output\n",
    "\n",
    "        outer_args [label=\"*outer_args\" {variable_props}]\n",
    "        outer_kwargs [label=\"**outer_kwargs\" {variable_props}]\n",
    "        inner_args [label=\"*inner_args\" {variable_props}]\n",
    "        inner_kwargs [label=\"**inner_kwargs\" {variable_props}]\n",
    "\n",
    "        ingress [{func_props}]\n",
    "        func [{func_props}]\n",
    "        egress [{func_props}]\n",
    "    }}\"\"\".format(variable_props=variable_props, func_props=func_props)\n",
    "       )"
   ]
  },
  {
   "cell_type": "code",
   "execution_count": 10,
   "metadata": {
    "ExecuteTime": {
     "end_time": "2022-01-28T23:01:18.151377Z",
     "start_time": "2022-01-28T23:01:17.791963Z"
    }
   },
   "outputs": [
    {
     "data": {
      "image/svg+xml": [
       "<?xml version=\"1.0\" encoding=\"UTF-8\" standalone=\"no\"?>\n",
       "<!DOCTYPE svg PUBLIC \"-//W3C//DTD SVG 1.1//EN\"\n",
       " \"http://www.w3.org/Graphics/SVG/1.1/DTD/svg11.dtd\">\n",
       "<!-- Generated by graphviz version 2.49.3 (20211023.0002)\n",
       " -->\n",
       "<!-- Title: G Pages: 1 -->\n",
       "<svg width=\"270pt\" height=\"767pt\"\n",
       " viewBox=\"0.00 0.00 270.19 767.00\" xmlns=\"http://www.w3.org/2000/svg\" xmlns:xlink=\"http://www.w3.org/1999/xlink\">\n",
       "<g id=\"graph0\" class=\"graph\" transform=\"scale(1 1) rotate(0) translate(4 763)\">\n",
       "<title>G</title>\n",
       "<polygon fill=\"white\" stroke=\"transparent\" points=\"-4,4 -4,-763 266.19,-763 266.19,4 -4,4\"/>\n",
       "<g id=\"clust1\" class=\"cluster\">\n",
       "<title>cluster_1</title>\n",
       "<polygon fill=\"none\" stroke=\"black\" points=\"42.3,-352 42.3,-715 204.3,-715 204.3,-352 42.3,-352\"/>\n",
       "<text text-anchor=\"middle\" x=\"123.3\" y=\"-699.8\" font-family=\"Times,serif\" font-size=\"14.00\">Ingress</text>\n",
       "</g>\n",
       "<!-- outer_args -->\n",
       "<g id=\"node1\" class=\"node\">\n",
       "<title>outer_args</title>\n",
       "<ellipse fill=\"none\" stroke=\"black\" cx=\"53.3\" cy=\"-741\" rx=\"53.09\" ry=\"18\"/>\n",
       "<text text-anchor=\"middle\" x=\"53.3\" y=\"-737.3\" font-family=\"Times,serif\" font-size=\"14.00\">*outer_args</text>\n",
       "</g>\n",
       "<!-- outer_sig_bind -->\n",
       "<g id=\"node2\" class=\"node\">\n",
       "<title>outer_sig_bind</title>\n",
       "<polygon fill=\"lightgrey\" stroke=\"black\" points=\"173.3,-684 73.3,-684 73.3,-648 173.3,-648 173.3,-684\"/>\n",
       "<text text-anchor=\"middle\" x=\"123.3\" y=\"-662.3\" font-family=\"Times,serif\" font-size=\"14.00\">outer_sig_bind</text>\n",
       "</g>\n",
       "<!-- outer_args&#45;&gt;outer_sig_bind -->\n",
       "<g id=\"edge1\" class=\"edge\">\n",
       "<title>outer_args&#45;&gt;outer_sig_bind</title>\n",
       "<path fill=\"none\" stroke=\"black\" d=\"M69.18,-723.44C78.27,-713.96 89.84,-701.89 99.94,-691.35\"/>\n",
       "<polygon fill=\"black\" stroke=\"black\" points=\"102.59,-693.65 106.99,-684.01 97.54,-688.8 102.59,-693.65\"/>\n",
       "</g>\n",
       "<!-- outer_all_kwargs -->\n",
       "<g id=\"node4\" class=\"node\">\n",
       "<title>outer_all_kwargs</title>\n",
       "<ellipse fill=\"none\" stroke=\"black\" cx=\"123.3\" cy=\"-594\" rx=\"73.39\" ry=\"18\"/>\n",
       "<text text-anchor=\"middle\" x=\"123.3\" y=\"-590.3\" font-family=\"Times,serif\" font-size=\"14.00\">outer_all_kwargs</text>\n",
       "</g>\n",
       "<!-- outer_sig_bind&#45;&gt;outer_all_kwargs -->\n",
       "<g id=\"edge3\" class=\"edge\">\n",
       "<title>outer_sig_bind&#45;&gt;outer_all_kwargs</title>\n",
       "<path fill=\"none\" stroke=\"black\" d=\"M123.3,-647.7C123.3,-639.98 123.3,-630.71 123.3,-622.11\"/>\n",
       "<polygon fill=\"black\" stroke=\"black\" points=\"126.8,-622.1 123.3,-612.1 119.8,-622.1 126.8,-622.1\"/>\n",
       "</g>\n",
       "<!-- outer_kwargs -->\n",
       "<g id=\"node3\" class=\"node\">\n",
       "<title>outer_kwargs</title>\n",
       "<ellipse fill=\"none\" stroke=\"black\" cx=\"193.3\" cy=\"-741\" rx=\"68.79\" ry=\"18\"/>\n",
       "<text text-anchor=\"middle\" x=\"193.3\" y=\"-737.3\" font-family=\"Times,serif\" font-size=\"14.00\">**outer_kwargs</text>\n",
       "</g>\n",
       "<!-- outer_kwargs&#45;&gt;outer_sig_bind -->\n",
       "<g id=\"edge2\" class=\"edge\">\n",
       "<title>outer_kwargs&#45;&gt;outer_sig_bind</title>\n",
       "<path fill=\"none\" stroke=\"black\" d=\"M177.41,-723.44C168.32,-713.96 156.75,-701.89 146.65,-691.35\"/>\n",
       "<polygon fill=\"black\" stroke=\"black\" points=\"149.05,-688.8 139.6,-684.01 144,-693.65 149.05,-688.8\"/>\n",
       "</g>\n",
       "<!-- input_trans -->\n",
       "<g id=\"node5\" class=\"node\">\n",
       "<title>input_trans</title>\n",
       "<polygon fill=\"lightgrey\" stroke=\"black\" points=\"162.8,-540 83.8,-540 83.8,-504 162.8,-504 162.8,-540\"/>\n",
       "<text text-anchor=\"middle\" x=\"123.3\" y=\"-518.3\" font-family=\"Times,serif\" font-size=\"14.00\">input_trans</text>\n",
       "</g>\n",
       "<!-- outer_all_kwargs&#45;&gt;input_trans -->\n",
       "<g id=\"edge4\" class=\"edge\">\n",
       "<title>outer_all_kwargs&#45;&gt;input_trans</title>\n",
       "<path fill=\"none\" stroke=\"black\" d=\"M123.3,-575.7C123.3,-567.98 123.3,-558.71 123.3,-550.11\"/>\n",
       "<polygon fill=\"black\" stroke=\"black\" points=\"126.8,-550.1 123.3,-540.1 119.8,-550.1 126.8,-550.1\"/>\n",
       "</g>\n",
       "<!-- inner_all_kwargs -->\n",
       "<g id=\"node6\" class=\"node\">\n",
       "<title>inner_all_kwargs</title>\n",
       "<ellipse fill=\"none\" stroke=\"black\" cx=\"123.3\" cy=\"-450\" rx=\"73.39\" ry=\"18\"/>\n",
       "<text text-anchor=\"middle\" x=\"123.3\" y=\"-446.3\" font-family=\"Times,serif\" font-size=\"14.00\">inner_all_kwargs</text>\n",
       "</g>\n",
       "<!-- input_trans&#45;&gt;inner_all_kwargs -->\n",
       "<g id=\"edge5\" class=\"edge\">\n",
       "<title>input_trans&#45;&gt;inner_all_kwargs</title>\n",
       "<path fill=\"none\" stroke=\"black\" d=\"M123.3,-503.7C123.3,-495.98 123.3,-486.71 123.3,-478.11\"/>\n",
       "<polygon fill=\"black\" stroke=\"black\" points=\"126.8,-478.1 123.3,-468.1 119.8,-478.1 126.8,-478.1\"/>\n",
       "</g>\n",
       "<!-- inner_sig_bind -->\n",
       "<g id=\"node7\" class=\"node\">\n",
       "<title>inner_sig_bind</title>\n",
       "<polygon fill=\"lightgrey\" stroke=\"black\" points=\"173.3,-396 73.3,-396 73.3,-360 173.3,-360 173.3,-396\"/>\n",
       "<text text-anchor=\"middle\" x=\"123.3\" y=\"-374.3\" font-family=\"Times,serif\" font-size=\"14.00\">inner_sig_bind</text>\n",
       "</g>\n",
       "<!-- inner_all_kwargs&#45;&gt;inner_sig_bind -->\n",
       "<g id=\"edge6\" class=\"edge\">\n",
       "<title>inner_all_kwargs&#45;&gt;inner_sig_bind</title>\n",
       "<path fill=\"none\" stroke=\"black\" d=\"M123.3,-431.7C123.3,-423.98 123.3,-414.71 123.3,-406.11\"/>\n",
       "<polygon fill=\"black\" stroke=\"black\" points=\"126.8,-406.1 123.3,-396.1 119.8,-406.1 126.8,-406.1\"/>\n",
       "</g>\n",
       "<!-- inner_args -->\n",
       "<g id=\"node8\" class=\"node\">\n",
       "<title>inner_args</title>\n",
       "<ellipse fill=\"none\" stroke=\"black\" cx=\"53.3\" cy=\"-306\" rx=\"53.09\" ry=\"18\"/>\n",
       "<text text-anchor=\"middle\" x=\"53.3\" y=\"-302.3\" font-family=\"Times,serif\" font-size=\"14.00\">*inner_args</text>\n",
       "</g>\n",
       "<!-- inner_sig_bind&#45;&gt;inner_args -->\n",
       "<g id=\"edge7\" class=\"edge\">\n",
       "<title>inner_sig_bind&#45;&gt;inner_args</title>\n",
       "<path fill=\"none\" stroke=\"black\" d=\"M105.99,-359.7C97.3,-351.01 86.64,-340.34 77.18,-330.89\"/>\n",
       "<polygon fill=\"black\" stroke=\"black\" points=\"79.46,-328.22 69.92,-323.62 74.51,-333.17 79.46,-328.22\"/>\n",
       "</g>\n",
       "<!-- inner_kwargs -->\n",
       "<g id=\"node9\" class=\"node\">\n",
       "<title>inner_kwargs</title>\n",
       "<ellipse fill=\"none\" stroke=\"black\" cx=\"193.3\" cy=\"-306\" rx=\"68.79\" ry=\"18\"/>\n",
       "<text text-anchor=\"middle\" x=\"193.3\" y=\"-302.3\" font-family=\"Times,serif\" font-size=\"14.00\">**inner_kwargs</text>\n",
       "</g>\n",
       "<!-- inner_sig_bind&#45;&gt;inner_kwargs -->\n",
       "<g id=\"edge8\" class=\"edge\">\n",
       "<title>inner_sig_bind&#45;&gt;inner_kwargs</title>\n",
       "<path fill=\"none\" stroke=\"black\" d=\"M140.6,-359.7C149.29,-351.01 159.95,-340.34 169.41,-330.89\"/>\n",
       "<polygon fill=\"black\" stroke=\"black\" points=\"172.08,-333.17 176.67,-323.62 167.13,-328.22 172.08,-333.17\"/>\n",
       "</g>\n",
       "<!-- func -->\n",
       "<g id=\"node10\" class=\"node\">\n",
       "<title>func</title>\n",
       "<polygon fill=\"lightgrey\" stroke=\"black\" points=\"150.3,-252 96.3,-252 96.3,-216 150.3,-216 150.3,-252\"/>\n",
       "<text text-anchor=\"middle\" x=\"123.3\" y=\"-230.3\" font-family=\"Times,serif\" font-size=\"14.00\">func</text>\n",
       "</g>\n",
       "<!-- inner_args&#45;&gt;func -->\n",
       "<g id=\"edge9\" class=\"edge\">\n",
       "<title>inner_args&#45;&gt;func</title>\n",
       "<path fill=\"none\" stroke=\"black\" d=\"M69.53,-288.76C78.28,-280.01 89.26,-269.03 99.01,-259.28\"/>\n",
       "<polygon fill=\"black\" stroke=\"black\" points=\"101.58,-261.67 106.17,-252.12 96.63,-256.72 101.58,-261.67\"/>\n",
       "</g>\n",
       "<!-- inner_kwargs&#45;&gt;func -->\n",
       "<g id=\"edge10\" class=\"edge\">\n",
       "<title>inner_kwargs&#45;&gt;func</title>\n",
       "<path fill=\"none\" stroke=\"black\" d=\"M176.71,-288.41C168.16,-279.86 157.56,-269.26 148.06,-259.77\"/>\n",
       "<polygon fill=\"black\" stroke=\"black\" points=\"150.29,-257.04 140.74,-252.45 145.34,-261.99 150.29,-257.04\"/>\n",
       "</g>\n",
       "<!-- inner_output -->\n",
       "<g id=\"node11\" class=\"node\">\n",
       "<title>inner_output</title>\n",
       "<ellipse fill=\"none\" stroke=\"black\" cx=\"123.3\" cy=\"-162\" rx=\"57.39\" ry=\"18\"/>\n",
       "<text text-anchor=\"middle\" x=\"123.3\" y=\"-158.3\" font-family=\"Times,serif\" font-size=\"14.00\">inner_output</text>\n",
       "</g>\n",
       "<!-- func&#45;&gt;inner_output -->\n",
       "<g id=\"edge11\" class=\"edge\">\n",
       "<title>func&#45;&gt;inner_output</title>\n",
       "<path fill=\"none\" stroke=\"black\" d=\"M123.3,-215.7C123.3,-207.98 123.3,-198.71 123.3,-190.11\"/>\n",
       "<polygon fill=\"black\" stroke=\"black\" points=\"126.8,-190.1 123.3,-180.1 119.8,-190.1 126.8,-190.1\"/>\n",
       "</g>\n",
       "<!-- egress -->\n",
       "<g id=\"node12\" class=\"node\">\n",
       "<title>egress</title>\n",
       "<polygon fill=\"lightgrey\" stroke=\"black\" points=\"150.3,-108 96.3,-108 96.3,-72 150.3,-72 150.3,-108\"/>\n",
       "<text text-anchor=\"middle\" x=\"123.3\" y=\"-86.3\" font-family=\"Times,serif\" font-size=\"14.00\">egress</text>\n",
       "</g>\n",
       "<!-- inner_output&#45;&gt;egress -->\n",
       "<g id=\"edge12\" class=\"edge\">\n",
       "<title>inner_output&#45;&gt;egress</title>\n",
       "<path fill=\"none\" stroke=\"black\" d=\"M123.3,-143.7C123.3,-135.98 123.3,-126.71 123.3,-118.11\"/>\n",
       "<polygon fill=\"black\" stroke=\"black\" points=\"126.8,-118.1 123.3,-108.1 119.8,-118.1 126.8,-118.1\"/>\n",
       "</g>\n",
       "<!-- outer_output -->\n",
       "<g id=\"node13\" class=\"node\">\n",
       "<title>outer_output</title>\n",
       "<ellipse fill=\"none\" stroke=\"black\" cx=\"123.3\" cy=\"-18\" rx=\"57.39\" ry=\"18\"/>\n",
       "<text text-anchor=\"middle\" x=\"123.3\" y=\"-14.3\" font-family=\"Times,serif\" font-size=\"14.00\">outer_output</text>\n",
       "</g>\n",
       "<!-- egress&#45;&gt;outer_output -->\n",
       "<g id=\"edge13\" class=\"edge\">\n",
       "<title>egress&#45;&gt;outer_output</title>\n",
       "<path fill=\"none\" stroke=\"black\" d=\"M123.3,-71.7C123.3,-63.98 123.3,-54.71 123.3,-46.11\"/>\n",
       "<polygon fill=\"black\" stroke=\"black\" points=\"126.8,-46.1 123.3,-36.1 119.8,-46.1 126.8,-46.1\"/>\n",
       "</g>\n",
       "</g>\n",
       "</svg>\n"
      ],
      "text/plain": [
       "<graphviz.sources.Source at 0x11bb5cf10>"
      ]
     },
     "execution_count": 10,
     "metadata": {},
     "output_type": "execute_result"
    }
   ],
   "source": [
    "from graphviz import Source\n",
    "\n",
    "variable_props = 'shape=\"oval\"'\n",
    "func_props = 'shape=\"rectangle\" style=filled'\n",
    "\n",
    "Source(\"\"\"\n",
    "    digraph G {{\n",
    "\n",
    "        outer_args -> outer_sig_bind\n",
    "        outer_kwargs -> outer_sig_bind\n",
    "\n",
    "        subgraph cluster_1 {{\n",
    "            color=black\n",
    "            outer_sig_bind -> outer_all_kwargs\n",
    "            outer_all_kwargs -> input_trans\n",
    "            input_trans -> inner_all_kwargs\n",
    "\n",
    "            inner_all_kwargs -> inner_sig_bind\n",
    "\n",
    "            label=\"Ingress\"\n",
    "        }}\n",
    "\n",
    "\n",
    "    inner_sig_bind -> inner_args\n",
    "    inner_sig_bind -> inner_kwargs\n",
    "\n",
    "    inner_args -> func\n",
    "    inner_kwargs -> func\n",
    "    func -> inner_output\n",
    "\n",
    "\n",
    "    inner_output -> egress\n",
    "    egress -> outer_output\n",
    "\n",
    "    outer_args [label=\"*outer_args\" {variable_props}]\n",
    "    outer_kwargs [label=\"**outer_kwargs\" {variable_props}]\n",
    "    outer_all_kwargs [label=\"outer_all_kwargs\" {variable_props}]\n",
    "    inner_all_kwargs [label=\"inner_all_kwargs\" {variable_props}]\n",
    "    inner_args [label=\"*inner_args\" {variable_props}]\n",
    "    inner_kwargs [label=\"**inner_kwargs\" {variable_props}]\n",
    "\n",
    "    outer_sig_bind [{func_props}]\n",
    "    input_trans [{func_props}]\n",
    "    inner_sig_bind [{func_props}]\n",
    "    func [{func_props}]\n",
    "    egress [{func_props}]\n",
    "    }}\"\"\".format(variable_props=variable_props, func_props=func_props)\n",
    ")"
   ]
  },
  {
   "cell_type": "code",
   "execution_count": 11,
   "metadata": {
    "ExecuteTime": {
     "end_time": "2022-01-28T23:02:17.217656Z",
     "start_time": "2022-01-28T23:02:17.156323Z"
    }
   },
   "outputs": [],
   "source": [
    "from qo import dgdisp, dot_to_ascii\n",
    "from i2 import Pipe"
   ]
  },
  {
   "cell_type": "code",
   "execution_count": 12,
   "metadata": {
    "ExecuteTime": {
     "end_time": "2022-01-28T23:02:17.896148Z",
     "start_time": "2022-01-28T23:02:17.590166Z"
    }
   },
   "outputs": [
    {
     "data": {
      "image/svg+xml": [
       "<?xml version=\"1.0\" encoding=\"UTF-8\" standalone=\"no\"?>\n",
       "<!DOCTYPE svg PUBLIC \"-//W3C//DTD SVG 1.1//EN\"\n",
       " \"http://www.w3.org/Graphics/SVG/1.1/DTD/svg11.dtd\">\n",
       "<!-- Generated by graphviz version 2.49.3 (20211023.0002)\n",
       " -->\n",
       "<!-- Pages: 1 -->\n",
       "<svg width=\"244pt\" height=\"764pt\"\n",
       " viewBox=\"0.00 0.00 243.54 764.00\" xmlns=\"http://www.w3.org/2000/svg\" xmlns:xlink=\"http://www.w3.org/1999/xlink\">\n",
       "<g id=\"graph0\" class=\"graph\" transform=\"scale(1 1) rotate(0) translate(4 760)\">\n",
       "<polygon fill=\"white\" stroke=\"transparent\" points=\"-4,4 -4,-760 239.54,-760 239.54,4 -4,4\"/>\n",
       "<!-- outer_args -->\n",
       "<g id=\"node1\" class=\"node\">\n",
       "<title>outer_args</title>\n",
       "<ellipse fill=\"none\" stroke=\"black\" cx=\"48.75\" cy=\"-738\" rx=\"48.99\" ry=\"18\"/>\n",
       "<text text-anchor=\"middle\" x=\"48.75\" y=\"-734.3\" font-family=\"Times,serif\" font-size=\"14.00\">outer_args</text>\n",
       "</g>\n",
       "<!-- outer_sig_bind -->\n",
       "<g id=\"node2\" class=\"node\">\n",
       "<title>outer_sig_bind</title>\n",
       "<polygon fill=\"none\" stroke=\"black\" points=\"161.75,-684 61.75,-684 61.75,-648 161.75,-648 161.75,-684\"/>\n",
       "<text text-anchor=\"middle\" x=\"111.75\" y=\"-662.3\" font-family=\"Times,serif\" font-size=\"14.00\">outer_sig_bind</text>\n",
       "</g>\n",
       "<!-- outer_args&#45;&gt;outer_sig_bind -->\n",
       "<g id=\"edge1\" class=\"edge\">\n",
       "<title>outer_args&#45;&gt;outer_sig_bind</title>\n",
       "<path fill=\"none\" stroke=\"black\" d=\"M63.36,-720.76C71.16,-712.1 80.92,-701.25 89.63,-691.57\"/>\n",
       "<polygon fill=\"black\" stroke=\"black\" points=\"92.25,-693.9 96.33,-684.12 87.04,-689.22 92.25,-693.9\"/>\n",
       "</g>\n",
       "<!-- outer_all_kwargs -->\n",
       "<g id=\"node4\" class=\"node\">\n",
       "<title>outer_all_kwargs</title>\n",
       "<ellipse fill=\"none\" stroke=\"black\" cx=\"111.75\" cy=\"-594\" rx=\"73.39\" ry=\"18\"/>\n",
       "<text text-anchor=\"middle\" x=\"111.75\" y=\"-590.3\" font-family=\"Times,serif\" font-size=\"14.00\">outer_all_kwargs</text>\n",
       "</g>\n",
       "<!-- outer_sig_bind&#45;&gt;outer_all_kwargs -->\n",
       "<g id=\"edge3\" class=\"edge\">\n",
       "<title>outer_sig_bind&#45;&gt;outer_all_kwargs</title>\n",
       "<path fill=\"none\" stroke=\"black\" d=\"M111.75,-647.7C111.75,-639.98 111.75,-630.71 111.75,-622.11\"/>\n",
       "<polygon fill=\"black\" stroke=\"black\" points=\"115.25,-622.1 111.75,-612.1 108.25,-622.1 115.25,-622.1\"/>\n",
       "</g>\n",
       "<!-- outer_kwargs -->\n",
       "<g id=\"node3\" class=\"node\">\n",
       "<title>outer_kwargs</title>\n",
       "<ellipse fill=\"none\" stroke=\"black\" cx=\"175.75\" cy=\"-738\" rx=\"59.59\" ry=\"18\"/>\n",
       "<text text-anchor=\"middle\" x=\"175.75\" y=\"-734.3\" font-family=\"Times,serif\" font-size=\"14.00\">outer_kwargs</text>\n",
       "</g>\n",
       "<!-- outer_kwargs&#45;&gt;outer_sig_bind -->\n",
       "<g id=\"edge2\" class=\"edge\">\n",
       "<title>outer_kwargs&#45;&gt;outer_sig_bind</title>\n",
       "<path fill=\"none\" stroke=\"black\" d=\"M160.58,-720.41C152.84,-711.95 143.26,-701.47 134.65,-692.05\"/>\n",
       "<polygon fill=\"black\" stroke=\"black\" points=\"137.03,-689.47 127.7,-684.45 131.86,-694.19 137.03,-689.47\"/>\n",
       "</g>\n",
       "<!-- input_trans -->\n",
       "<g id=\"node5\" class=\"node\">\n",
       "<title>input_trans</title>\n",
       "<polygon fill=\"none\" stroke=\"black\" points=\"151.25,-540 72.25,-540 72.25,-504 151.25,-504 151.25,-540\"/>\n",
       "<text text-anchor=\"middle\" x=\"111.75\" y=\"-518.3\" font-family=\"Times,serif\" font-size=\"14.00\">input_trans</text>\n",
       "</g>\n",
       "<!-- outer_all_kwargs&#45;&gt;input_trans -->\n",
       "<g id=\"edge4\" class=\"edge\">\n",
       "<title>outer_all_kwargs&#45;&gt;input_trans</title>\n",
       "<path fill=\"none\" stroke=\"black\" d=\"M111.75,-575.7C111.75,-567.98 111.75,-558.71 111.75,-550.11\"/>\n",
       "<polygon fill=\"black\" stroke=\"black\" points=\"115.25,-550.1 111.75,-540.1 108.25,-550.1 115.25,-550.1\"/>\n",
       "</g>\n",
       "<!-- inner_all_kwargs -->\n",
       "<g id=\"node6\" class=\"node\">\n",
       "<title>inner_all_kwargs</title>\n",
       "<ellipse fill=\"none\" stroke=\"black\" cx=\"111.75\" cy=\"-450\" rx=\"73.39\" ry=\"18\"/>\n",
       "<text text-anchor=\"middle\" x=\"111.75\" y=\"-446.3\" font-family=\"Times,serif\" font-size=\"14.00\">inner_all_kwargs</text>\n",
       "</g>\n",
       "<!-- input_trans&#45;&gt;inner_all_kwargs -->\n",
       "<g id=\"edge5\" class=\"edge\">\n",
       "<title>input_trans&#45;&gt;inner_all_kwargs</title>\n",
       "<path fill=\"none\" stroke=\"black\" d=\"M111.75,-503.7C111.75,-495.98 111.75,-486.71 111.75,-478.11\"/>\n",
       "<polygon fill=\"black\" stroke=\"black\" points=\"115.25,-478.1 111.75,-468.1 108.25,-478.1 115.25,-478.1\"/>\n",
       "</g>\n",
       "<!-- inner_sig_bind -->\n",
       "<g id=\"node7\" class=\"node\">\n",
       "<title>inner_sig_bind</title>\n",
       "<polygon fill=\"none\" stroke=\"black\" points=\"161.75,-396 61.75,-396 61.75,-360 161.75,-360 161.75,-396\"/>\n",
       "<text text-anchor=\"middle\" x=\"111.75\" y=\"-374.3\" font-family=\"Times,serif\" font-size=\"14.00\">inner_sig_bind</text>\n",
       "</g>\n",
       "<!-- inner_all_kwargs&#45;&gt;inner_sig_bind -->\n",
       "<g id=\"edge6\" class=\"edge\">\n",
       "<title>inner_all_kwargs&#45;&gt;inner_sig_bind</title>\n",
       "<path fill=\"none\" stroke=\"black\" d=\"M111.75,-431.7C111.75,-423.98 111.75,-414.71 111.75,-406.11\"/>\n",
       "<polygon fill=\"black\" stroke=\"black\" points=\"115.25,-406.1 111.75,-396.1 108.25,-406.1 115.25,-406.1\"/>\n",
       "</g>\n",
       "<!-- inner_args -->\n",
       "<g id=\"node8\" class=\"node\">\n",
       "<title>inner_args</title>\n",
       "<ellipse fill=\"none\" stroke=\"black\" cx=\"48.75\" cy=\"-306\" rx=\"48.99\" ry=\"18\"/>\n",
       "<text text-anchor=\"middle\" x=\"48.75\" y=\"-302.3\" font-family=\"Times,serif\" font-size=\"14.00\">inner_args</text>\n",
       "</g>\n",
       "<!-- inner_sig_bind&#45;&gt;inner_args -->\n",
       "<g id=\"edge7\" class=\"edge\">\n",
       "<title>inner_sig_bind&#45;&gt;inner_args</title>\n",
       "<path fill=\"none\" stroke=\"black\" d=\"M96.17,-359.7C88.43,-351.09 78.94,-340.55 70.5,-331.17\"/>\n",
       "<polygon fill=\"black\" stroke=\"black\" points=\"73,-328.71 63.71,-323.62 67.79,-333.4 73,-328.71\"/>\n",
       "</g>\n",
       "<!-- inner_kwargs -->\n",
       "<g id=\"node9\" class=\"node\">\n",
       "<title>inner_kwargs</title>\n",
       "<ellipse fill=\"none\" stroke=\"black\" cx=\"175.75\" cy=\"-306\" rx=\"59.59\" ry=\"18\"/>\n",
       "<text text-anchor=\"middle\" x=\"175.75\" y=\"-302.3\" font-family=\"Times,serif\" font-size=\"14.00\">inner_kwargs</text>\n",
       "</g>\n",
       "<!-- inner_sig_bind&#45;&gt;inner_kwargs -->\n",
       "<g id=\"edge8\" class=\"edge\">\n",
       "<title>inner_sig_bind&#45;&gt;inner_kwargs</title>\n",
       "<path fill=\"none\" stroke=\"black\" d=\"M127.57,-359.7C135.43,-351.09 145.07,-340.55 153.65,-331.17\"/>\n",
       "<polygon fill=\"black\" stroke=\"black\" points=\"156.38,-333.36 160.55,-323.62 151.22,-328.64 156.38,-333.36\"/>\n",
       "</g>\n",
       "<!-- inner_func -->\n",
       "<g id=\"node10\" class=\"node\">\n",
       "<title>inner_func</title>\n",
       "<polygon fill=\"none\" stroke=\"black\" points=\"150.25,-252 73.25,-252 73.25,-216 150.25,-216 150.25,-252\"/>\n",
       "<text text-anchor=\"middle\" x=\"111.75\" y=\"-230.3\" font-family=\"Times,serif\" font-size=\"14.00\">inner_func</text>\n",
       "</g>\n",
       "<!-- inner_args&#45;&gt;inner_func -->\n",
       "<g id=\"edge9\" class=\"edge\">\n",
       "<title>inner_args&#45;&gt;inner_func</title>\n",
       "<path fill=\"none\" stroke=\"black\" d=\"M63.36,-288.76C71.16,-280.1 80.92,-269.25 89.63,-259.57\"/>\n",
       "<polygon fill=\"black\" stroke=\"black\" points=\"92.25,-261.9 96.33,-252.12 87.04,-257.22 92.25,-261.9\"/>\n",
       "</g>\n",
       "<!-- inner_kwargs&#45;&gt;inner_func -->\n",
       "<g id=\"edge10\" class=\"edge\">\n",
       "<title>inner_kwargs&#45;&gt;inner_func</title>\n",
       "<path fill=\"none\" stroke=\"black\" d=\"M160.58,-288.41C152.84,-279.95 143.26,-269.47 134.65,-260.05\"/>\n",
       "<polygon fill=\"black\" stroke=\"black\" points=\"137.03,-257.47 127.7,-252.45 131.86,-262.19 137.03,-257.47\"/>\n",
       "</g>\n",
       "<!-- inner_output -->\n",
       "<g id=\"node11\" class=\"node\">\n",
       "<title>inner_output</title>\n",
       "<ellipse fill=\"none\" stroke=\"black\" cx=\"111.75\" cy=\"-162\" rx=\"57.39\" ry=\"18\"/>\n",
       "<text text-anchor=\"middle\" x=\"111.75\" y=\"-158.3\" font-family=\"Times,serif\" font-size=\"14.00\">inner_output</text>\n",
       "</g>\n",
       "<!-- inner_func&#45;&gt;inner_output -->\n",
       "<g id=\"edge11\" class=\"edge\">\n",
       "<title>inner_func&#45;&gt;inner_output</title>\n",
       "<path fill=\"none\" stroke=\"black\" d=\"M111.75,-215.7C111.75,-207.98 111.75,-198.71 111.75,-190.11\"/>\n",
       "<polygon fill=\"black\" stroke=\"black\" points=\"115.25,-190.1 111.75,-180.1 108.25,-190.1 115.25,-190.1\"/>\n",
       "</g>\n",
       "<!-- egress -->\n",
       "<g id=\"node12\" class=\"node\">\n",
       "<title>egress</title>\n",
       "<polygon fill=\"none\" stroke=\"black\" points=\"138.75,-108 84.75,-108 84.75,-72 138.75,-72 138.75,-108\"/>\n",
       "<text text-anchor=\"middle\" x=\"111.75\" y=\"-86.3\" font-family=\"Times,serif\" font-size=\"14.00\">egress</text>\n",
       "</g>\n",
       "<!-- inner_output&#45;&gt;egress -->\n",
       "<g id=\"edge12\" class=\"edge\">\n",
       "<title>inner_output&#45;&gt;egress</title>\n",
       "<path fill=\"none\" stroke=\"black\" d=\"M111.75,-143.7C111.75,-135.98 111.75,-126.71 111.75,-118.11\"/>\n",
       "<polygon fill=\"black\" stroke=\"black\" points=\"115.25,-118.1 111.75,-108.1 108.25,-118.1 115.25,-118.1\"/>\n",
       "</g>\n",
       "<!-- outer_output -->\n",
       "<g id=\"node13\" class=\"node\">\n",
       "<title>outer_output</title>\n",
       "<ellipse fill=\"none\" stroke=\"black\" cx=\"111.75\" cy=\"-18\" rx=\"57.39\" ry=\"18\"/>\n",
       "<text text-anchor=\"middle\" x=\"111.75\" y=\"-14.3\" font-family=\"Times,serif\" font-size=\"14.00\">outer_output</text>\n",
       "</g>\n",
       "<!-- egress&#45;&gt;outer_output -->\n",
       "<g id=\"edge13\" class=\"edge\">\n",
       "<title>egress&#45;&gt;outer_output</title>\n",
       "<path fill=\"none\" stroke=\"black\" d=\"M111.75,-71.7C111.75,-63.98 111.75,-54.71 111.75,-46.11\"/>\n",
       "<polygon fill=\"black\" stroke=\"black\" points=\"115.25,-46.1 111.75,-36.1 108.25,-46.1 115.25,-46.1\"/>\n",
       "</g>\n",
       "</g>\n",
       "</svg>\n"
      ],
      "text/plain": [
       "<graphviz.graphs.Digraph at 0x11bb5caf0>"
      ]
     },
     "execution_count": 12,
     "metadata": {},
     "output_type": "execute_result"
    }
   ],
   "source": [
    "from qo import dgdisp, dot_to_ascii\n",
    "\n",
    "dgdisp(\"\"\"\n",
    "outer_args, outer_kwargs -> [outer_sig_bind] -> outer_all_kwargs -> [input_trans] -> inner_all_kwargs\n",
    "inner_all_kwargs -> [inner_sig_bind] -> inner_args, inner_kwargs -> [inner_func] -> inner_output\n",
    "inner_output -> [egress] -> outer_output\n",
    "\"\"\")"
   ]
  },
  {
   "cell_type": "code",
   "execution_count": 13,
   "metadata": {
    "ExecuteTime": {
     "end_time": "2022-01-28T23:02:23.374387Z",
     "start_time": "2022-01-28T23:02:23.055556Z"
    }
   },
   "outputs": [
    {
     "name": "stderr",
     "output_type": "stream",
     "text": [
      "Warning: using box for unknown shape None\n"
     ]
    },
    {
     "data": {
      "image/svg+xml": [
       "<?xml version=\"1.0\" encoding=\"UTF-8\" standalone=\"no\"?>\n",
       "<!DOCTYPE svg PUBLIC \"-//W3C//DTD SVG 1.1//EN\"\n",
       " \"http://www.w3.org/Graphics/SVG/1.1/DTD/svg11.dtd\">\n",
       "<!-- Generated by graphviz version 2.49.3 (20211023.0002)\n",
       " -->\n",
       "<!-- Pages: 1 -->\n",
       "<svg width=\"228pt\" height=\"476pt\"\n",
       " viewBox=\"0.00 0.00 228.00 476.00\" xmlns=\"http://www.w3.org/2000/svg\" xmlns:xlink=\"http://www.w3.org/1999/xlink\">\n",
       "<g id=\"graph0\" class=\"graph\" transform=\"scale(1 1) rotate(0) translate(4 472)\">\n",
       "<polygon fill=\"white\" stroke=\"transparent\" points=\"-4,4 -4,-472 224,-472 224,4 -4,4\"/>\n",
       "<!-- ingress_input -->\n",
       "<g id=\"node1\" class=\"node\">\n",
       "<title>ingress_input</title>\n",
       "<polygon fill=\"none\" stroke=\"black\" points=\"220,-468 0,-468 0,-432 220,-432 220,-468\"/>\n",
       "<text text-anchor=\"middle\" x=\"110\" y=\"-446.3\" font-family=\"Times,serif\" font-size=\"14.00\">*interface_args, **interface_kwargs</text>\n",
       "</g>\n",
       "<!-- ingress -->\n",
       "<g id=\"node5\" class=\"node\">\n",
       "<title>ingress</title>\n",
       "<ellipse fill=\"none\" stroke=\"black\" cx=\"110\" cy=\"-378\" rx=\"36.29\" ry=\"18\"/>\n",
       "<text text-anchor=\"middle\" x=\"110\" y=\"-374.3\" font-family=\"Times,serif\" font-size=\"14.00\">ingress</text>\n",
       "</g>\n",
       "<!-- ingress_input&#45;&gt;ingress -->\n",
       "<g id=\"edge1\" class=\"edge\">\n",
       "<title>ingress_input&#45;&gt;ingress</title>\n",
       "<path fill=\"none\" stroke=\"black\" d=\"M110,-431.7C110,-423.98 110,-414.71 110,-406.11\"/>\n",
       "<polygon fill=\"black\" stroke=\"black\" points=\"113.5,-406.1 110,-396.1 106.5,-406.1 113.5,-406.1\"/>\n",
       "</g>\n",
       "<!-- ingress_output -->\n",
       "<g id=\"node2\" class=\"node\">\n",
       "<title>ingress_output</title>\n",
       "<polygon fill=\"none\" stroke=\"black\" points=\"196,-324 24,-324 24,-288 196,-288 196,-324\"/>\n",
       "<text text-anchor=\"middle\" x=\"110\" y=\"-302.3\" font-family=\"Times,serif\" font-size=\"14.00\">*func_args, **func_kwargs</text>\n",
       "</g>\n",
       "<!-- func -->\n",
       "<g id=\"node6\" class=\"node\">\n",
       "<title>func</title>\n",
       "<ellipse fill=\"none\" stroke=\"black\" cx=\"110\" cy=\"-234\" rx=\"27\" ry=\"18\"/>\n",
       "<text text-anchor=\"middle\" x=\"110\" y=\"-230.3\" font-family=\"Times,serif\" font-size=\"14.00\">func</text>\n",
       "</g>\n",
       "<!-- ingress_output&#45;&gt;func -->\n",
       "<g id=\"edge3\" class=\"edge\">\n",
       "<title>ingress_output&#45;&gt;func</title>\n",
       "<path fill=\"none\" stroke=\"black\" d=\"M110,-287.7C110,-279.98 110,-270.71 110,-262.11\"/>\n",
       "<polygon fill=\"black\" stroke=\"black\" points=\"113.5,-262.1 110,-252.1 106.5,-262.1 113.5,-262.1\"/>\n",
       "</g>\n",
       "<!-- func_output -->\n",
       "<g id=\"node3\" class=\"node\">\n",
       "<title>func_output</title>\n",
       "<polygon fill=\"none\" stroke=\"black\" points=\"152,-180 68,-180 68,-144 152,-144 152,-180\"/>\n",
       "<text text-anchor=\"middle\" x=\"110\" y=\"-158.3\" font-family=\"Times,serif\" font-size=\"14.00\">func_output</text>\n",
       "</g>\n",
       "<!-- egress -->\n",
       "<g id=\"node7\" class=\"node\">\n",
       "<title>egress</title>\n",
       "<ellipse fill=\"none\" stroke=\"black\" cx=\"110\" cy=\"-90\" rx=\"33.29\" ry=\"18\"/>\n",
       "<text text-anchor=\"middle\" x=\"110\" y=\"-86.3\" font-family=\"Times,serif\" font-size=\"14.00\">egress</text>\n",
       "</g>\n",
       "<!-- func_output&#45;&gt;egress -->\n",
       "<g id=\"edge5\" class=\"edge\">\n",
       "<title>func_output&#45;&gt;egress</title>\n",
       "<path fill=\"none\" stroke=\"black\" d=\"M110,-143.7C110,-135.98 110,-126.71 110,-118.11\"/>\n",
       "<polygon fill=\"black\" stroke=\"black\" points=\"113.5,-118.1 110,-108.1 106.5,-118.1 113.5,-118.1\"/>\n",
       "</g>\n",
       "<!-- final_output -->\n",
       "<g id=\"node4\" class=\"node\">\n",
       "<title>final_output</title>\n",
       "<polygon fill=\"none\" stroke=\"black\" points=\"152,-36 68,-36 68,0 152,0 152,-36\"/>\n",
       "<text text-anchor=\"middle\" x=\"110\" y=\"-14.3\" font-family=\"Times,serif\" font-size=\"14.00\">final_output</text>\n",
       "</g>\n",
       "<!-- ingress&#45;&gt;ingress_output -->\n",
       "<g id=\"edge2\" class=\"edge\">\n",
       "<title>ingress&#45;&gt;ingress_output</title>\n",
       "<path fill=\"none\" stroke=\"black\" d=\"M110,-359.7C110,-351.98 110,-342.71 110,-334.11\"/>\n",
       "<polygon fill=\"black\" stroke=\"black\" points=\"113.5,-334.1 110,-324.1 106.5,-334.1 113.5,-334.1\"/>\n",
       "</g>\n",
       "<!-- func&#45;&gt;func_output -->\n",
       "<g id=\"edge4\" class=\"edge\">\n",
       "<title>func&#45;&gt;func_output</title>\n",
       "<path fill=\"none\" stroke=\"black\" d=\"M110,-215.7C110,-207.98 110,-198.71 110,-190.11\"/>\n",
       "<polygon fill=\"black\" stroke=\"black\" points=\"113.5,-190.1 110,-180.1 106.5,-190.1 113.5,-190.1\"/>\n",
       "</g>\n",
       "<!-- egress&#45;&gt;final_output -->\n",
       "<g id=\"edge6\" class=\"edge\">\n",
       "<title>egress&#45;&gt;final_output</title>\n",
       "<path fill=\"none\" stroke=\"black\" d=\"M110,-71.7C110,-63.98 110,-54.71 110,-46.11\"/>\n",
       "<polygon fill=\"black\" stroke=\"black\" points=\"113.5,-46.1 110,-36.1 106.5,-46.1 113.5,-46.1\"/>\n",
       "</g>\n",
       "</g>\n",
       "</svg>\n"
      ],
      "text/plain": [
       "<graphviz.graphs.Digraph at 0x11bb5ca30>"
      ]
     },
     "execution_count": 13,
     "metadata": {},
     "output_type": "execute_result"
    }
   ],
   "source": [
    "display_func = Pipe(dot_to_ascii, print)\n",
    "display_func = dgdisp\n",
    "\n",
    "display_func(\"\"\"\n",
    "ingress_input -> ingress\n",
    "ingress -> ingress_output\n",
    "ingress_output -> func\n",
    "func -> func_output\n",
    "func_output -> egress\n",
    "egress -> final_output\n",
    "\n",
    "ingress_input [shape=None]\n",
    "ingress_output [shape=None]\n",
    "func_output [shape=None]\n",
    "final_output [shape=None]\n",
    "ingress_input [label=\"*interface_args, **interface_kwargs\"]\n",
    "ingress_output [label=\"*func_args, **func_kwargs\"]\n",
    "\"\"\")"
   ]
  },
  {
   "cell_type": "code",
   "execution_count": 14,
   "metadata": {
    "ExecuteTime": {
     "end_time": "2022-01-28T23:02:31.019595Z",
     "start_time": "2022-01-28T23:02:30.672451Z"
    }
   },
   "outputs": [
    {
     "data": {
      "image/svg+xml": [
       "<?xml version=\"1.0\" encoding=\"UTF-8\" standalone=\"no\"?>\n",
       "<!DOCTYPE svg PUBLIC \"-//W3C//DTD SVG 1.1//EN\"\n",
       " \"http://www.w3.org/Graphics/SVG/1.1/DTD/svg11.dtd\">\n",
       "<!-- Generated by graphviz version 2.49.3 (20211023.0002)\n",
       " -->\n",
       "<!-- Pages: 1 -->\n",
       "<svg width=\"241pt\" height=\"476pt\"\n",
       " viewBox=\"0.00 0.00 240.68 476.00\" xmlns=\"http://www.w3.org/2000/svg\" xmlns:xlink=\"http://www.w3.org/1999/xlink\">\n",
       "<g id=\"graph0\" class=\"graph\" transform=\"scale(1 1) rotate(0) translate(4 472)\">\n",
       "<polygon fill=\"white\" stroke=\"transparent\" points=\"-4,4 -4,-472 236.68,-472 236.68,4 -4,4\"/>\n",
       "<!-- ingress -->\n",
       "<g id=\"node1\" class=\"node\">\n",
       "<title>ingress</title>\n",
       "<polygon fill=\"lightgrey\" stroke=\"black\" points=\"144.34,-396 88.34,-396 88.34,-360 144.34,-360 144.34,-396\"/>\n",
       "<text text-anchor=\"middle\" x=\"116.34\" y=\"-374.3\" font-family=\"Times,serif\" font-size=\"14.00\">ingress</text>\n",
       "</g>\n",
       "<!-- ingress_output -->\n",
       "<g id=\"node5\" class=\"node\">\n",
       "<title>ingress_output</title>\n",
       "<ellipse fill=\"none\" stroke=\"black\" cx=\"116.34\" cy=\"-306\" rx=\"116.18\" ry=\"18\"/>\n",
       "<text text-anchor=\"middle\" x=\"116.34\" y=\"-302.3\" font-family=\"Times,serif\" font-size=\"14.00\">*inner_args, **inner_kwargs</text>\n",
       "</g>\n",
       "<!-- ingress&#45;&gt;ingress_output -->\n",
       "<g id=\"edge2\" class=\"edge\">\n",
       "<title>ingress&#45;&gt;ingress_output</title>\n",
       "<path fill=\"none\" stroke=\"black\" d=\"M116.34,-359.7C116.34,-351.98 116.34,-342.71 116.34,-334.11\"/>\n",
       "<polygon fill=\"black\" stroke=\"black\" points=\"119.84,-334.1 116.34,-324.1 112.84,-334.1 119.84,-334.1\"/>\n",
       "</g>\n",
       "<!-- func -->\n",
       "<g id=\"node2\" class=\"node\">\n",
       "<title>func</title>\n",
       "<polygon fill=\"lightgrey\" stroke=\"black\" points=\"143.34,-252 89.34,-252 89.34,-216 143.34,-216 143.34,-252\"/>\n",
       "<text text-anchor=\"middle\" x=\"116.34\" y=\"-230.3\" font-family=\"Times,serif\" font-size=\"14.00\">func</text>\n",
       "</g>\n",
       "<!-- func_output -->\n",
       "<g id=\"node6\" class=\"node\">\n",
       "<title>func_output</title>\n",
       "<ellipse fill=\"none\" stroke=\"black\" cx=\"116.34\" cy=\"-162\" rx=\"57.39\" ry=\"18\"/>\n",
       "<text text-anchor=\"middle\" x=\"116.34\" y=\"-158.3\" font-family=\"Times,serif\" font-size=\"14.00\">inner_output</text>\n",
       "</g>\n",
       "<!-- func&#45;&gt;func_output -->\n",
       "<g id=\"edge4\" class=\"edge\">\n",
       "<title>func&#45;&gt;func_output</title>\n",
       "<path fill=\"none\" stroke=\"black\" d=\"M116.34,-215.7C116.34,-207.98 116.34,-198.71 116.34,-190.11\"/>\n",
       "<polygon fill=\"black\" stroke=\"black\" points=\"119.84,-190.1 116.34,-180.1 112.84,-190.1 119.84,-190.1\"/>\n",
       "</g>\n",
       "<!-- egress -->\n",
       "<g id=\"node3\" class=\"node\">\n",
       "<title>egress</title>\n",
       "<polygon fill=\"lightgrey\" stroke=\"black\" points=\"143.34,-108 89.34,-108 89.34,-72 143.34,-72 143.34,-108\"/>\n",
       "<text text-anchor=\"middle\" x=\"116.34\" y=\"-86.3\" font-family=\"Times,serif\" font-size=\"14.00\">egress</text>\n",
       "</g>\n",
       "<!-- final_output -->\n",
       "<g id=\"node7\" class=\"node\">\n",
       "<title>final_output</title>\n",
       "<ellipse fill=\"none\" stroke=\"black\" cx=\"116.34\" cy=\"-18\" rx=\"57.39\" ry=\"18\"/>\n",
       "<text text-anchor=\"middle\" x=\"116.34\" y=\"-14.3\" font-family=\"Times,serif\" font-size=\"14.00\">outer_output</text>\n",
       "</g>\n",
       "<!-- egress&#45;&gt;final_output -->\n",
       "<g id=\"edge6\" class=\"edge\">\n",
       "<title>egress&#45;&gt;final_output</title>\n",
       "<path fill=\"none\" stroke=\"black\" d=\"M116.34,-71.7C116.34,-63.98 116.34,-54.71 116.34,-46.11\"/>\n",
       "<polygon fill=\"black\" stroke=\"black\" points=\"119.84,-46.1 116.34,-36.1 112.84,-46.1 119.84,-46.1\"/>\n",
       "</g>\n",
       "<!-- ingress_input -->\n",
       "<g id=\"node4\" class=\"node\">\n",
       "<title>ingress_input</title>\n",
       "<ellipse fill=\"none\" stroke=\"black\" cx=\"116.34\" cy=\"-450\" rx=\"116.18\" ry=\"18\"/>\n",
       "<text text-anchor=\"middle\" x=\"116.34\" y=\"-446.3\" font-family=\"Times,serif\" font-size=\"14.00\">*outer_args, **outer_kwargs</text>\n",
       "</g>\n",
       "<!-- ingress_input&#45;&gt;ingress -->\n",
       "<g id=\"edge1\" class=\"edge\">\n",
       "<title>ingress_input&#45;&gt;ingress</title>\n",
       "<path fill=\"none\" stroke=\"black\" d=\"M116.34,-431.7C116.34,-423.98 116.34,-414.71 116.34,-406.11\"/>\n",
       "<polygon fill=\"black\" stroke=\"black\" points=\"119.84,-406.1 116.34,-396.1 112.84,-406.1 119.84,-406.1\"/>\n",
       "</g>\n",
       "<!-- ingress_output&#45;&gt;func -->\n",
       "<g id=\"edge3\" class=\"edge\">\n",
       "<title>ingress_output&#45;&gt;func</title>\n",
       "<path fill=\"none\" stroke=\"black\" d=\"M116.34,-287.7C116.34,-279.98 116.34,-270.71 116.34,-262.11\"/>\n",
       "<polygon fill=\"black\" stroke=\"black\" points=\"119.84,-262.1 116.34,-252.1 112.84,-262.1 119.84,-262.1\"/>\n",
       "</g>\n",
       "<!-- func_output&#45;&gt;egress -->\n",
       "<g id=\"edge5\" class=\"edge\">\n",
       "<title>func_output&#45;&gt;egress</title>\n",
       "<path fill=\"none\" stroke=\"black\" d=\"M116.34,-143.7C116.34,-135.98 116.34,-126.71 116.34,-118.11\"/>\n",
       "<polygon fill=\"black\" stroke=\"black\" points=\"119.84,-118.1 116.34,-108.1 112.84,-118.1 119.84,-118.1\"/>\n",
       "</g>\n",
       "</g>\n",
       "</svg>\n"
      ],
      "text/plain": [
       "<graphviz.graphs.Digraph at 0x11bae83d0>"
      ]
     },
     "execution_count": 14,
     "metadata": {},
     "output_type": "execute_result"
    }
   ],
   "source": [
    "display_func = Pipe(dot_to_ascii, print)\n",
    "display_func = dgdisp\n",
    "\n",
    "variable_props = 'shape=\"oval\"'\n",
    "func_props = 'shape=\"rectangle\" style=filled'\n",
    "\n",
    "display_func(\"\"\"\n",
    "    ingress_input -> ingress\n",
    "    ingress -> ingress_output\n",
    "    ingress_output -> func\n",
    "    func -> func_output\n",
    "    func_output -> egress\n",
    "    egress -> final_output\n",
    "\n",
    "    ingress [{func_props}]\n",
    "    func [{func_props}]\n",
    "    egress [{func_props}]\n",
    "\n",
    "    ingress_input [{variable_props}]\n",
    "    ingress_output [{variable_props}]\n",
    "    func_output [label=\"inner_output\" {variable_props}]\n",
    "    final_output [label=\"outer_output\" {variable_props}]\n",
    "    ingress_input [label=\"*outer_args, **outer_kwargs\" {variable_props}]\n",
    "    ingress_output [label=\"*inner_args, **inner_kwargs\" {variable_props}]\n",
    "    \"\"\".format(variable_props=variable_props, func_props=func_props)\n",
    "             )"
   ]
  },
  {
   "cell_type": "code",
   "execution_count": 17,
   "metadata": {
    "ExecuteTime": {
     "end_time": "2022-01-28T23:27:03.887874Z",
     "start_time": "2022-01-28T23:27:03.829027Z"
    }
   },
   "outputs": [
    {
     "data": {
      "text/plain": [
       "['ArgumentParser',\n",
       " 'ErrorString',\n",
       " 'M2R',\n",
       " 'M2RParser',\n",
       " 'MdInclude',\n",
       " 'Namespace',\n",
       " 'RestBlockGrammar',\n",
       " 'RestBlockLexer',\n",
       " 'RestInlineGrammar',\n",
       " 'RestInlineLexer',\n",
       " 'RestRenderer',\n",
       " 'SafeString',\n",
       " 'column_width',\n",
       " 'convert',\n",
       " 'io',\n",
       " 'main',\n",
       " 'mistune',\n",
       " 'nodes',\n",
       " 'options',\n",
       " 'os',\n",
       " 'parse_from_file',\n",
       " 'parse_options',\n",
       " 'parser',\n",
       " 'print_function',\n",
       " 'prolog',\n",
       " 're',\n",
       " 'rst',\n",
       " 'save_to_file',\n",
       " 'setup',\n",
       " 'statemachine',\n",
       " 'sys',\n",
       " 'unicode_literals',\n",
       " 'urlparse',\n",
       " 'utils']"
      ]
     },
     "execution_count": 17,
     "metadata": {},
     "output_type": "execute_result"
    }
   ],
   "source": [
    "import m2r\n",
    "from qo import ddir\n",
    "ddir(m2r)"
   ]
  },
  {
   "cell_type": "code",
   "execution_count": null,
   "metadata": {},
   "outputs": [],
   "source": [
    "m2r.parse_from_file()"
   ]
  },
  {
   "cell_type": "code",
   "execution_count": null,
   "metadata": {},
   "outputs": [],
   "source": [
    "from i2.wrapper import InnerMapIngress, wrap\n",
    "from inspect import signature\n",
    "\n",
    "\n",
    "def formula2(w, /, x: float, y=2, *, z: int = 3):\n",
    "    \"\"\"Has 3 kinds & every of the 4 combinations of (default y/n, annotated y/n)\n",
    "    >>> formula2(0, 1, 2)\n",
    "    '(w:=0) + (x:=1) * (y:=2) ** (z:=3) == 8'\n",
    "    \"\"\"\n",
    "    return f\"(w:={w}) + (x:={x}) * (y:={y}) ** (z:={z}) == {w + x * y ** z}\"\n",
    "\n",
    "\n",
    "f = formula2\n",
    "\n",
    "assert f(0, 1, 2) == '(w:=0) + (x:=1) * (y:=2) ** (z:=3) == 8'\n",
    "\n",
    "ingress = InnerMapIngress(f, z=dict(name='zoo'))\n",
    "\n",
    "assert str(signature(ingress)) == '(w, /, x: float, y=2, *, zoo: int = 3)'\n",
    "assert ingress(0, 1, 2, zoo=3) == ((0,), {'x': 1, 'y': 2, 'z': 3})"
   ]
  },
  {
   "cell_type": "code",
   "execution_count": null,
   "metadata": {},
   "outputs": [],
   "source": [
    "from inspect import signature\n",
    "\n",
    "assert str(signature(ingress)) == '(w, /, x: float, y=2, *, zoo: int = 3)'"
   ]
  }
 ],
 "metadata": {
  "kernelspec": {
   "display_name": "Python 3 (ipykernel)",
   "language": "python",
   "name": "python3"
  },
  "language_info": {
   "codemirror_mode": {
    "name": "ipython",
    "version": 3
   },
   "file_extension": ".py",
   "mimetype": "text/x-python",
   "name": "python",
   "nbconvert_exporter": "python",
   "pygments_lexer": "ipython3",
   "version": "3.8.6"
  },
  "latex_envs": {
   "LaTeX_envs_menu_present": true,
   "autoclose": false,
   "autocomplete": true,
   "bibliofile": "biblio.bib",
   "cite_by": "apalike",
   "current_citInitial": 1,
   "eqLabelWithNumbers": true,
   "eqNumInitial": 1,
   "hotkeys": {
    "equation": "Ctrl-E",
    "itemize": "Ctrl-I"
   },
   "labels_anchors": false,
   "latex_user_defs": false,
   "report_style_numbering": false,
   "user_envs_cfg": false
  },
  "toc": {
   "base_numbering": 1,
   "nav_menu": {},
   "number_sections": true,
   "sideBar": true,
   "skip_h1_title": false,
   "title_cell": "Table of Contents",
   "title_sidebar": "Contents",
   "toc_cell": true,
   "toc_position": {
    "height": "calc(100% - 180px)",
    "left": "10px",
    "top": "150px",
    "width": "165px"
   },
   "toc_section_display": true,
   "toc_window_display": true
  }
 },
 "nbformat": 4,
 "nbformat_minor": 1
}
