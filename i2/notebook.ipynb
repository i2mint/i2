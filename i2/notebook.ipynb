{
 "cells": [
  {
   "cell_type": "markdown",
   "metadata": {},
   "source": [
    "# check ch_func_to_all_pk"
   ]
  },
  {
   "cell_type": "markdown",
   "metadata": {},
   "source": [
    "The problem with that function is that it mixes things: \n",
    "* it does not touch VK. \n",
    "* it transforms VP into tuple"
   ]
  },
  {
   "cell_type": "code",
   "execution_count": 14,
   "metadata": {},
   "outputs": [
    {
     "name": "stdout",
     "output_type": "stream",
     "text": [
      "(a, /, b, *, c=None, **kwargs)\n",
      "(a, b, c=None, **kwargs)\n",
      "(x, y=1, *args, **kwargs)\n",
      "(x, y=1, args=(), **kwargs)\n"
     ]
    }
   ],
   "source": [
    "    >>> from i2.signatures import ch_func_to_all_pk, Sig\n",
    "    >>> def f(a, /, b, *, c=None, **kwargs):\n",
    "    ...     return a + b * c\n",
    "    ...\n",
    "    >>> print(Sig(f))\n",
    "    #(a, /, b, *, c=None, **kwargs)\n",
    "    >>> ff = ch_func_to_all_pk(f)\n",
    "    >>> print(Sig(ff))\n",
    "    #(a, b, c=None, **kwargs)\n",
    "    >>> ff(1, 2, 3)\n",
    "    #7\n",
    "    >>>\n",
    "    >>> def g(x, y=1, *args, **kwargs):\n",
    "    ...     ...\n",
    "    ...\n",
    "    >>> print(Sig(g))\n",
    "    #(x, y=1, *args, **kwargs)\n",
    "    >>> gg = ch_func_to_all_pk(g)\n",
    "    >>> print(Sig(gg))\n",
    "    #(x, y=1, args=(), **kwargs)"
   ]
  },
  {
   "cell_type": "code",
   "execution_count": 18,
   "metadata": {},
   "outputs": [],
   "source": [
    "from i2.signatures import VP, VK,PK\n",
    "from i2.wrapper import nice_kinds\n",
    "def non_variadics_to_PK(kinds):\n",
    "    return {name: PK for name,kind in kinds.items() if kind not in [VP, VK]}\n",
    "\n",
    "\n",
    "kinds_modifier=non_variadics_to_PK\n",
    "h = nice_kinds(f, kinds_modifier=non_variadics_to_PK)\n"
   ]
  },
  {
   "cell_type": "code",
   "execution_count": 19,
   "metadata": {},
   "outputs": [
    {
     "name": "stdout",
     "output_type": "stream",
     "text": [
      "(x, y=1, *args, **kwargs)\n"
     ]
    }
   ],
   "source": [
    "hh = nice_kinds(g, kinds_modifier=non_variadics_to_PK)\n",
    "print(Sig(hh))\n",
    "#(x, y=1, args=(), **kwargs)"
   ]
  },
  {
   "cell_type": "code",
   "execution_count": 20,
   "metadata": {},
   "outputs": [
    {
     "name": "stdout",
     "output_type": "stream",
     "text": [
      "(x, y=1, *args, **kwargs)\n",
      "(x, y=1, args=(), **kwargs)\n"
     ]
    }
   ],
   "source": [
    "    >>> def g(x, y=1, *args, **kwargs):\n",
    "    ...     ...\n",
    "    ...\n",
    "    >>> print(Sig(g))\n",
    "    #(x, y=1, *args, **kwargs)\n",
    "    >>> gg = ch_func_to_all_pk(g)\n",
    "    >>> print(Sig(gg))\n",
    "    #(x, y=1, args=(), **kwargs)"
   ]
  },
  {
   "cell_type": "code",
   "execution_count": 15,
   "metadata": {},
   "outputs": [],
   "source": [
    "def nice_kinds(func, kinds_modifier=convert_to_PK):\n",
    "    \"\"\"Wraps the func, changing the argument kinds according to kinds_modifier.\n",
    "    The default behaviour is to change all kinds to POSITIONAL_OR_KEYWORD kinds.\n",
    "    The original purpose of this function is to remove argument-kind restriction\n",
    "    annoyances when doing functional manipulations such as:\n",
    "\n",
    "    >>> from functools import partial\n",
    "    >>> isinstance_of_str = partial(isinstance, class_or_tuple=str)\n",
    "    >>> isinstance_of_str('I am a string')\n",
    "    Traceback (most recent call last):\n",
    "      ...\n",
    "    TypeError: isinstance() takes no keyword arguments\n",
    "\n",
    "    Here, instead, we can just get a kinder version of the function and do what we\n",
    "    want to do:\n",
    "\n",
    "    >>> _isinstance = nice_kinds(isinstance)\n",
    "    >>> isinstance_of_str = partial(_isinstance, class_or_tuple=str)\n",
    "    >>> isinstance_of_str('I am a string')\n",
    "    True\n",
    "    >>> isinstance_of_str(42)\n",
    "    False\n",
    "\n",
    "    See also: ``i2.signatures.all_pk_signature``\n",
    "\n",
    "    \"\"\"\n",
    "    from i2 import Sig, call_somewhat_forgivingly\n",
    "\n",
    "    sig = Sig(func)\n",
    "    kinds_modif = kinds_modifier(sig.kinds)\n",
    "\n",
    "    sig = sig.ch_kinds(**kinds_modif)\n",
    "\n",
    "    # sig = sig.ch_kinds(**{name: Sig.POSITIONAL_OR_KEYWORD for name in sig.names})\n",
    "\n",
    "    @wraps(func)\n",
    "    def _func(*args, **kwargs):\n",
    "        return call_somewhat_forgivingly(func, args, kwargs, enforce_sig=sig)\n",
    "\n",
    "    _func.__signature__ = sig\n",
    "    return _func"
   ]
  },
  {
   "cell_type": "markdown",
   "metadata": {},
   "source": [
    "# Removing the variadics"
   ]
  },
  {
   "cell_type": "markdown",
   "metadata": {},
   "source": [
    "Use only ch_variadics_to_non_variadic_kind to do the removal, and tuple_the_args to remove only the VP."
   ]
  },
  {
   "cell_type": "markdown",
   "metadata": {},
   "source": []
  },
  {
   "cell_type": "markdown",
   "metadata": {},
   "source": [
    "# Work at the signature level signatures"
   ]
  },
  {
   "cell_type": "markdown",
   "metadata": {},
   "source": [
    "# Wrapper part"
   ]
  },
  {
   "cell_type": "code",
   "execution_count": 21,
   "metadata": {},
   "outputs": [],
   "source": [
    "# from functools import wraps\n",
    "\n",
    "# def wrap_from_sig(func, new_sig):\n",
    "#     @wraps(func)\n",
    "#     def _func(*args, **kwargs):\n",
    "#         return call_somewhat_forgivingly(func, args, kwargs, enforce_sig=new_sig)\n",
    "\n",
    "#     _func.__signature__ = new_sig\n",
    "    \n",
    "#     return _func"
   ]
  },
  {
   "cell_type": "code",
   "execution_count": 17,
   "metadata": {},
   "outputs": [],
   "source": [
    "# new_sig = Sig(ff)\n",
    "# new_f = wrap_from_sig(f, new_sig)"
   ]
  },
  {
   "cell_type": "code",
   "execution_count": 22,
   "metadata": {},
   "outputs": [],
   "source": [
    "#Sig(new_f), Sig(f)"
   ]
  },
  {
   "cell_type": "markdown",
   "metadata": {},
   "source": [
    "# Remove_variadics at the signature level"
   ]
  },
  {
   "cell_type": "code",
   "execution_count": 24,
   "metadata": {},
   "outputs": [],
   "source": [
    "\n"
   ]
  },
  {
   "cell_type": "code",
   "execution_count": 25,
   "metadata": {},
   "outputs": [],
   "source": [
    "    >>> from i2.signatures import _remove_variadics_from_sig\n",
    "\n",
    "    >>> def foo(a, *args, bar, **kwargs):\n",
    "    ...     return f\"{a=}, {args=}, {bar=}, {kwargs=}\"\n",
    "    >>> sig = Sig(foo)\n",
    "    >>> assert str(sig) == '(a, *args, bar, **kwargs)'\n",
    "    >>> new_sig = remove_variadics_from_sig(sig)\n",
    "    >>> str(new_sig)=='(a, args=(), *, bar, kwargs={})'\n",
    "    \n",
    "\n",
    "    \n",
    "\n",
    "    #Note that if there is not variadic positional arguments, the variadic keyword\n",
    "    #will still be a keyword-only kind.\n",
    "\n",
    "    >>> def func(a, bar=None, **kwargs):\n",
    "    ...     return f\"{a=}, {bar=}, {kwargs=}\"\n",
    "    >>> nsig = remove_variadics_from_sig(Sig(func))\n",
    "    >>> assert str(nsig)=='(a, bar=None, *, kwargs={})'\n",
    "    \n",
    "    #If the function has neither variadic kinds, it will remain untouched.\n",
    "\n",
    "    >>> def func(a, /, b, *, c=3):\n",
    "    ...     return a + b + c\n",
    "    >>> sig = remove_variadics_from_sig(Sig(func))\n",
    "\n",
    "    >>> assert sig == Sig(func)\n",
    "    \n",
    "\n",
    "    #If you only want the variadic positional to be handled, but leave leave any\n",
    "    #VARIADIC_KEYWORD kinds (**kwargs) alone, you can do so by setting\n",
    "    #`ch_variadic_keyword_to_keyword=False`.\n",
    "    \n",
    "    >>> def foo(a, *args, bar=None, **kwargs):\n",
    "    ...     return f\"{a=}, {args=}, {bar=}, {kwargs=}\"\n",
    "    >>> assert str(Sig(remove_variadics_from_sig(Sig(foo))))=='(a, args=(), *, bar=None, kwargs={})'\n",
    "    #<Sig (a, args=(), *, bar=None, **kwargs)>"
   ]
  },
  {
   "cell_type": "code",
   "execution_count": 26,
   "metadata": {},
   "outputs": [
    {
     "name": "stdout",
     "output_type": "stream",
     "text": [
      "(a, args=(), *, bar=None, kwargs={})\n"
     ]
    }
   ],
   "source": [
    "print(Sig(remove_variadics_from_sig(Sig(foo))))"
   ]
  },
  {
   "cell_type": "code",
   "execution_count": null,
   "metadata": {},
   "outputs": [],
   "source": [
    "from tested import validate_codec\n",
    "from i2 import wrap"
   ]
  },
  {
   "cell_type": "code",
   "execution_count": 27,
   "metadata": {},
   "outputs": [],
   "source": [
    "from i2 import wrap\n",
    "\n",
    "def variadic_dispatch_ingress(x,vp,y, vk):#create an ingress\n",
    "    return (x,)+ vp, dict(y=y, **vk)\n",
    "\n",
    "def sum_of_args(x,*vp, y, **vk):\n",
    "    t = sum(vp)\n",
    "    return {k: t + v for k, v in vk.items()}\n",
    "\n",
    "f = wrap(sum_of_args, ingress=variadic_dispatch_ingress)\n",
    "assert str(Sig(f)) == '(x, vp, y, vk)'\n",
    "assert sum_of_args(5,1,2,3, y=3, a=4, b=5) == {'a': 10, 'b': 11}\n",
    "\n",
    "assert f(5,(1,2,3), 3, dict( a=4, b=5)) == {'a': 10, 'b': 11}\n",
    "\n",
    "from tested import validate_codec\n",
    "assert validate_codec(f) == True\n"
   ]
  },
  {
   "cell_type": "code",
   "execution_count": 28,
   "metadata": {},
   "outputs": [],
   "source": [
    "gg = wrap(func)"
   ]
  },
  {
   "cell_type": "code",
   "execution_count": 30,
   "metadata": {},
   "outputs": [
    {
     "data": {
      "text/plain": [
       "True"
      ]
     },
     "execution_count": 30,
     "metadata": {},
     "output_type": "execute_result"
    }
   ],
   "source": [
    "\n",
    "validate_codec(gg)"
   ]
  },
  {
   "cell_type": "markdown",
   "metadata": {},
   "source": [
    "# Set debug=True in kwargs_from_args_and_kwargs"
   ]
  },
  {
   "cell_type": "code",
   "execution_count": 5,
   "metadata": {},
   "outputs": [],
   "source": [
    "from i2.signatures import _remove_variadics_from_sig, ch_variadics_to_non_variadic_kind\n",
    "from i2.wrapper import InnerMapIngress\n",
    "from i2 import Sig\n",
    "from i2.wrapper import wrap\n",
    "from inspect import Parameter, Signature"
   ]
  },
  {
   "cell_type": "code",
   "execution_count": 6,
   "metadata": {},
   "outputs": [],
   "source": [
    "    # >>> def foo(a, *args, bar, **kwargs):\n",
    "    # ...     return f\"{a=}, {args=}, {bar=}, {kwargs=}\"\n",
    "    # >>> assert str(Sig(foo)) == '(a, *args, bar, **kwargs)'\n",
    "    # >>> wfoo = ch_variadics_to_non_variadic_kind(foo)\n",
    "    # >>> str(Sig(wfoo))\n",
    "    # '(a, args=(), *, bar, kwargs={})'\n",
    "\n",
    "    # #And now to do this:\n",
    "\n",
    "    # >>> foo(1, 2, 3, bar=4, hello=\"world\")\n",
    "    # #\"a=1, args=(2, 3), bar=4, kwargs={'hello': 'world'}\"\n",
    "\n",
    "    # #We can do it like this instead:\n",
    "\n",
    "    # >>> wfoo(1, (2, 3), bar=4, kwargs=dict(hello=\"world\"))\n",
    "    # #\"a=1, args=(2, 3), bar=4, kwargs={'hello': 'world'}\""
   ]
  },
  {
   "cell_type": "code",
   "execution_count": 7,
   "metadata": {},
   "outputs": [],
   "source": [
    "#wfoo(1, (2, 3), bar=4, kwargs=dict(hello=\"world\"))"
   ]
  },
  {
   "cell_type": "code",
   "execution_count": 18,
   "metadata": {},
   "outputs": [],
   "source": [
    "def foo(po, *vp, ko, **vk):\n",
    "    return f\"{po=}, {vp=}, {ko=}, {vk=}\"\n",
    "\n",
    "new_sig = _remove_variadics_from_sig(Sig(foo))\n",
    "assert str(new_sig)=='(po, vp=(), *, ko, vk={})'\n",
    "\n",
    "ingress = InnerMapIngress.from_signature(\n",
    "         foo, outer_sig=new_sig\n",
    ")\n",
    "#new_sig.wrap"
   ]
  },
  {
   "cell_type": "code",
   "execution_count": 19,
   "metadata": {},
   "outputs": [],
   "source": [
    "# from i2.signatures import KO\n",
    "# ingress = InnerMapIngress.from_signature(\n",
    "#          foo, outer_sig=new_sig\n",
    "# )\n",
    "new_foo = wrap(foo, ingress=ingress)\n",
    "# assert str(Sig(new_foo))=='(po, vp=(), *, ko, vk={})'\n",
    "# #ingress2 = InnerMapIngress(foo, kwargs=dict(kind=KO, default={}))"
   ]
  },
  {
   "cell_type": "code",
   "execution_count": 20,
   "metadata": {},
   "outputs": [],
   "source": [
    "#clean_foo = ch_variadics_to_non_variadic_kind(foo)\n",
    "#clean_foo(1, (2, 3), ko=4, vk=dict(hello=\"world\"))"
   ]
  },
  {
   "cell_type": "code",
   "execution_count": 21,
   "metadata": {},
   "outputs": [],
   "source": [
    "#Sig(clean_foo)"
   ]
  },
  {
   "cell_type": "code",
   "execution_count": 22,
   "metadata": {},
   "outputs": [
    {
     "data": {
      "text/plain": [
       "<Sig (po, vp=(), *, ko, vk={})>"
      ]
     },
     "execution_count": 22,
     "metadata": {},
     "output_type": "execute_result"
    }
   ],
   "source": [
    "Sig(ingress)"
   ]
  },
  {
   "cell_type": "code",
   "execution_count": 23,
   "metadata": {},
   "outputs": [
    {
     "ename": "TypeError",
     "evalue": "foo() missing 1 required keyword-only argument: 'ko'",
     "output_type": "error",
     "traceback": [
      "\u001b[0;31m---------------------------------------------------------------------------\u001b[0m",
      "\u001b[0;31mTypeError\u001b[0m                                 Traceback (most recent call last)",
      "\u001b[0;32m<ipython-input-23-a2f7bcc4d6f8>\u001b[0m in \u001b[0;36m<module>\u001b[0;34m\u001b[0m\n\u001b[1;32m      2\u001b[0m \u001b[0;31m#new_foo = wrap(foo, ingress=ingress)\u001b[0m\u001b[0;34m\u001b[0m\u001b[0;34m\u001b[0m\u001b[0;34m\u001b[0m\u001b[0m\n\u001b[1;32m      3\u001b[0m \u001b[0;32massert\u001b[0m \u001b[0mstr\u001b[0m\u001b[0;34m(\u001b[0m\u001b[0mSig\u001b[0m\u001b[0;34m(\u001b[0m\u001b[0mnew_foo\u001b[0m\u001b[0;34m)\u001b[0m\u001b[0;34m)\u001b[0m\u001b[0;34m==\u001b[0m\u001b[0;34m'(po, vp=(), *, ko, vk={})'\u001b[0m\u001b[0;34m\u001b[0m\u001b[0;34m\u001b[0m\u001b[0m\n\u001b[0;32m----> 4\u001b[0;31m \u001b[0mnew_foo\u001b[0m\u001b[0;34m(\u001b[0m\u001b[0;36m1\u001b[0m\u001b[0;34m,\u001b[0m \u001b[0;34m(\u001b[0m\u001b[0;36m2\u001b[0m\u001b[0;34m,\u001b[0m \u001b[0;36m3\u001b[0m\u001b[0;34m)\u001b[0m\u001b[0;34m,\u001b[0m \u001b[0mko\u001b[0m\u001b[0;34m=\u001b[0m\u001b[0;36m4\u001b[0m\u001b[0;34m,\u001b[0m \u001b[0mvk\u001b[0m\u001b[0;34m=\u001b[0m\u001b[0mdict\u001b[0m\u001b[0;34m(\u001b[0m\u001b[0mhello\u001b[0m\u001b[0;34m=\u001b[0m\u001b[0;34m\"world\"\u001b[0m\u001b[0;34m)\u001b[0m\u001b[0;34m)\u001b[0m\u001b[0;34m\u001b[0m\u001b[0;34m\u001b[0m\u001b[0m\n\u001b[0m",
      "\u001b[0;32m~/Desktop/dev/otosense/i2/i2/wrapper.py\u001b[0m in \u001b[0;36m__call__\u001b[0;34m(self, *ingress_args, **ingress_kwargs)\u001b[0m\n\u001b[1;32m    319\u001b[0m     \u001b[0;32mdef\u001b[0m \u001b[0m__call__\u001b[0m\u001b[0;34m(\u001b[0m\u001b[0mself\u001b[0m\u001b[0;34m,\u001b[0m \u001b[0;34m*\u001b[0m\u001b[0mingress_args\u001b[0m\u001b[0;34m,\u001b[0m \u001b[0;34m**\u001b[0m\u001b[0mingress_kwargs\u001b[0m\u001b[0;34m)\u001b[0m\u001b[0;34m:\u001b[0m\u001b[0;34m\u001b[0m\u001b[0;34m\u001b[0m\u001b[0m\n\u001b[1;32m    320\u001b[0m         \u001b[0mfunc_args\u001b[0m\u001b[0;34m,\u001b[0m \u001b[0mfunc_kwargs\u001b[0m \u001b[0;34m=\u001b[0m \u001b[0mself\u001b[0m\u001b[0;34m.\u001b[0m\u001b[0mingress\u001b[0m\u001b[0;34m(\u001b[0m\u001b[0;34m*\u001b[0m\u001b[0mingress_args\u001b[0m\u001b[0;34m,\u001b[0m \u001b[0;34m**\u001b[0m\u001b[0mingress_kwargs\u001b[0m\u001b[0;34m)\u001b[0m\u001b[0;34m\u001b[0m\u001b[0;34m\u001b[0m\u001b[0m\n\u001b[0;32m--> 321\u001b[0;31m         \u001b[0;32mreturn\u001b[0m \u001b[0mself\u001b[0m\u001b[0;34m.\u001b[0m\u001b[0megress\u001b[0m\u001b[0;34m(\u001b[0m\u001b[0mself\u001b[0m\u001b[0;34m.\u001b[0m\u001b[0mfunc\u001b[0m\u001b[0;34m(\u001b[0m\u001b[0;34m*\u001b[0m\u001b[0mfunc_args\u001b[0m\u001b[0;34m,\u001b[0m \u001b[0;34m**\u001b[0m\u001b[0mfunc_kwargs\u001b[0m\u001b[0;34m)\u001b[0m\u001b[0;34m)\u001b[0m\u001b[0;34m\u001b[0m\u001b[0;34m\u001b[0m\u001b[0m\n\u001b[0m\u001b[1;32m    322\u001b[0m \u001b[0;34m\u001b[0m\u001b[0m\n\u001b[1;32m    323\u001b[0m \u001b[0;34m\u001b[0m\u001b[0m\n",
      "\u001b[0;31mTypeError\u001b[0m: foo() missing 1 required keyword-only argument: 'ko'"
     ]
    }
   ],
   "source": [
    "assert foo(1, 2, 3, ko=4, hello=\"world\")==\"po=1, vp=(2, 3), ko=4, vk={'hello': 'world'}\"\n",
    "#new_foo = wrap(foo, ingress=ingress)\n",
    "assert str(Sig(new_foo))=='(po, vp=(), *, ko, vk={})'\n",
    "new_foo(1, (2, 3), ko=4, vk=dict(hello=\"world\"))\n"
   ]
  },
  {
   "cell_type": "code",
   "execution_count": 14,
   "metadata": {},
   "outputs": [],
   "source": [
    "\n"
   ]
  },
  {
   "cell_type": "code",
   "execution_count": 15,
   "metadata": {},
   "outputs": [
    {
     "ename": "TypeError",
     "evalue": "foo() missing 1 required keyword-only argument: 'ko'",
     "output_type": "error",
     "traceback": [
      "\u001b[0;31m---------------------------------------------------------------------------\u001b[0m",
      "\u001b[0;31mTypeError\u001b[0m                                 Traceback (most recent call last)",
      "\u001b[0;32m<ipython-input-15-56a07b8c6199>\u001b[0m in \u001b[0;36m<module>\u001b[0;34m\u001b[0m\n\u001b[0;32m----> 1\u001b[0;31m \u001b[0mnew_foo\u001b[0m\u001b[0;34m(\u001b[0m\u001b[0;36m1\u001b[0m\u001b[0;34m,\u001b[0m \u001b[0;34m(\u001b[0m\u001b[0;36m2\u001b[0m\u001b[0;34m,\u001b[0m \u001b[0;36m3\u001b[0m\u001b[0;34m)\u001b[0m\u001b[0;34m,\u001b[0m \u001b[0mko\u001b[0m\u001b[0;34m=\u001b[0m\u001b[0;36m4\u001b[0m\u001b[0;34m,\u001b[0m \u001b[0mvk\u001b[0m\u001b[0;34m=\u001b[0m\u001b[0mdict\u001b[0m\u001b[0;34m(\u001b[0m\u001b[0mhello\u001b[0m\u001b[0;34m=\u001b[0m\u001b[0;34m\"world\"\u001b[0m\u001b[0;34m)\u001b[0m\u001b[0;34m)\u001b[0m\u001b[0;34m\u001b[0m\u001b[0;34m\u001b[0m\u001b[0m\n\u001b[0m\u001b[1;32m      2\u001b[0m \u001b[0;34m\u001b[0m\u001b[0m\n\u001b[1;32m      3\u001b[0m \u001b[0;31m# before vk:vk:vk\u001b[0m\u001b[0;34m\u001b[0m\u001b[0;34m\u001b[0m\u001b[0;34m\u001b[0m\u001b[0m\n",
      "\u001b[0;32m~/Desktop/dev/otosense/i2/i2/wrapper.py\u001b[0m in \u001b[0;36m__call__\u001b[0;34m(self, *ingress_args, **ingress_kwargs)\u001b[0m\n\u001b[1;32m    319\u001b[0m     \u001b[0;32mdef\u001b[0m \u001b[0m__call__\u001b[0m\u001b[0;34m(\u001b[0m\u001b[0mself\u001b[0m\u001b[0;34m,\u001b[0m \u001b[0;34m*\u001b[0m\u001b[0mingress_args\u001b[0m\u001b[0;34m,\u001b[0m \u001b[0;34m**\u001b[0m\u001b[0mingress_kwargs\u001b[0m\u001b[0;34m)\u001b[0m\u001b[0;34m:\u001b[0m\u001b[0;34m\u001b[0m\u001b[0;34m\u001b[0m\u001b[0m\n\u001b[1;32m    320\u001b[0m         \u001b[0mfunc_args\u001b[0m\u001b[0;34m,\u001b[0m \u001b[0mfunc_kwargs\u001b[0m \u001b[0;34m=\u001b[0m \u001b[0mself\u001b[0m\u001b[0;34m.\u001b[0m\u001b[0mingress\u001b[0m\u001b[0;34m(\u001b[0m\u001b[0;34m*\u001b[0m\u001b[0mingress_args\u001b[0m\u001b[0;34m,\u001b[0m \u001b[0;34m**\u001b[0m\u001b[0mingress_kwargs\u001b[0m\u001b[0;34m)\u001b[0m\u001b[0;34m\u001b[0m\u001b[0;34m\u001b[0m\u001b[0m\n\u001b[0;32m--> 321\u001b[0;31m         \u001b[0;32mreturn\u001b[0m \u001b[0mself\u001b[0m\u001b[0;34m.\u001b[0m\u001b[0megress\u001b[0m\u001b[0;34m(\u001b[0m\u001b[0mself\u001b[0m\u001b[0;34m.\u001b[0m\u001b[0mfunc\u001b[0m\u001b[0;34m(\u001b[0m\u001b[0;34m*\u001b[0m\u001b[0mfunc_args\u001b[0m\u001b[0;34m,\u001b[0m \u001b[0;34m**\u001b[0m\u001b[0mfunc_kwargs\u001b[0m\u001b[0;34m)\u001b[0m\u001b[0;34m)\u001b[0m\u001b[0;34m\u001b[0m\u001b[0;34m\u001b[0m\u001b[0m\n\u001b[0m\u001b[1;32m    322\u001b[0m \u001b[0;34m\u001b[0m\u001b[0m\n\u001b[1;32m    323\u001b[0m \u001b[0;34m\u001b[0m\u001b[0m\n",
      "\u001b[0;31mTypeError\u001b[0m: foo() missing 1 required keyword-only argument: 'ko'"
     ]
    }
   ],
   "source": [
    "\n",
    "# before vk:vk:vk\n"
   ]
  },
  {
   "cell_type": "code",
   "execution_count": 12,
   "metadata": {},
   "outputs": [
    {
     "name": "stdout",
     "output_type": "stream",
     "text": [
      "{'po': 1, 'vp': (2, 3), 'ko': 4, 'vk': {'hello': 'world'}}\n",
      "((1, (2, 3)), {'ko': 4, 'vk': {'vk': {'hello': 'world'}}})\n"
     ]
    }
   ],
   "source": [
    "def foo(po, *vp, ko, **vk):\n",
    "    return f\"{po=}, {vp=}, {ko=}, {vk=}\"\n",
    "    \n",
    "ingress_args = (1,(2,3))\n",
    "ingress_kwargs = {'ko':4, 'vk' :{'hello':\"world\"}}\n",
    "\n",
    "inner_sig = Sig(foo)\n",
    "outer_sig = Sig('(po, vp=(), *, ko, vk={})')\n",
    "\n",
    " \n",
    "func_kwargs = outer_sig.kwargs_from_args_and_kwargs(\n",
    "            ingress_args, ingress_kwargs, debug=True\n",
    "        )\n",
    "print(func_kwargs)\n",
    "# {'po': 1, 'vp': (2, 3), 'ko': 4, 'vk': {'hello': 'world'}}\n",
    "\n",
    "#assert (inner_sig.args_and_kwargs_from_kwargs(func_kwargs)\n",
    "#        ==((1, (2, 3)), {'ko': 4, 'vk': {'vk': {'hello': 'world'}}}))\n",
    "print(inner_sig.args_and_kwargs_from_kwargs(func_kwargs))\n",
    "# ((1, (2, 3)), {'ko': 4, 'vk': {'vk': {'hello': 'world'}}})\n"
   ]
  },
  {
   "cell_type": "code",
   "execution_count": 13,
   "metadata": {},
   "outputs": [],
   "source": [
    "# def foo(w, /, x: float, y=1, *, z: int = 1, **vk):\n",
    "#     return ((w + x) * y) ** z\n",
    "# foo_sig = Sig(foo)\n",
    "# args, kwargs = foo_sig.args_and_kwargs_from_kwargs(\n",
    "#              dict(w=4, x=3, y=2, z=1, vk=12)\n",
    "# )\n",
    "        "
   ]
  },
  {
   "cell_type": "markdown",
   "metadata": {},
   "source": [
    "## My changes to kwargs_from... broke args_from_..."
   ]
  },
  {
   "cell_type": "code",
   "execution_count": 14,
   "metadata": {},
   "outputs": [
    {
     "name": "stdout",
     "output_type": "stream",
     "text": [
      "args:(4, 3, 2), kwargs: {'z': 1, 'rest': {'t': 12}}\n"
     ]
    }
   ],
   "source": [
    "def foo(w, /, x: float, y=1, *args, z: int = 1, **rest):\n",
    "        return ((w + x) * y) ** z\n",
    "\n",
    "foo_sig = Sig(foo)\n",
    "args, kwargs = foo_sig.args_and_kwargs_from_kwargs(dict(w=4, x=3, y=2, z=1, t=12))\n",
    "print(f\"args:{args}, kwargs: {kwargs}\")"
   ]
  },
  {
   "cell_type": "code",
   "execution_count": 21,
   "metadata": {},
   "outputs": [
    {
     "data": {
      "text/plain": [
       "<Sig (w, /, x: float, y=1, args=(), *, z: int = 1, rest={})>"
      ]
     },
     "execution_count": 21,
     "metadata": {},
     "output_type": "execute_result"
    }
   ],
   "source": [
    "from i2.signatures import ch_variadics_to_non_variadic_kind\n",
    "foo_clean = ch_variadics_to_non_variadic_kind(foo)\n",
    "Sig(foo_clean)"
   ]
  },
  {
   "cell_type": "code",
   "execution_count": 22,
   "metadata": {},
   "outputs": [
    {
     "ename": "KeyError",
     "evalue": "'rest'",
     "output_type": "error",
     "traceback": [
      "\u001b[0;31m---------------------------------------------------------------------------\u001b[0m",
      "\u001b[0;31mKeyError\u001b[0m                                  Traceback (most recent call last)",
      "\u001b[0;32m<ipython-input-22-f3ac25165821>\u001b[0m in \u001b[0;36m<module>\u001b[0;34m\u001b[0m\n\u001b[0;32m----> 1\u001b[0;31m \u001b[0mfoo_clean\u001b[0m\u001b[0;34m(\u001b[0m\u001b[0;36m1\u001b[0m\u001b[0;34m,\u001b[0m \u001b[0;34m(\u001b[0m\u001b[0;36m2\u001b[0m\u001b[0;34m,\u001b[0m \u001b[0;36m3\u001b[0m\u001b[0;34m)\u001b[0m\u001b[0;34m,\u001b[0m \u001b[0mbar\u001b[0m\u001b[0;34m=\u001b[0m\u001b[0;36m4\u001b[0m\u001b[0;34m,\u001b[0m \u001b[0mkwargs\u001b[0m \u001b[0;34m=\u001b[0m\u001b[0;34m{\u001b[0m\u001b[0;34m'hello'\u001b[0m\u001b[0;34m:\u001b[0m\u001b[0;34m\"world\"\u001b[0m\u001b[0;34m}\u001b[0m\u001b[0;34m)\u001b[0m\u001b[0;34m\u001b[0m\u001b[0;34m\u001b[0m\u001b[0m\n\u001b[0m",
      "\u001b[0;32m~/Desktop/dev/otosense/i2/i2/signatures.py\u001b[0m in \u001b[0;36mvariadic_less_func\u001b[0;34m(*args, **kwargs)\u001b[0m\n\u001b[1;32m   3296\u001b[0m         \u001b[0;34m@\u001b[0m\u001b[0mwraps\u001b[0m\u001b[0;34m(\u001b[0m\u001b[0mfunc\u001b[0m\u001b[0;34m)\u001b[0m\u001b[0;34m\u001b[0m\u001b[0;34m\u001b[0m\u001b[0m\n\u001b[1;32m   3297\u001b[0m         \u001b[0;32mdef\u001b[0m \u001b[0mvariadic_less_func\u001b[0m\u001b[0;34m(\u001b[0m\u001b[0;34m*\u001b[0m\u001b[0margs\u001b[0m\u001b[0;34m,\u001b[0m \u001b[0;34m**\u001b[0m\u001b[0mkwargs\u001b[0m\u001b[0;34m)\u001b[0m\u001b[0;34m:\u001b[0m\u001b[0;34m\u001b[0m\u001b[0;34m\u001b[0m\u001b[0m\n\u001b[0;32m-> 3298\u001b[0;31m             \u001b[0;31m# extract from kwargs those inputs that need to be expressed positionally\u001b[0m\u001b[0;34m\u001b[0m\u001b[0;34m\u001b[0m\u001b[0;34m\u001b[0m\u001b[0m\n\u001b[0m\u001b[1;32m   3299\u001b[0m             \u001b[0m_args\u001b[0m\u001b[0;34m,\u001b[0m \u001b[0m_kwargs\u001b[0m \u001b[0;34m=\u001b[0m \u001b[0msig\u001b[0m\u001b[0;34m.\u001b[0m\u001b[0margs_and_kwargs_from_kwargs\u001b[0m\u001b[0;34m(\u001b[0m\u001b[0mkwargs\u001b[0m\u001b[0;34m,\u001b[0m \u001b[0mallow_partial\u001b[0m\u001b[0;34m=\u001b[0m\u001b[0;32mTrue\u001b[0m\u001b[0;34m)\u001b[0m\u001b[0;34m\u001b[0m\u001b[0;34m\u001b[0m\u001b[0m\n\u001b[1;32m   3300\u001b[0m             \u001b[0;31m# print(sig, kwargs, _args, _kwargs)\u001b[0m\u001b[0;34m\u001b[0m\u001b[0;34m\u001b[0m\u001b[0;34m\u001b[0m\u001b[0m\n",
      "\u001b[0;32m~/Desktop/dev/otosense/i2/i2/signatures.py\u001b[0m in \u001b[0;36margs_and_kwargs_from_kwargs\u001b[0;34m(self, kwargs, apply_defaults, allow_partial, allow_excess, ignore_kind, args_limit)\u001b[0m\n\u001b[1;32m   2370\u001b[0m         \u001b[0margs\u001b[0m \u001b[0;34m=\u001b[0m \u001b[0mtuple\u001b[0m\u001b[0;34m(\u001b[0m\u001b[0mkwargs\u001b[0m\u001b[0;34m[\u001b[0m\u001b[0mname\u001b[0m\u001b[0;34m]\u001b[0m \u001b[0;32mfor\u001b[0m \u001b[0mname\u001b[0m \u001b[0;32min\u001b[0m \u001b[0mnames_for_args\u001b[0m \u001b[0;32mif\u001b[0m \u001b[0mname\u001b[0m \u001b[0;32min\u001b[0m \u001b[0mkwargs\u001b[0m\u001b[0;34m)\u001b[0m\u001b[0;34m\u001b[0m\u001b[0;34m\u001b[0m\u001b[0m\n\u001b[1;32m   2371\u001b[0m         \u001b[0mkwargs\u001b[0m \u001b[0;34m=\u001b[0m \u001b[0;34m{\u001b[0m\u001b[0mname\u001b[0m\u001b[0;34m:\u001b[0m \u001b[0mkwargs\u001b[0m\u001b[0;34m[\u001b[0m\u001b[0mname\u001b[0m\u001b[0;34m]\u001b[0m \u001b[0;32mfor\u001b[0m \u001b[0mname\u001b[0m \u001b[0;32min\u001b[0m \u001b[0mkwargs\u001b[0m \u001b[0;32mif\u001b[0m \u001b[0mname\u001b[0m \u001b[0;32mnot\u001b[0m \u001b[0;32min\u001b[0m \u001b[0mnames_for_args\u001b[0m\u001b[0;34m}\u001b[0m\u001b[0;34m\u001b[0m\u001b[0;34m\u001b[0m\u001b[0m\n\u001b[0;32m-> 2372\u001b[0;31m \u001b[0;34m\u001b[0m\u001b[0m\n\u001b[0m\u001b[1;32m   2373\u001b[0m         kwargs = self.kwargs_from_args_and_kwargs(\n\u001b[1;32m   2374\u001b[0m             \u001b[0margs\u001b[0m\u001b[0;34m,\u001b[0m\u001b[0;34m\u001b[0m\u001b[0;34m\u001b[0m\u001b[0m\n",
      "\u001b[0;32m~/Desktop/dev/otosense/i2/i2/signatures.py\u001b[0m in \u001b[0;36mkwargs_from_args_and_kwargs\u001b[0;34m(self, args, kwargs, apply_defaults, allow_partial, allow_excess, ignore_kind, debug)\u001b[0m\n\u001b[1;32m   2217\u001b[0m \u001b[0;34m\u001b[0m\u001b[0m\n\u001b[1;32m   2218\u001b[0m             \u001b[0;31m# flattened_kvs = flatten_if_var_kw(kvs, var_kw_name)\u001b[0m\u001b[0;34m\u001b[0m\u001b[0;34m\u001b[0m\u001b[0;34m\u001b[0m\u001b[0m\n\u001b[0;32m-> 2219\u001b[0;31m             \u001b[0mflattened_kvs\u001b[0m \u001b[0;34m=\u001b[0m \u001b[0mexpand_nested_key\u001b[0m\u001b[0;34m(\u001b[0m\u001b[0mb\u001b[0m\u001b[0;34m.\u001b[0m\u001b[0marguments\u001b[0m\u001b[0;34m,\u001b[0m \u001b[0mvar_kw_name\u001b[0m\u001b[0;34m)\u001b[0m\u001b[0;34m\u001b[0m\u001b[0;34m\u001b[0m\u001b[0m\n\u001b[0m\u001b[1;32m   2220\u001b[0m             \u001b[0mresult\u001b[0m \u001b[0;34m=\u001b[0m \u001b[0mdict\u001b[0m\u001b[0;34m(\u001b[0m\u001b[0mflattened_kvs\u001b[0m\u001b[0;34m)\u001b[0m\u001b[0;34m\u001b[0m\u001b[0;34m\u001b[0m\u001b[0m\n\u001b[1;32m   2221\u001b[0m \u001b[0;34m\u001b[0m\u001b[0m\n",
      "\u001b[0;32m~/Desktop/dev/otosense/i2/i2/signatures.py\u001b[0m in \u001b[0;36m_map_action_on_cond\u001b[0;34m(kvs, cond, expand)\u001b[0m\n\u001b[1;32m    712\u001b[0m             \u001b[0mk\u001b[0m\u001b[0;34m\u001b[0m\u001b[0;34m\u001b[0m\u001b[0m\n\u001b[1;32m    713\u001b[0m         ):  # make a conditional on (k,v), use type KV, Iterable[KV], expand:KV -> Iterable[KV]\n\u001b[0;32m--> 714\u001b[0;31m             \u001b[0;32myield\u001b[0m \u001b[0;32mfrom\u001b[0m \u001b[0mexpand\u001b[0m\u001b[0;34m(\u001b[0m\u001b[0mv\u001b[0m\u001b[0;34m[\u001b[0m\u001b[0mk\u001b[0m\u001b[0;34m]\u001b[0m\u001b[0;34m)\u001b[0m  \u001b[0;31m# expand should result in (k,v)\u001b[0m\u001b[0;34m\u001b[0m\u001b[0;34m\u001b[0m\u001b[0m\n\u001b[0m\u001b[1;32m    715\u001b[0m         \u001b[0;32melse\u001b[0m\u001b[0;34m:\u001b[0m\u001b[0;34m\u001b[0m\u001b[0;34m\u001b[0m\u001b[0m\n\u001b[1;32m    716\u001b[0m             \u001b[0;32myield\u001b[0m \u001b[0mk\u001b[0m\u001b[0;34m,\u001b[0m \u001b[0mv\u001b[0m\u001b[0;34m\u001b[0m\u001b[0;34m\u001b[0m\u001b[0m\n",
      "\u001b[0;31mKeyError\u001b[0m: 'rest'"
     ]
    }
   ],
   "source": [
    "foo_clean(1, (2, 3), bar=4, kwargs ={'hello':\"world\"})"
   ]
  },
  {
   "cell_type": "code",
   "execution_count": 49,
   "metadata": {},
   "outputs": [
    {
     "ename": "TypeError",
     "evalue": "missing a required argument: 'ko'",
     "output_type": "error",
     "traceback": [
      "\u001b[0;31m---------------------------------------------------------------------------\u001b[0m",
      "\u001b[0;31mTypeError\u001b[0m                                 Traceback (most recent call last)",
      "\u001b[0;32m<ipython-input-49-5d9feff6a5b0>\u001b[0m in \u001b[0;36m<module>\u001b[0;34m\u001b[0m\n\u001b[0;32m----> 1\u001b[0;31m \u001b[0mingress\u001b[0m\u001b[0;34m(\u001b[0m\u001b[0;36m1\u001b[0m\u001b[0;34m,\u001b[0m \u001b[0;34m(\u001b[0m\u001b[0;36m2\u001b[0m\u001b[0;34m,\u001b[0m \u001b[0;36m3\u001b[0m\u001b[0;34m)\u001b[0m\u001b[0;34m,\u001b[0m \u001b[0mbar\u001b[0m\u001b[0;34m=\u001b[0m\u001b[0;36m4\u001b[0m\u001b[0;34m,\u001b[0m \u001b[0mkwargs\u001b[0m \u001b[0;34m=\u001b[0m\u001b[0;34m{\u001b[0m\u001b[0;34m'hello'\u001b[0m\u001b[0;34m:\u001b[0m\u001b[0;34m\"world\"\u001b[0m\u001b[0;34m}\u001b[0m\u001b[0;34m)\u001b[0m\u001b[0;34m\u001b[0m\u001b[0;34m\u001b[0m\u001b[0m\n\u001b[0m",
      "\u001b[0;32m~/Desktop/dev/otosense/i2/i2/wrapper.py\u001b[0m in \u001b[0;36m__call__\u001b[0;34m(self, *ingress_args, **ingress_kwargs)\u001b[0m\n\u001b[1;32m    890\u001b[0m     \u001b[0;32mdef\u001b[0m \u001b[0m__call__\u001b[0m\u001b[0;34m(\u001b[0m\u001b[0mself\u001b[0m\u001b[0;34m,\u001b[0m \u001b[0;34m*\u001b[0m\u001b[0mingress_args\u001b[0m\u001b[0;34m,\u001b[0m \u001b[0;34m**\u001b[0m\u001b[0mingress_kwargs\u001b[0m\u001b[0;34m)\u001b[0m\u001b[0;34m:\u001b[0m\u001b[0;34m\u001b[0m\u001b[0;34m\u001b[0m\u001b[0m\n\u001b[1;32m    891\u001b[0m         \u001b[0;31m# Get the all-keywords version of the arguments (args,kwargs->kwargs)\u001b[0m\u001b[0;34m\u001b[0m\u001b[0;34m\u001b[0m\u001b[0;34m\u001b[0m\u001b[0m\n\u001b[0;32m--> 892\u001b[0;31m         func_kwargs = self.outer_sig.kwargs_from_args_and_kwargs(\n\u001b[0m\u001b[1;32m    893\u001b[0m             \u001b[0mingress_args\u001b[0m\u001b[0;34m,\u001b[0m \u001b[0mingress_kwargs\u001b[0m\u001b[0;34m,\u001b[0m \u001b[0mapply_defaults\u001b[0m\u001b[0;34m=\u001b[0m\u001b[0;32mTrue\u001b[0m\u001b[0;34m\u001b[0m\u001b[0;34m\u001b[0m\u001b[0m\n\u001b[1;32m    894\u001b[0m         )\n",
      "\u001b[0;32m~/Desktop/dev/otosense/i2/i2/signatures.py\u001b[0m in \u001b[0;36mkwargs_from_args_and_kwargs\u001b[0;34m(self, args, kwargs, apply_defaults, allow_partial, allow_excess, ignore_kind, debug)\u001b[0m\n\u001b[1;32m   2194\u001b[0m             \u001b[0margs\u001b[0m \u001b[0;34m=\u001b[0m \u001b[0margs\u001b[0m\u001b[0;34m[\u001b[0m\u001b[0;34m:\u001b[0m\u001b[0mmax_allowed_num_of_posisional_args\u001b[0m\u001b[0;34m]\u001b[0m\u001b[0;34m\u001b[0m\u001b[0;34m\u001b[0m\u001b[0m\n\u001b[1;32m   2195\u001b[0m \u001b[0;34m\u001b[0m\u001b[0m\n\u001b[0;32m-> 2196\u001b[0;31m         \u001b[0mb\u001b[0m \u001b[0;34m=\u001b[0m \u001b[0mbinder\u001b[0m\u001b[0;34m(\u001b[0m\u001b[0;34m*\u001b[0m\u001b[0margs\u001b[0m\u001b[0;34m,\u001b[0m \u001b[0;34m**\u001b[0m\u001b[0msig_relevant_kwargs\u001b[0m\u001b[0;34m)\u001b[0m\u001b[0;34m\u001b[0m\u001b[0;34m\u001b[0m\u001b[0m\n\u001b[0m\u001b[1;32m   2197\u001b[0m         \u001b[0;32mif\u001b[0m \u001b[0mapply_defaults\u001b[0m\u001b[0;34m:\u001b[0m\u001b[0;34m\u001b[0m\u001b[0;34m\u001b[0m\u001b[0m\n\u001b[1;32m   2198\u001b[0m             \u001b[0mb\u001b[0m\u001b[0;34m.\u001b[0m\u001b[0mapply_defaults\u001b[0m\u001b[0;34m(\u001b[0m\u001b[0;34m)\u001b[0m\u001b[0;34m\u001b[0m\u001b[0;34m\u001b[0m\u001b[0m\n",
      "\u001b[0;32m~/opt/anaconda3/envs/otopy38/lib/python3.8/inspect.py\u001b[0m in \u001b[0;36mbind\u001b[0;34m(self, *args, **kwargs)\u001b[0m\n\u001b[1;32m   3035\u001b[0m         \u001b[0;32mif\u001b[0m \u001b[0mthe\u001b[0m \u001b[0mpassed\u001b[0m \u001b[0marguments\u001b[0m \u001b[0mcan\u001b[0m \u001b[0;32mnot\u001b[0m \u001b[0mbe\u001b[0m \u001b[0mbound\u001b[0m\u001b[0;34m.\u001b[0m\u001b[0;34m\u001b[0m\u001b[0;34m\u001b[0m\u001b[0m\n\u001b[1;32m   3036\u001b[0m         \"\"\"\n\u001b[0;32m-> 3037\u001b[0;31m         \u001b[0;32mreturn\u001b[0m \u001b[0mself\u001b[0m\u001b[0;34m.\u001b[0m\u001b[0m_bind\u001b[0m\u001b[0;34m(\u001b[0m\u001b[0margs\u001b[0m\u001b[0;34m,\u001b[0m \u001b[0mkwargs\u001b[0m\u001b[0;34m)\u001b[0m\u001b[0;34m\u001b[0m\u001b[0;34m\u001b[0m\u001b[0m\n\u001b[0m\u001b[1;32m   3038\u001b[0m \u001b[0;34m\u001b[0m\u001b[0m\n\u001b[1;32m   3039\u001b[0m     \u001b[0;32mdef\u001b[0m \u001b[0mbind_partial\u001b[0m\u001b[0;34m(\u001b[0m\u001b[0mself\u001b[0m\u001b[0;34m,\u001b[0m \u001b[0;34m/\u001b[0m\u001b[0;34m,\u001b[0m \u001b[0;34m*\u001b[0m\u001b[0margs\u001b[0m\u001b[0;34m,\u001b[0m \u001b[0;34m**\u001b[0m\u001b[0mkwargs\u001b[0m\u001b[0;34m)\u001b[0m\u001b[0;34m:\u001b[0m\u001b[0;34m\u001b[0m\u001b[0;34m\u001b[0m\u001b[0m\n",
      "\u001b[0;32m~/opt/anaconda3/envs/otopy38/lib/python3.8/inspect.py\u001b[0m in \u001b[0;36m_bind\u001b[0;34m(self, args, kwargs, partial)\u001b[0m\n\u001b[1;32m   2950\u001b[0m                             \u001b[0mmsg\u001b[0m \u001b[0;34m=\u001b[0m \u001b[0;34m'missing a required argument: {arg!r}'\u001b[0m\u001b[0;34m\u001b[0m\u001b[0;34m\u001b[0m\u001b[0m\n\u001b[1;32m   2951\u001b[0m                             \u001b[0mmsg\u001b[0m \u001b[0;34m=\u001b[0m \u001b[0mmsg\u001b[0m\u001b[0;34m.\u001b[0m\u001b[0mformat\u001b[0m\u001b[0;34m(\u001b[0m\u001b[0marg\u001b[0m\u001b[0;34m=\u001b[0m\u001b[0mparam\u001b[0m\u001b[0;34m.\u001b[0m\u001b[0mname\u001b[0m\u001b[0;34m)\u001b[0m\u001b[0;34m\u001b[0m\u001b[0;34m\u001b[0m\u001b[0m\n\u001b[0;32m-> 2952\u001b[0;31m                             \u001b[0;32mraise\u001b[0m \u001b[0mTypeError\u001b[0m\u001b[0;34m(\u001b[0m\u001b[0mmsg\u001b[0m\u001b[0;34m)\u001b[0m \u001b[0;32mfrom\u001b[0m \u001b[0;32mNone\u001b[0m\u001b[0;34m\u001b[0m\u001b[0;34m\u001b[0m\u001b[0m\n\u001b[0m\u001b[1;32m   2953\u001b[0m             \u001b[0;32melse\u001b[0m\u001b[0;34m:\u001b[0m\u001b[0;34m\u001b[0m\u001b[0;34m\u001b[0m\u001b[0m\n\u001b[1;32m   2954\u001b[0m                 \u001b[0;31m# We have a positional argument to process\u001b[0m\u001b[0;34m\u001b[0m\u001b[0;34m\u001b[0m\u001b[0;34m\u001b[0m\u001b[0m\n",
      "\u001b[0;31mTypeError\u001b[0m: missing a required argument: 'ko'"
     ]
    }
   ],
   "source": [
    "ingress(1, (2, 3), bar=4, kwargs ={'hello':\"world\"})"
   ]
  },
  {
   "cell_type": "code",
   "execution_count": 50,
   "metadata": {},
   "outputs": [],
   "source": [
    "def egress_flatten(key):\n",
    "    def f(output):\n",
    "        args, kwargs = output\n",
    "        kwargs[key] = kwargs[key][key]\n",
    "        return args, kwargs\n",
    "    return f\n",
    "\n",
    "def flatten_key(ingress_func, key):\n",
    "     new_func = wrap(ingress_func, egress = egress_flatten(key))\n",
    "     return new_func\n",
    "\n",
    "def mk_ingress(func):\n",
    "    sig = Sig(func)\n",
    "    vk_name = sig.var_keyword_name or None\n",
    "    new_sig = _remove_variadics_from_sig(sig)\n",
    "    ingress = InnerMapIngress.from_signature(\n",
    "         func, outer_sig=new_sig\n",
    "    )\n",
    "    if vk_name:\n",
    "         ingress = flatten_key(ingress, vk_name)\n",
    "    return ingress\n",
    "\n",
    "    "
   ]
  },
  {
   "cell_type": "code",
   "execution_count": 51,
   "metadata": {},
   "outputs": [
    {
     "ename": "TypeError",
     "evalue": "Got unexpected keyword arguments: kwargs, bar",
     "output_type": "error",
     "traceback": [
      "\u001b[0;31m---------------------------------------------------------------------------\u001b[0m",
      "\u001b[0;31mTypeError\u001b[0m                                 Traceback (most recent call last)",
      "\u001b[0;32m<ipython-input-51-1fb6fc345401>\u001b[0m in \u001b[0;36m<module>\u001b[0;34m\u001b[0m\n\u001b[1;32m      1\u001b[0m \u001b[0mnfoo\u001b[0m \u001b[0;34m=\u001b[0m \u001b[0mwrap\u001b[0m\u001b[0;34m(\u001b[0m\u001b[0mfoo\u001b[0m\u001b[0;34m,\u001b[0m \u001b[0mingress\u001b[0m \u001b[0;34m=\u001b[0m \u001b[0mmk_ingress\u001b[0m\u001b[0;34m(\u001b[0m\u001b[0mfoo\u001b[0m\u001b[0;34m)\u001b[0m\u001b[0;34m)\u001b[0m\u001b[0;34m\u001b[0m\u001b[0;34m\u001b[0m\u001b[0m\n\u001b[0;32m----> 2\u001b[0;31m \u001b[0mnfoo\u001b[0m\u001b[0;34m(\u001b[0m\u001b[0;36m1\u001b[0m\u001b[0;34m,\u001b[0m \u001b[0;34m(\u001b[0m\u001b[0;36m2\u001b[0m\u001b[0;34m,\u001b[0m \u001b[0;36m3\u001b[0m\u001b[0;34m)\u001b[0m\u001b[0;34m,\u001b[0m \u001b[0mbar\u001b[0m\u001b[0;34m=\u001b[0m\u001b[0;36m4\u001b[0m\u001b[0;34m,\u001b[0m \u001b[0mkwargs\u001b[0m \u001b[0;34m=\u001b[0m\u001b[0;34m{\u001b[0m\u001b[0;34m'hello'\u001b[0m\u001b[0;34m:\u001b[0m\u001b[0;34m\"world\"\u001b[0m\u001b[0;34m}\u001b[0m\u001b[0;34m)\u001b[0m\u001b[0;34m\u001b[0m\u001b[0;34m\u001b[0m\u001b[0m\n\u001b[0m",
      "\u001b[0;32m~/Desktop/dev/otosense/i2/i2/wrapper.py\u001b[0m in \u001b[0;36m__call__\u001b[0;34m(self, *ingress_args, **ingress_kwargs)\u001b[0m\n\u001b[1;32m    318\u001b[0m \u001b[0;34m\u001b[0m\u001b[0m\n\u001b[1;32m    319\u001b[0m     \u001b[0;32mdef\u001b[0m \u001b[0m__call__\u001b[0m\u001b[0;34m(\u001b[0m\u001b[0mself\u001b[0m\u001b[0;34m,\u001b[0m \u001b[0;34m*\u001b[0m\u001b[0mingress_args\u001b[0m\u001b[0;34m,\u001b[0m \u001b[0;34m**\u001b[0m\u001b[0mingress_kwargs\u001b[0m\u001b[0;34m)\u001b[0m\u001b[0;34m:\u001b[0m\u001b[0;34m\u001b[0m\u001b[0;34m\u001b[0m\u001b[0m\n\u001b[0;32m--> 320\u001b[0;31m         \u001b[0mfunc_args\u001b[0m\u001b[0;34m,\u001b[0m \u001b[0mfunc_kwargs\u001b[0m \u001b[0;34m=\u001b[0m \u001b[0mself\u001b[0m\u001b[0;34m.\u001b[0m\u001b[0mingress\u001b[0m\u001b[0;34m(\u001b[0m\u001b[0;34m*\u001b[0m\u001b[0mingress_args\u001b[0m\u001b[0;34m,\u001b[0m \u001b[0;34m**\u001b[0m\u001b[0mingress_kwargs\u001b[0m\u001b[0;34m)\u001b[0m\u001b[0;34m\u001b[0m\u001b[0;34m\u001b[0m\u001b[0m\n\u001b[0m\u001b[1;32m    321\u001b[0m         \u001b[0;32mreturn\u001b[0m \u001b[0mself\u001b[0m\u001b[0;34m.\u001b[0m\u001b[0megress\u001b[0m\u001b[0;34m(\u001b[0m\u001b[0mself\u001b[0m\u001b[0;34m.\u001b[0m\u001b[0mfunc\u001b[0m\u001b[0;34m(\u001b[0m\u001b[0;34m*\u001b[0m\u001b[0mfunc_args\u001b[0m\u001b[0;34m,\u001b[0m \u001b[0;34m**\u001b[0m\u001b[0mfunc_kwargs\u001b[0m\u001b[0;34m)\u001b[0m\u001b[0;34m)\u001b[0m\u001b[0;34m\u001b[0m\u001b[0;34m\u001b[0m\u001b[0m\n\u001b[1;32m    322\u001b[0m \u001b[0;34m\u001b[0m\u001b[0m\n",
      "\u001b[0;32m~/Desktop/dev/otosense/i2/i2/wrapper.py\u001b[0m in \u001b[0;36m__call__\u001b[0;34m(self, *ingress_args, **ingress_kwargs)\u001b[0m\n\u001b[1;32m    319\u001b[0m     \u001b[0;32mdef\u001b[0m \u001b[0m__call__\u001b[0m\u001b[0;34m(\u001b[0m\u001b[0mself\u001b[0m\u001b[0;34m,\u001b[0m \u001b[0;34m*\u001b[0m\u001b[0mingress_args\u001b[0m\u001b[0;34m,\u001b[0m \u001b[0;34m**\u001b[0m\u001b[0mingress_kwargs\u001b[0m\u001b[0;34m)\u001b[0m\u001b[0;34m:\u001b[0m\u001b[0;34m\u001b[0m\u001b[0;34m\u001b[0m\u001b[0m\n\u001b[1;32m    320\u001b[0m         \u001b[0mfunc_args\u001b[0m\u001b[0;34m,\u001b[0m \u001b[0mfunc_kwargs\u001b[0m \u001b[0;34m=\u001b[0m \u001b[0mself\u001b[0m\u001b[0;34m.\u001b[0m\u001b[0mingress\u001b[0m\u001b[0;34m(\u001b[0m\u001b[0;34m*\u001b[0m\u001b[0mingress_args\u001b[0m\u001b[0;34m,\u001b[0m \u001b[0;34m**\u001b[0m\u001b[0mingress_kwargs\u001b[0m\u001b[0;34m)\u001b[0m\u001b[0;34m\u001b[0m\u001b[0;34m\u001b[0m\u001b[0m\n\u001b[0;32m--> 321\u001b[0;31m         \u001b[0;32mreturn\u001b[0m \u001b[0mself\u001b[0m\u001b[0;34m.\u001b[0m\u001b[0megress\u001b[0m\u001b[0;34m(\u001b[0m\u001b[0mself\u001b[0m\u001b[0;34m.\u001b[0m\u001b[0mfunc\u001b[0m\u001b[0;34m(\u001b[0m\u001b[0;34m*\u001b[0m\u001b[0mfunc_args\u001b[0m\u001b[0;34m,\u001b[0m \u001b[0;34m**\u001b[0m\u001b[0mfunc_kwargs\u001b[0m\u001b[0;34m)\u001b[0m\u001b[0;34m)\u001b[0m\u001b[0;34m\u001b[0m\u001b[0;34m\u001b[0m\u001b[0m\n\u001b[0m\u001b[1;32m    322\u001b[0m \u001b[0;34m\u001b[0m\u001b[0m\n\u001b[1;32m    323\u001b[0m \u001b[0;34m\u001b[0m\u001b[0m\n",
      "\u001b[0;32m~/Desktop/dev/otosense/i2/i2/wrapper.py\u001b[0m in \u001b[0;36m__call__\u001b[0;34m(self, *ingress_args, **ingress_kwargs)\u001b[0m\n\u001b[1;32m    890\u001b[0m     \u001b[0;32mdef\u001b[0m \u001b[0m__call__\u001b[0m\u001b[0;34m(\u001b[0m\u001b[0mself\u001b[0m\u001b[0;34m,\u001b[0m \u001b[0;34m*\u001b[0m\u001b[0mingress_args\u001b[0m\u001b[0;34m,\u001b[0m \u001b[0;34m**\u001b[0m\u001b[0mingress_kwargs\u001b[0m\u001b[0;34m)\u001b[0m\u001b[0;34m:\u001b[0m\u001b[0;34m\u001b[0m\u001b[0;34m\u001b[0m\u001b[0m\n\u001b[1;32m    891\u001b[0m         \u001b[0;31m# Get the all-keywords version of the arguments (args,kwargs->kwargs)\u001b[0m\u001b[0;34m\u001b[0m\u001b[0;34m\u001b[0m\u001b[0;34m\u001b[0m\u001b[0m\n\u001b[0;32m--> 892\u001b[0;31m         func_kwargs = self.outer_sig.kwargs_from_args_and_kwargs(\n\u001b[0m\u001b[1;32m    893\u001b[0m             \u001b[0mingress_args\u001b[0m\u001b[0;34m,\u001b[0m \u001b[0mingress_kwargs\u001b[0m\u001b[0;34m,\u001b[0m \u001b[0mapply_defaults\u001b[0m\u001b[0;34m=\u001b[0m\u001b[0;32mTrue\u001b[0m\u001b[0;34m\u001b[0m\u001b[0;34m\u001b[0m\u001b[0m\n\u001b[1;32m    894\u001b[0m         )\n",
      "\u001b[0;32m~/Desktop/dev/otosense/i2/i2/signatures.py\u001b[0m in \u001b[0;36mkwargs_from_args_and_kwargs\u001b[0;34m(self, args, kwargs, apply_defaults, allow_partial, allow_excess, ignore_kind, debug)\u001b[0m\n\u001b[1;32m   2202\u001b[0m             \u001b[0;32mif\u001b[0m \u001b[0mexcess\u001b[0m\u001b[0;34m:\u001b[0m\u001b[0;34m\u001b[0m\u001b[0;34m\u001b[0m\u001b[0m\n\u001b[1;32m   2203\u001b[0m                 \u001b[0mexcess_str\u001b[0m \u001b[0;34m=\u001b[0m \u001b[0;34m\", \"\u001b[0m\u001b[0;34m.\u001b[0m\u001b[0mjoin\u001b[0m\u001b[0;34m(\u001b[0m\u001b[0mexcess\u001b[0m\u001b[0;34m)\u001b[0m\u001b[0;34m\u001b[0m\u001b[0;34m\u001b[0m\u001b[0m\n\u001b[0;32m-> 2204\u001b[0;31m                 \u001b[0;32mraise\u001b[0m \u001b[0mTypeError\u001b[0m\u001b[0;34m(\u001b[0m\u001b[0;34mf\"Got unexpected keyword arguments: {excess_str}\"\u001b[0m\u001b[0;34m)\u001b[0m\u001b[0;34m\u001b[0m\u001b[0;34m\u001b[0m\u001b[0m\n\u001b[0m\u001b[1;32m   2205\u001b[0m \u001b[0;34m\u001b[0m\u001b[0m\n\u001b[1;32m   2206\u001b[0m         \u001b[0;32mif\u001b[0m \u001b[0mdebug\u001b[0m\u001b[0;34m:\u001b[0m\u001b[0;34m\u001b[0m\u001b[0;34m\u001b[0m\u001b[0m\n",
      "\u001b[0;31mTypeError\u001b[0m: Got unexpected keyword arguments: kwargs, bar"
     ]
    }
   ],
   "source": [
    "nfoo = wrap(foo, ingress = mk_ingress(foo))\n",
    "nfoo(1, (2, 3), bar=4, kwargs ={'hello':\"world\"})"
   ]
  },
  {
   "cell_type": "code",
   "execution_count": 52,
   "metadata": {},
   "outputs": [
    {
     "ename": "TypeError",
     "evalue": "Got unexpected keyword arguments: kwargs, bar",
     "output_type": "error",
     "traceback": [
      "\u001b[0;31m---------------------------------------------------------------------------\u001b[0m",
      "\u001b[0;31mTypeError\u001b[0m                                 Traceback (most recent call last)",
      "\u001b[0;32m<ipython-input-52-be925540f8b3>\u001b[0m in \u001b[0;36m<module>\u001b[0;34m\u001b[0m\n\u001b[0;32m----> 1\u001b[0;31m \u001b[0mmk_ingress\u001b[0m\u001b[0;34m(\u001b[0m\u001b[0mfoo\u001b[0m\u001b[0;34m)\u001b[0m\u001b[0;34m(\u001b[0m\u001b[0;36m1\u001b[0m\u001b[0;34m,\u001b[0m \u001b[0;34m(\u001b[0m\u001b[0;36m2\u001b[0m\u001b[0;34m,\u001b[0m \u001b[0;36m3\u001b[0m\u001b[0;34m)\u001b[0m\u001b[0;34m,\u001b[0m \u001b[0mbar\u001b[0m\u001b[0;34m=\u001b[0m\u001b[0;36m4\u001b[0m\u001b[0;34m,\u001b[0m \u001b[0mkwargs\u001b[0m \u001b[0;34m=\u001b[0m\u001b[0;34m{\u001b[0m\u001b[0;34m'hello'\u001b[0m\u001b[0;34m:\u001b[0m\u001b[0;34m\"world\"\u001b[0m\u001b[0;34m}\u001b[0m\u001b[0;34m)\u001b[0m\u001b[0;34m\u001b[0m\u001b[0;34m\u001b[0m\u001b[0m\n\u001b[0m",
      "\u001b[0;32m~/Desktop/dev/otosense/i2/i2/wrapper.py\u001b[0m in \u001b[0;36m__call__\u001b[0;34m(self, *ingress_args, **ingress_kwargs)\u001b[0m\n\u001b[1;32m    319\u001b[0m     \u001b[0;32mdef\u001b[0m \u001b[0m__call__\u001b[0m\u001b[0;34m(\u001b[0m\u001b[0mself\u001b[0m\u001b[0;34m,\u001b[0m \u001b[0;34m*\u001b[0m\u001b[0mingress_args\u001b[0m\u001b[0;34m,\u001b[0m \u001b[0;34m**\u001b[0m\u001b[0mingress_kwargs\u001b[0m\u001b[0;34m)\u001b[0m\u001b[0;34m:\u001b[0m\u001b[0;34m\u001b[0m\u001b[0;34m\u001b[0m\u001b[0m\n\u001b[1;32m    320\u001b[0m         \u001b[0mfunc_args\u001b[0m\u001b[0;34m,\u001b[0m \u001b[0mfunc_kwargs\u001b[0m \u001b[0;34m=\u001b[0m \u001b[0mself\u001b[0m\u001b[0;34m.\u001b[0m\u001b[0mingress\u001b[0m\u001b[0;34m(\u001b[0m\u001b[0;34m*\u001b[0m\u001b[0mingress_args\u001b[0m\u001b[0;34m,\u001b[0m \u001b[0;34m**\u001b[0m\u001b[0mingress_kwargs\u001b[0m\u001b[0;34m)\u001b[0m\u001b[0;34m\u001b[0m\u001b[0;34m\u001b[0m\u001b[0m\n\u001b[0;32m--> 321\u001b[0;31m         \u001b[0;32mreturn\u001b[0m \u001b[0mself\u001b[0m\u001b[0;34m.\u001b[0m\u001b[0megress\u001b[0m\u001b[0;34m(\u001b[0m\u001b[0mself\u001b[0m\u001b[0;34m.\u001b[0m\u001b[0mfunc\u001b[0m\u001b[0;34m(\u001b[0m\u001b[0;34m*\u001b[0m\u001b[0mfunc_args\u001b[0m\u001b[0;34m,\u001b[0m \u001b[0;34m**\u001b[0m\u001b[0mfunc_kwargs\u001b[0m\u001b[0;34m)\u001b[0m\u001b[0;34m)\u001b[0m\u001b[0;34m\u001b[0m\u001b[0;34m\u001b[0m\u001b[0m\n\u001b[0m\u001b[1;32m    322\u001b[0m \u001b[0;34m\u001b[0m\u001b[0m\n\u001b[1;32m    323\u001b[0m \u001b[0;34m\u001b[0m\u001b[0m\n",
      "\u001b[0;32m~/Desktop/dev/otosense/i2/i2/wrapper.py\u001b[0m in \u001b[0;36m__call__\u001b[0;34m(self, *ingress_args, **ingress_kwargs)\u001b[0m\n\u001b[1;32m    890\u001b[0m     \u001b[0;32mdef\u001b[0m \u001b[0m__call__\u001b[0m\u001b[0;34m(\u001b[0m\u001b[0mself\u001b[0m\u001b[0;34m,\u001b[0m \u001b[0;34m*\u001b[0m\u001b[0mingress_args\u001b[0m\u001b[0;34m,\u001b[0m \u001b[0;34m**\u001b[0m\u001b[0mingress_kwargs\u001b[0m\u001b[0;34m)\u001b[0m\u001b[0;34m:\u001b[0m\u001b[0;34m\u001b[0m\u001b[0;34m\u001b[0m\u001b[0m\n\u001b[1;32m    891\u001b[0m         \u001b[0;31m# Get the all-keywords version of the arguments (args,kwargs->kwargs)\u001b[0m\u001b[0;34m\u001b[0m\u001b[0;34m\u001b[0m\u001b[0;34m\u001b[0m\u001b[0m\n\u001b[0;32m--> 892\u001b[0;31m         func_kwargs = self.outer_sig.kwargs_from_args_and_kwargs(\n\u001b[0m\u001b[1;32m    893\u001b[0m             \u001b[0mingress_args\u001b[0m\u001b[0;34m,\u001b[0m \u001b[0mingress_kwargs\u001b[0m\u001b[0;34m,\u001b[0m \u001b[0mapply_defaults\u001b[0m\u001b[0;34m=\u001b[0m\u001b[0;32mTrue\u001b[0m\u001b[0;34m\u001b[0m\u001b[0;34m\u001b[0m\u001b[0m\n\u001b[1;32m    894\u001b[0m         )\n",
      "\u001b[0;32m~/Desktop/dev/otosense/i2/i2/signatures.py\u001b[0m in \u001b[0;36mkwargs_from_args_and_kwargs\u001b[0;34m(self, args, kwargs, apply_defaults, allow_partial, allow_excess, ignore_kind, debug)\u001b[0m\n\u001b[1;32m   2202\u001b[0m             \u001b[0;32mif\u001b[0m \u001b[0mexcess\u001b[0m\u001b[0;34m:\u001b[0m\u001b[0;34m\u001b[0m\u001b[0;34m\u001b[0m\u001b[0m\n\u001b[1;32m   2203\u001b[0m                 \u001b[0mexcess_str\u001b[0m \u001b[0;34m=\u001b[0m \u001b[0;34m\", \"\u001b[0m\u001b[0;34m.\u001b[0m\u001b[0mjoin\u001b[0m\u001b[0;34m(\u001b[0m\u001b[0mexcess\u001b[0m\u001b[0;34m)\u001b[0m\u001b[0;34m\u001b[0m\u001b[0;34m\u001b[0m\u001b[0m\n\u001b[0;32m-> 2204\u001b[0;31m                 \u001b[0;32mraise\u001b[0m \u001b[0mTypeError\u001b[0m\u001b[0;34m(\u001b[0m\u001b[0;34mf\"Got unexpected keyword arguments: {excess_str}\"\u001b[0m\u001b[0;34m)\u001b[0m\u001b[0;34m\u001b[0m\u001b[0;34m\u001b[0m\u001b[0m\n\u001b[0m\u001b[1;32m   2205\u001b[0m \u001b[0;34m\u001b[0m\u001b[0m\n\u001b[1;32m   2206\u001b[0m         \u001b[0;32mif\u001b[0m \u001b[0mdebug\u001b[0m\u001b[0;34m:\u001b[0m\u001b[0;34m\u001b[0m\u001b[0;34m\u001b[0m\u001b[0m\n",
      "\u001b[0;31mTypeError\u001b[0m: Got unexpected keyword arguments: kwargs, bar"
     ]
    }
   ],
   "source": [
    "mk_ingress(foo)(1, (2, 3), bar=4, kwargs ={'hello':\"world\"})"
   ]
  },
  {
   "cell_type": "code",
   "execution_count": 53,
   "metadata": {},
   "outputs": [
    {
     "ename": "TypeError",
     "evalue": "missing a required argument: 'ko'",
     "output_type": "error",
     "traceback": [
      "\u001b[0;31m---------------------------------------------------------------------------\u001b[0m",
      "\u001b[0;31mTypeError\u001b[0m                                 Traceback (most recent call last)",
      "\u001b[0;32m<ipython-input-53-5d9feff6a5b0>\u001b[0m in \u001b[0;36m<module>\u001b[0;34m\u001b[0m\n\u001b[0;32m----> 1\u001b[0;31m \u001b[0mingress\u001b[0m\u001b[0;34m(\u001b[0m\u001b[0;36m1\u001b[0m\u001b[0;34m,\u001b[0m \u001b[0;34m(\u001b[0m\u001b[0;36m2\u001b[0m\u001b[0;34m,\u001b[0m \u001b[0;36m3\u001b[0m\u001b[0;34m)\u001b[0m\u001b[0;34m,\u001b[0m \u001b[0mbar\u001b[0m\u001b[0;34m=\u001b[0m\u001b[0;36m4\u001b[0m\u001b[0;34m,\u001b[0m \u001b[0mkwargs\u001b[0m \u001b[0;34m=\u001b[0m\u001b[0;34m{\u001b[0m\u001b[0;34m'hello'\u001b[0m\u001b[0;34m:\u001b[0m\u001b[0;34m\"world\"\u001b[0m\u001b[0;34m}\u001b[0m\u001b[0;34m)\u001b[0m\u001b[0;34m\u001b[0m\u001b[0;34m\u001b[0m\u001b[0m\n\u001b[0m",
      "\u001b[0;32m~/Desktop/dev/otosense/i2/i2/wrapper.py\u001b[0m in \u001b[0;36m__call__\u001b[0;34m(self, *ingress_args, **ingress_kwargs)\u001b[0m\n\u001b[1;32m    890\u001b[0m     \u001b[0;32mdef\u001b[0m \u001b[0m__call__\u001b[0m\u001b[0;34m(\u001b[0m\u001b[0mself\u001b[0m\u001b[0;34m,\u001b[0m \u001b[0;34m*\u001b[0m\u001b[0mingress_args\u001b[0m\u001b[0;34m,\u001b[0m \u001b[0;34m**\u001b[0m\u001b[0mingress_kwargs\u001b[0m\u001b[0;34m)\u001b[0m\u001b[0;34m:\u001b[0m\u001b[0;34m\u001b[0m\u001b[0;34m\u001b[0m\u001b[0m\n\u001b[1;32m    891\u001b[0m         \u001b[0;31m# Get the all-keywords version of the arguments (args,kwargs->kwargs)\u001b[0m\u001b[0;34m\u001b[0m\u001b[0;34m\u001b[0m\u001b[0;34m\u001b[0m\u001b[0m\n\u001b[0;32m--> 892\u001b[0;31m         func_kwargs = self.outer_sig.kwargs_from_args_and_kwargs(\n\u001b[0m\u001b[1;32m    893\u001b[0m             \u001b[0mingress_args\u001b[0m\u001b[0;34m,\u001b[0m \u001b[0mingress_kwargs\u001b[0m\u001b[0;34m,\u001b[0m \u001b[0mapply_defaults\u001b[0m\u001b[0;34m=\u001b[0m\u001b[0;32mTrue\u001b[0m\u001b[0;34m\u001b[0m\u001b[0;34m\u001b[0m\u001b[0m\n\u001b[1;32m    894\u001b[0m         )\n",
      "\u001b[0;32m~/Desktop/dev/otosense/i2/i2/signatures.py\u001b[0m in \u001b[0;36mkwargs_from_args_and_kwargs\u001b[0;34m(self, args, kwargs, apply_defaults, allow_partial, allow_excess, ignore_kind, debug)\u001b[0m\n\u001b[1;32m   2194\u001b[0m             \u001b[0margs\u001b[0m \u001b[0;34m=\u001b[0m \u001b[0margs\u001b[0m\u001b[0;34m[\u001b[0m\u001b[0;34m:\u001b[0m\u001b[0mmax_allowed_num_of_posisional_args\u001b[0m\u001b[0;34m]\u001b[0m\u001b[0;34m\u001b[0m\u001b[0;34m\u001b[0m\u001b[0m\n\u001b[1;32m   2195\u001b[0m \u001b[0;34m\u001b[0m\u001b[0m\n\u001b[0;32m-> 2196\u001b[0;31m         \u001b[0mb\u001b[0m \u001b[0;34m=\u001b[0m \u001b[0mbinder\u001b[0m\u001b[0;34m(\u001b[0m\u001b[0;34m*\u001b[0m\u001b[0margs\u001b[0m\u001b[0;34m,\u001b[0m \u001b[0;34m**\u001b[0m\u001b[0msig_relevant_kwargs\u001b[0m\u001b[0;34m)\u001b[0m\u001b[0;34m\u001b[0m\u001b[0;34m\u001b[0m\u001b[0m\n\u001b[0m\u001b[1;32m   2197\u001b[0m         \u001b[0;32mif\u001b[0m \u001b[0mapply_defaults\u001b[0m\u001b[0;34m:\u001b[0m\u001b[0;34m\u001b[0m\u001b[0;34m\u001b[0m\u001b[0m\n\u001b[1;32m   2198\u001b[0m             \u001b[0mb\u001b[0m\u001b[0;34m.\u001b[0m\u001b[0mapply_defaults\u001b[0m\u001b[0;34m(\u001b[0m\u001b[0;34m)\u001b[0m\u001b[0;34m\u001b[0m\u001b[0;34m\u001b[0m\u001b[0m\n",
      "\u001b[0;32m~/opt/anaconda3/envs/otopy38/lib/python3.8/inspect.py\u001b[0m in \u001b[0;36mbind\u001b[0;34m(self, *args, **kwargs)\u001b[0m\n\u001b[1;32m   3035\u001b[0m         \u001b[0;32mif\u001b[0m \u001b[0mthe\u001b[0m \u001b[0mpassed\u001b[0m \u001b[0marguments\u001b[0m \u001b[0mcan\u001b[0m \u001b[0;32mnot\u001b[0m \u001b[0mbe\u001b[0m \u001b[0mbound\u001b[0m\u001b[0;34m.\u001b[0m\u001b[0;34m\u001b[0m\u001b[0;34m\u001b[0m\u001b[0m\n\u001b[1;32m   3036\u001b[0m         \"\"\"\n\u001b[0;32m-> 3037\u001b[0;31m         \u001b[0;32mreturn\u001b[0m \u001b[0mself\u001b[0m\u001b[0;34m.\u001b[0m\u001b[0m_bind\u001b[0m\u001b[0;34m(\u001b[0m\u001b[0margs\u001b[0m\u001b[0;34m,\u001b[0m \u001b[0mkwargs\u001b[0m\u001b[0;34m)\u001b[0m\u001b[0;34m\u001b[0m\u001b[0;34m\u001b[0m\u001b[0m\n\u001b[0m\u001b[1;32m   3038\u001b[0m \u001b[0;34m\u001b[0m\u001b[0m\n\u001b[1;32m   3039\u001b[0m     \u001b[0;32mdef\u001b[0m \u001b[0mbind_partial\u001b[0m\u001b[0;34m(\u001b[0m\u001b[0mself\u001b[0m\u001b[0;34m,\u001b[0m \u001b[0;34m/\u001b[0m\u001b[0;34m,\u001b[0m \u001b[0;34m*\u001b[0m\u001b[0margs\u001b[0m\u001b[0;34m,\u001b[0m \u001b[0;34m**\u001b[0m\u001b[0mkwargs\u001b[0m\u001b[0;34m)\u001b[0m\u001b[0;34m:\u001b[0m\u001b[0;34m\u001b[0m\u001b[0;34m\u001b[0m\u001b[0m\n",
      "\u001b[0;32m~/opt/anaconda3/envs/otopy38/lib/python3.8/inspect.py\u001b[0m in \u001b[0;36m_bind\u001b[0;34m(self, args, kwargs, partial)\u001b[0m\n\u001b[1;32m   2950\u001b[0m                             \u001b[0mmsg\u001b[0m \u001b[0;34m=\u001b[0m \u001b[0;34m'missing a required argument: {arg!r}'\u001b[0m\u001b[0;34m\u001b[0m\u001b[0;34m\u001b[0m\u001b[0m\n\u001b[1;32m   2951\u001b[0m                             \u001b[0mmsg\u001b[0m \u001b[0;34m=\u001b[0m \u001b[0mmsg\u001b[0m\u001b[0;34m.\u001b[0m\u001b[0mformat\u001b[0m\u001b[0;34m(\u001b[0m\u001b[0marg\u001b[0m\u001b[0;34m=\u001b[0m\u001b[0mparam\u001b[0m\u001b[0;34m.\u001b[0m\u001b[0mname\u001b[0m\u001b[0;34m)\u001b[0m\u001b[0;34m\u001b[0m\u001b[0;34m\u001b[0m\u001b[0m\n\u001b[0;32m-> 2952\u001b[0;31m                             \u001b[0;32mraise\u001b[0m \u001b[0mTypeError\u001b[0m\u001b[0;34m(\u001b[0m\u001b[0mmsg\u001b[0m\u001b[0;34m)\u001b[0m \u001b[0;32mfrom\u001b[0m \u001b[0;32mNone\u001b[0m\u001b[0;34m\u001b[0m\u001b[0;34m\u001b[0m\u001b[0m\n\u001b[0m\u001b[1;32m   2953\u001b[0m             \u001b[0;32melse\u001b[0m\u001b[0;34m:\u001b[0m\u001b[0;34m\u001b[0m\u001b[0;34m\u001b[0m\u001b[0m\n\u001b[1;32m   2954\u001b[0m                 \u001b[0;31m# We have a positional argument to process\u001b[0m\u001b[0;34m\u001b[0m\u001b[0;34m\u001b[0m\u001b[0;34m\u001b[0m\u001b[0m\n",
      "\u001b[0;31mTypeError\u001b[0m: missing a required argument: 'ko'"
     ]
    }
   ],
   "source": [
    "ingress(1, (2, 3), bar=4, kwargs ={'hello':\"world\"})"
   ]
  },
  {
   "cell_type": "code",
   "execution_count": 54,
   "metadata": {},
   "outputs": [
    {
     "ename": "KeyError",
     "evalue": "'rest'",
     "output_type": "error",
     "traceback": [
      "\u001b[0;31m---------------------------------------------------------------------------\u001b[0m",
      "\u001b[0;31mKeyError\u001b[0m                                  Traceback (most recent call last)",
      "\u001b[0;32m<ipython-input-54-f3ac25165821>\u001b[0m in \u001b[0;36m<module>\u001b[0;34m\u001b[0m\n\u001b[0;32m----> 1\u001b[0;31m \u001b[0mfoo_clean\u001b[0m\u001b[0;34m(\u001b[0m\u001b[0;36m1\u001b[0m\u001b[0;34m,\u001b[0m \u001b[0;34m(\u001b[0m\u001b[0;36m2\u001b[0m\u001b[0;34m,\u001b[0m \u001b[0;36m3\u001b[0m\u001b[0;34m)\u001b[0m\u001b[0;34m,\u001b[0m \u001b[0mbar\u001b[0m\u001b[0;34m=\u001b[0m\u001b[0;36m4\u001b[0m\u001b[0;34m,\u001b[0m \u001b[0mkwargs\u001b[0m \u001b[0;34m=\u001b[0m\u001b[0;34m{\u001b[0m\u001b[0;34m'hello'\u001b[0m\u001b[0;34m:\u001b[0m\u001b[0;34m\"world\"\u001b[0m\u001b[0;34m}\u001b[0m\u001b[0;34m)\u001b[0m\u001b[0;34m\u001b[0m\u001b[0;34m\u001b[0m\u001b[0m\n\u001b[0m",
      "\u001b[0;32m~/Desktop/dev/otosense/i2/i2/signatures.py\u001b[0m in \u001b[0;36mvariadic_less_func\u001b[0;34m(*args, **kwargs)\u001b[0m\n\u001b[1;32m   3289\u001b[0m         \u001b[0;32mdef\u001b[0m \u001b[0mvariadic_less_func\u001b[0m\u001b[0;34m(\u001b[0m\u001b[0;34m*\u001b[0m\u001b[0margs\u001b[0m\u001b[0;34m,\u001b[0m \u001b[0;34m**\u001b[0m\u001b[0mkwargs\u001b[0m\u001b[0;34m)\u001b[0m\u001b[0;34m:\u001b[0m\u001b[0;34m\u001b[0m\u001b[0;34m\u001b[0m\u001b[0m\n\u001b[1;32m   3290\u001b[0m             \u001b[0;31m# extract from kwargs those inputs that need to be expressed positionally\u001b[0m\u001b[0;34m\u001b[0m\u001b[0;34m\u001b[0m\u001b[0;34m\u001b[0m\u001b[0m\n\u001b[0;32m-> 3291\u001b[0;31m             \u001b[0m_args\u001b[0m\u001b[0;34m,\u001b[0m \u001b[0m_kwargs\u001b[0m \u001b[0;34m=\u001b[0m \u001b[0msig\u001b[0m\u001b[0;34m.\u001b[0m\u001b[0margs_and_kwargs_from_kwargs\u001b[0m\u001b[0;34m(\u001b[0m\u001b[0mkwargs\u001b[0m\u001b[0;34m,\u001b[0m \u001b[0mallow_partial\u001b[0m\u001b[0;34m=\u001b[0m\u001b[0;32mTrue\u001b[0m\u001b[0;34m)\u001b[0m\u001b[0;34m\u001b[0m\u001b[0;34m\u001b[0m\u001b[0m\n\u001b[0m\u001b[1;32m   3292\u001b[0m             \u001b[0;31m# print(sig, kwargs, _args, _kwargs)\u001b[0m\u001b[0;34m\u001b[0m\u001b[0;34m\u001b[0m\u001b[0;34m\u001b[0m\u001b[0m\n\u001b[1;32m   3293\u001b[0m             \u001b[0;31m# add these to the existing args\u001b[0m\u001b[0;34m\u001b[0m\u001b[0;34m\u001b[0m\u001b[0;34m\u001b[0m\u001b[0m\n",
      "\u001b[0;32m~/Desktop/dev/otosense/i2/i2/signatures.py\u001b[0m in \u001b[0;36margs_and_kwargs_from_kwargs\u001b[0;34m(self, kwargs, apply_defaults, allow_partial, allow_excess, ignore_kind, args_limit)\u001b[0m\n\u001b[1;32m   2363\u001b[0m         \u001b[0mkwargs\u001b[0m \u001b[0;34m=\u001b[0m \u001b[0;34m{\u001b[0m\u001b[0mname\u001b[0m\u001b[0;34m:\u001b[0m \u001b[0mkwargs\u001b[0m\u001b[0;34m[\u001b[0m\u001b[0mname\u001b[0m\u001b[0;34m]\u001b[0m \u001b[0;32mfor\u001b[0m \u001b[0mname\u001b[0m \u001b[0;32min\u001b[0m \u001b[0mkwargs\u001b[0m \u001b[0;32mif\u001b[0m \u001b[0mname\u001b[0m \u001b[0;32mnot\u001b[0m \u001b[0;32min\u001b[0m \u001b[0mnames_for_args\u001b[0m\u001b[0;34m}\u001b[0m\u001b[0;34m\u001b[0m\u001b[0;34m\u001b[0m\u001b[0m\n\u001b[1;32m   2364\u001b[0m \u001b[0;34m\u001b[0m\u001b[0m\n\u001b[0;32m-> 2365\u001b[0;31m         kwargs = self.kwargs_from_args_and_kwargs(\n\u001b[0m\u001b[1;32m   2366\u001b[0m             \u001b[0margs\u001b[0m\u001b[0;34m,\u001b[0m\u001b[0;34m\u001b[0m\u001b[0;34m\u001b[0m\u001b[0m\n\u001b[1;32m   2367\u001b[0m             \u001b[0mkwargs\u001b[0m\u001b[0;34m,\u001b[0m\u001b[0;34m\u001b[0m\u001b[0;34m\u001b[0m\u001b[0m\n",
      "\u001b[0;32m~/Desktop/dev/otosense/i2/i2/signatures.py\u001b[0m in \u001b[0;36mkwargs_from_args_and_kwargs\u001b[0;34m(self, args, kwargs, apply_defaults, allow_partial, allow_excess, ignore_kind, debug)\u001b[0m\n\u001b[1;32m   2210\u001b[0m \u001b[0;34m\u001b[0m\u001b[0m\n\u001b[1;32m   2211\u001b[0m             \u001b[0mflattened_kvs\u001b[0m \u001b[0;34m=\u001b[0m \u001b[0mflatten_if_var_kw\u001b[0m\u001b[0;34m(\u001b[0m\u001b[0mkvs\u001b[0m\u001b[0;34m,\u001b[0m \u001b[0mvar_kw_name\u001b[0m\u001b[0;34m)\u001b[0m\u001b[0;34m\u001b[0m\u001b[0;34m\u001b[0m\u001b[0m\n\u001b[0;32m-> 2212\u001b[0;31m             \u001b[0mresult\u001b[0m \u001b[0;34m=\u001b[0m \u001b[0mdict\u001b[0m\u001b[0;34m(\u001b[0m\u001b[0mflattened_kvs\u001b[0m\u001b[0;34m)\u001b[0m\u001b[0;34m\u001b[0m\u001b[0;34m\u001b[0m\u001b[0m\n\u001b[0m\u001b[1;32m   2213\u001b[0m \u001b[0;34m\u001b[0m\u001b[0m\n\u001b[1;32m   2214\u001b[0m         \u001b[0;32melse\u001b[0m\u001b[0;34m:\u001b[0m\u001b[0;34m\u001b[0m\u001b[0;34m\u001b[0m\u001b[0m\n",
      "\u001b[0;32m~/Desktop/dev/otosense/i2/i2/signatures.py\u001b[0m in \u001b[0;36mmap_action_on_cond\u001b[0;34m(kvs, cond, expand)\u001b[0m\n\u001b[1;32m    712\u001b[0m             \u001b[0mk\u001b[0m\u001b[0;34m\u001b[0m\u001b[0;34m\u001b[0m\u001b[0m\n\u001b[1;32m    713\u001b[0m         ):  # make a conditional on (k,v), use type KV, Iterable[KV], expand:KV -> Iterable[KV]\n\u001b[0;32m--> 714\u001b[0;31m             \u001b[0;32myield\u001b[0m \u001b[0;32mfrom\u001b[0m \u001b[0mexpand\u001b[0m\u001b[0;34m(\u001b[0m\u001b[0mv\u001b[0m\u001b[0;34m[\u001b[0m\u001b[0mk\u001b[0m\u001b[0;34m]\u001b[0m\u001b[0;34m)\u001b[0m  \u001b[0;31m# expand should result in (k,v)\u001b[0m\u001b[0;34m\u001b[0m\u001b[0;34m\u001b[0m\u001b[0m\n\u001b[0m\u001b[1;32m    715\u001b[0m         \u001b[0;32melse\u001b[0m\u001b[0;34m:\u001b[0m\u001b[0;34m\u001b[0m\u001b[0;34m\u001b[0m\u001b[0m\n\u001b[1;32m    716\u001b[0m             \u001b[0;32myield\u001b[0m \u001b[0mk\u001b[0m\u001b[0;34m,\u001b[0m \u001b[0mv\u001b[0m\u001b[0;34m\u001b[0m\u001b[0;34m\u001b[0m\u001b[0m\n",
      "\u001b[0;31mKeyError\u001b[0m: 'rest'"
     ]
    }
   ],
   "source": [
    "foo_clean(1, (2, 3), bar=4, kwargs ={'hello':\"world\"})"
   ]
  },
  {
   "cell_type": "code",
   "execution_count": 55,
   "metadata": {},
   "outputs": [
    {
     "ename": "SyntaxError",
     "evalue": "invalid syntax (<ipython-input-55-35c4c33c2ddb>, line 1)",
     "output_type": "error",
     "traceback": [
      "\u001b[0;36m  File \u001b[0;32m\"<ipython-input-55-35c4c33c2ddb>\"\u001b[0;36m, line \u001b[0;32m1\u001b[0m\n\u001b[0;31m    * find the VK name\u001b[0m\n\u001b[0m           ^\u001b[0m\n\u001b[0;31mSyntaxError\u001b[0m\u001b[0;31m:\u001b[0m invalid syntax\n"
     ]
    }
   ],
   "source": [
    "* find the VK name\n",
    "* flatten"
   ]
  },
  {
   "cell_type": "code",
   "execution_count": 56,
   "metadata": {},
   "outputs": [
    {
     "data": {
      "text/plain": [
       "9"
      ]
     },
     "execution_count": 56,
     "metadata": {},
     "output_type": "execute_result"
    }
   ],
   "source": [
    "foo(1, 2, 3, bar=4, hello=\"world\")"
   ]
  },
  {
   "cell_type": "code",
   "execution_count": 57,
   "metadata": {},
   "outputs": [
    {
     "data": {
      "text/plain": [
       "False"
      ]
     },
     "execution_count": 57,
     "metadata": {},
     "output_type": "execute_result"
    }
   ],
   "source": [
    "validate_codec(new_foo)"
   ]
  },
  {
   "cell_type": "markdown",
   "metadata": {},
   "source": [
    "# Changes made to meshed in the presence of variadic keywords"
   ]
  },
  {
   "cell_type": "code",
   "execution_count": null,
   "metadata": {},
   "outputs": [],
   "source": [
    "from meshed import DAG, FuncNode\n",
    "\n",
    "def g(x):\n",
    "    return x\n",
    "\n",
    "def f(a, **kwargs):\n",
    "    print(a)\n",
    "    return a \n",
    "\n",
    "f_node = FuncNode(func=f)\n",
    "d = DAG([f_node])\n",
    "\n",
    "#d(a=1, x=3) # does not work anymore, as variadic kw are mapped to a dict\n",
    "d(a=1, kwargs ={'x':3})"
   ]
  },
  {
   "cell_type": "code",
   "execution_count": null,
   "metadata": {},
   "outputs": [],
   "source": [
    "Sig(d)"
   ]
  },
  {
   "cell_type": "code",
   "execution_count": null,
   "metadata": {},
   "outputs": [],
   "source": []
  },
  {
   "cell_type": "code",
   "execution_count": null,
   "metadata": {},
   "outputs": [],
   "source": []
  },
  {
   "cell_type": "markdown",
   "metadata": {},
   "source": [
    "# Scrap"
   ]
  },
  {
   "cell_type": "code",
   "execution_count": 25,
   "metadata": {},
   "outputs": [],
   "source": [
    "from i2.signatures import expand_nested_key"
   ]
  },
  {
   "cell_type": "code",
   "execution_count": 27,
   "metadata": {},
   "outputs": [
    {
     "data": {
      "text/plain": [
       "dict_items([('ko', 4), ('vk', {'hello': 'world'})])"
      ]
     },
     "execution_count": 27,
     "metadata": {},
     "output_type": "execute_result"
    }
   ],
   "source": [
    "k='vk'\n",
    "v={'vk':{'vk':{'vk':34}}}\n",
    "v2 = {'vk':{'a':23,'vk':{'vk':34, 'rest':89}}}\n",
    "v3 = {\"ko\": 4, \"vk\": {\"hello\": \"world\"}}\n",
    "expand_nested_key(v3,k)"
   ]
  },
  {
   "cell_type": "code",
   "execution_count": 5,
   "metadata": {},
   "outputs": [],
   "source": [
    "from i2 import Sig\n",
    "from i2.signatures import _remove_variadics_from_sig, ch_variadics_to_non_variadic_kind\n",
    "from i2.wrapper import InnerMapIngress\n",
    "from i2.wrapper import wrap\n",
    "from inspect import Parameter, Signature\n",
    "\n",
    "def foo(po, *vp, ko, **vk):\n",
    "    return f\"{po=}, {vp=}, {ko=}, {vk=}\"\n",
    "\n",
    "\n",
    "new_sig = _remove_variadics_from_sig(Sig(foo))\n",
    "assert str(new_sig) == \"(po, vp=(), *, ko, vk={})\"\n",
    "\n",
    "ingress = InnerMapIngress.from_signature(foo, outer_sig=new_sig)\n"
   ]
  },
  {
   "cell_type": "code",
   "execution_count": 12,
   "metadata": {},
   "outputs": [
    {
     "data": {
      "text/plain": [
       "((1, (2, 3)), {'vk': {'hello': 'world'}})"
      ]
     },
     "execution_count": 12,
     "metadata": {},
     "output_type": "execute_result"
    }
   ],
   "source": [
    "ingress_args = (1,(2,3))\n",
    "ingress_kwargs = {'ko': 4, 'vk': {'hello': 'world'}}\n",
    "ingress(*ingress_args, **ingress_kwargs)\n",
    "#func_kwargs = ingress.outer_sig.kwargs_from_args_and_kwargs(\n",
    " #                ingress_args, ingress_kwargs, apply_defaults=True\n",
    "#             )\n",
    "#func_kwargs"
   ]
  },
  {
   "cell_type": "code",
   "execution_count": 2,
   "metadata": {},
   "outputs": [
    {
     "name": "stdout",
     "output_type": "stream",
     "text": [
      "((1, (2, 3)), {'ko': 4, 'vk': {'vk': {'hello': 'world'}}})\n"
     ]
    }
   ],
   "source": [
    "from i2 import Sig\n",
    "from i2.signatures import _remove_variadics_from_sig, ch_variadics_to_non_variadic_kind\n",
    "from i2.wrapper import InnerMapIngress\n",
    "from i2.wrapper import wrap\n",
    "from inspect import Parameter, Signature\n",
    "\n",
    "\n",
    "# def bar(w, /, x: float, y=1, *args, z: int = 1, **rest):\n",
    "#     return ((w + x) * y) ** z\n",
    "\n",
    "\n",
    "# bar_sig = Sig(bar)\n",
    "\n",
    "\n",
    "def foo(po, *vp, ko, **vk):\n",
    "    return f\"{po=}, {vp=}, {ko=}, {vk=}\"\n",
    "\n",
    "\n",
    "new_sig = _remove_variadics_from_sig(Sig(foo))\n",
    "assert str(new_sig) == \"(po, vp=(), *, ko, vk={})\"\n",
    "\n",
    "ingress = InnerMapIngress.from_signature(foo, outer_sig=new_sig)\n",
    "\n",
    "#if __name__ == \"__main__\":\n",
    "new_foo = wrap(foo, ingress=ingress)\n",
    "ingress_args = (1, (2, 3))\n",
    "ingress_kwargs = {\"ko\": 4, \"vk\": {\"hello\": \"world\"}}\n",
    "print(ingress(*ingress_args, **ingress_kwargs))\n",
    "    # assert (\n",
    "    #     foo(1, 2, 3, ko=4, hello=\"world\")\n",
    "    #     == \"po=1, vp=(2, 3), ko=4, vk={'hello': 'world'}\"\n",
    "    # )\n",
    "    # new_foo = wrap(foo, ingress=ingress)\n",
    "    # assert str(Sig(new_foo)) == \"(po, vp=(), *, ko, vk={})\"\n",
    "    # new_foo(1, (2, 3), ko=4, vk=dict(hello=\"world\"))\n",
    "\n",
    "    # args, kwargs = foo_sig.args_and_kwargs_from_kwargs(dict(w=4, x=3, y=2, z=1, t=12))\n",
    "\n",
    "    # print(f\"args:{args}, kwargs: {kwargs}\")\n"
   ]
  },
  {
   "cell_type": "code",
   "execution_count": 5,
   "metadata": {},
   "outputs": [
    {
     "data": {
      "text/plain": [
       "dict_items([('ko', 4), ('vk', {'vk': {'hello': 'world'}})])"
      ]
     },
     "execution_count": 5,
     "metadata": {},
     "output_type": "execute_result"
    }
   ],
   "source": [
    "from i2.signatures import expand_nested_key\n",
    "d = {'ko': 4, 'vk': {'vk': {'hello': 'world'}}}\n",
    "expand_nested_key(d, k='vk')"
   ]
  },
  {
   "cell_type": "code",
   "execution_count": 1,
   "metadata": {},
   "outputs": [
    {
     "ename": "NameError",
     "evalue": "name 'ingress' is not defined",
     "output_type": "error",
     "traceback": [
      "\u001b[0;31m---------------------------------------------------------------------------\u001b[0m",
      "\u001b[0;31mNameError\u001b[0m                                 Traceback (most recent call last)",
      "\u001b[0;32m<ipython-input-1-d95e20e464b8>\u001b[0m in \u001b[0;36m<module>\u001b[0;34m\u001b[0m\n\u001b[1;32m      1\u001b[0m \u001b[0;32mfrom\u001b[0m \u001b[0mi2\u001b[0m\u001b[0;34m.\u001b[0m\u001b[0mwrapper\u001b[0m \u001b[0;32mimport\u001b[0m \u001b[0mitems_with_mapped_keys\u001b[0m\u001b[0;34m\u001b[0m\u001b[0;34m\u001b[0m\u001b[0m\n\u001b[0;32m----> 2\u001b[0;31m \u001b[0mself\u001b[0m \u001b[0;34m=\u001b[0m \u001b[0mingress\u001b[0m\u001b[0;34m\u001b[0m\u001b[0;34m\u001b[0m\u001b[0m\n\u001b[0m\u001b[1;32m      3\u001b[0m func_kwargs = self.outer_sig.kwargs_from_args_and_kwargs(\n\u001b[1;32m      4\u001b[0m     \u001b[0mingress_args\u001b[0m\u001b[0;34m,\u001b[0m \u001b[0mingress_kwargs\u001b[0m\u001b[0;34m,\u001b[0m \u001b[0mapply_defaults\u001b[0m\u001b[0;34m=\u001b[0m\u001b[0;32mTrue\u001b[0m\u001b[0;34m\u001b[0m\u001b[0;34m\u001b[0m\u001b[0m\n\u001b[1;32m      5\u001b[0m )\n",
      "\u001b[0;31mNameError\u001b[0m: name 'ingress' is not defined"
     ]
    }
   ],
   "source": [
    "from i2.wrapper import items_with_mapped_keys\n",
    "self = ingress\n",
    "func_kwargs = self.outer_sig.kwargs_from_args_and_kwargs(\n",
    "    ingress_args, ingress_kwargs, apply_defaults=True\n",
    ")\n",
    "\n",
    "# Modify the keys of func_kwargs so they reflect the inner signature's names\n",
    "# That is, map outer names to inner names.\n",
    "func_kwargs = dict(\n",
    "    items_with_mapped_keys(func_kwargs, self.inner_name_for_outer_name)\n",
    ")\n",
    "func_kwargs = dict(\n",
    "    func_kwargs,  # by default, keep the func_kwargs, but\n",
    "    **self.kwargs_trans(func_kwargs),  # change those that kwargs_trans desires\n",
    ")\n",
    "print(f'{func_kwargs=}')\n",
    "self.inner_sig.args_and_kwargs_from_kwargs(\n",
    "            func_kwargs, apply_defaults=True, allow_excess=True\n",
    "        )"
   ]
  },
  {
   "cell_type": "code",
   "execution_count": 18,
   "metadata": {},
   "outputs": [
    {
     "data": {
      "text/plain": [
       "<Sig (po, *vp, ko, **vk)>"
      ]
     },
     "execution_count": 18,
     "metadata": {},
     "output_type": "execute_result"
    }
   ],
   "source": [
    "self.inner_sig"
   ]
  },
  {
   "cell_type": "code",
   "execution_count": 45,
   "metadata": {},
   "outputs": [],
   "source": [
    "from typing import Union\n",
    "def args_and_kwargs_from_kwargs2(\n",
    "        self,\n",
    "        kwargs,\n",
    "        apply_defaults=True,\n",
    "        allow_partial=False,\n",
    "        allow_excess=False,\n",
    "        ignore_kind=False,\n",
    "        args_limit: Union[int, None] = 0,\n",
    "    ):\n",
    "        \"\"\"Extract args and kwargs such that func(*args, **kwargs) can be called,\n",
    "        where func has instance's signature.\n",
    "\n",
    "        :param kwargs: The {argname: argval,...} dict to process\n",
    "        :param args_limit: How \"far\" in the params should args (positional arguments)\n",
    "            be searched for.\n",
    "            - args_limit==0: Take the minimum number possible of args (positional\n",
    "                arguments). Only those that are position only or before a var-positional.\n",
    "            - args_limit is None: Take the maximum number of args (positional arguments).\n",
    "                The only kwargs (keyword arguments) you should have are keyword-only\n",
    "                and var-keyword arguments.\n",
    "            - args_limit positive integer: Take the args_limit first argument names\n",
    "                (of signature) as args, and the rest as kwargs.\n",
    "\n",
    "        >>> def foo(w, /, x: float, y=1, *, z: int = 1):\n",
    "        ...     return ((w + x) * y) ** z\n",
    "        >>> foo_sig = Sig(foo)\n",
    "        >>> args, kwargs = foo_sig.args_and_kwargs_from_kwargs(\n",
    "        ...     dict(w=4, x=3, y=2, z=1)\n",
    "        ... )\n",
    "        >>> assert (args, kwargs) == ((4,), {\"x\": 3, \"y\": 2, \"z\": 1})\n",
    "        >>> assert foo(*args, **kwargs) == foo(4, 3, 2, z=1) == 14\n",
    "\n",
    "        The `args_limit` begs explanation.\n",
    "        Consider the signature of `def foo(w, /, x: float, y=1, *, z: int = 1): ...`\n",
    "        for instance. We could call the function with the following (args, kwargs) pairs:\n",
    "        - ((1,), {'x': 2, 'y': 3, 'z': 4})\n",
    "        - ((1, 2), {'y': 3, 'z': 4})\n",
    "        - ((1, 2, 3), {'z': 4})\n",
    "        The two other combinations (empty args or empty kwargs) are not valid\n",
    "        because of the / and * constraints.\n",
    "\n",
    "        But when asked for an (args, kwargs) pair, which of the three valid options\n",
    "        should be returned? This is what the `args_limit` argument controls.\n",
    "\n",
    "        If `args_limit == 0`, the least args (positional arguments) will be returned.\n",
    "        It's the default.\n",
    "\n",
    "        >>> kwargs = dict(w=4, x=3, y=2, z=1)\n",
    "        >>> foo_sig.args_and_kwargs_from_kwargs(kwargs, args_limit=0)\n",
    "        ((4,), {'x': 3, 'y': 2, 'z': 1})\n",
    "\n",
    "        If `args_limit is None`, the least kwargs (keyword arguments) will be returned.\n",
    "\n",
    "        >>> foo_sig.args_and_kwargs_from_kwargs(kwargs, args_limit=None)\n",
    "        ((4, 3, 2), {'z': 1})\n",
    "\n",
    "        If `args_limit` is a positive integer, the first `args_limit` arguments\n",
    "        will be returned (not checking at all if this is valid!).\n",
    "\n",
    "        >>> foo_sig.args_and_kwargs_from_kwargs(kwargs, args_limit=1)\n",
    "        ((4,), {'x': 3, 'y': 2, 'z': 1})\n",
    "        >>> foo_sig.args_and_kwargs_from_kwargs(kwargs, args_limit=2)\n",
    "        ((4, 3), {'y': 2, 'z': 1})\n",
    "        >>> foo_sig.args_and_kwargs_from_kwargs(kwargs, args_limit=3)\n",
    "        ((4, 3, 2), {'z': 1})\n",
    "\n",
    "        Note that 'args_limit''s behavior is consistent with list behvior in the sense\n",
    "        that:\n",
    "\n",
    "        >>> args = (0, 1, 2, 3)\n",
    "        >>> args[:0]\n",
    "        ()\n",
    "        >>> args[:None]\n",
    "        (0, 1, 2, 3)\n",
    "        >>> args[2]\n",
    "        2\n",
    "\n",
    "        By default, only the arguments that were given in the kwargs input will be\n",
    "        returned in the (args, kwargs) output.\n",
    "        If you also want to get those that have defaults (according to signature),\n",
    "        you need to specify it with the `apply_defaults=True` argument.\n",
    "\n",
    "        >>> foo_sig.args_and_kwargs_from_kwargs(dict(w=4, x=3))\n",
    "        ((4,), {'x': 3})\n",
    "        >>> foo_sig.args_and_kwargs_from_kwargs(dict(w=4, x=3), apply_defaults=True)\n",
    "        ((4,), {'x': 3, 'y': 1, 'z': 1})\n",
    "\n",
    "        By default, all required arguments must be given.\n",
    "        Not doing so will lead to a `TypeError`.\n",
    "        If you want to process your arguments anyway, specify `allow_partial=True`.\n",
    "\n",
    "        >>> foo_sig.args_and_kwargs_from_kwargs(dict(w=4))\n",
    "        Traceback (most recent call last):\n",
    "          ...\n",
    "        TypeError: missing a required argument: 'x'\n",
    "        >>> foo_sig.args_and_kwargs_from_kwargs(dict(w=4), allow_partial=True)\n",
    "        ((4,), {})\n",
    "\n",
    "        Specifying argument names that are not recognized by the signature will\n",
    "        lead to a `TypeError`.\n",
    "        If you want to avoid this (and just take from the input `kwargs` what ever you\n",
    "        can), specify this with `allow_excess=True`.\n",
    "\n",
    "        >>> foo_sig.args_and_kwargs_from_kwargs(dict(w=4, x=3, extra='stuff'))\n",
    "        Traceback (most recent call last):\n",
    "            ...\n",
    "        TypeError: Got unexpected keyword arguments: extra\n",
    "        >>> foo_sig.args_and_kwargs_from_kwargs(dict(w=4, x=3, extra='stuff'),\n",
    "        ...     allow_excess=True)\n",
    "        ((4,), {'x': 3})\n",
    "\n",
    "        An edge case: When a `VAR_POSITIONAL` follows a `POSITION_OR_KEYWORD`...\n",
    "\n",
    "        >>> Sig(lambda a, *b, c=2: None).args_and_kwargs_from_kwargs(\n",
    "        ...     {\"a\": 1, \"b\": [2, 3], \"c\": 4}\n",
    "        ... )\n",
    "        ((1, [2, 3]), {'c': 4})\n",
    "\n",
    "        See `kwargs_from_args_and_kwargs` (namely for the description of the arguments.\n",
    "        \"\"\"\n",
    "\n",
    "        if args_limit is None:\n",
    "            # Take the maximum number of args (positional arguments).\n",
    "            # The only kwargs (keyword arguments) you should have are keyword-only\n",
    "            # and var-keyword arguments.\n",
    "            idx = next((i for i, p in enumerate(self.params) if p.kind > VP), None)\n",
    "            names_for_args = self.names[:idx]\n",
    "        elif args_limit == 0:\n",
    "            # Take the minimum number possible of args (positional arguments)\n",
    "            # Only those that are position only or before a var-positional.\n",
    "            vp_idx = self.index_of_var_positional\n",
    "            if vp_idx is None:\n",
    "                names_for_args = self.names_of_kind[PO]\n",
    "            else:\n",
    "                # When there's a VP present, all arguments before it can only be\n",
    "                # expressed positionally if the VP argument is non-empty.\n",
    "                # So, here we just consider all arguments positionally up to the VP arg.\n",
    "                names_for_args = self.names[: (vp_idx + 1)]\n",
    "        else:\n",
    "            names_for_args = self.names[:args_limit]\n",
    "\n",
    "        args = tuple(kwargs[name] for name in names_for_args if name in kwargs)\n",
    "        kwargs = {name: kwargs[name] for name in kwargs if name not in names_for_args}\n",
    "        print(f'{kwargs=}')\n",
    "        kwargs = self.kwargs_from_args_and_kwargs(\n",
    "            args,\n",
    "            kwargs,\n",
    "            apply_defaults=apply_defaults,\n",
    "            allow_partial=allow_partial,\n",
    "            allow_excess=allow_excess,\n",
    "            ignore_kind=ignore_kind,\n",
    "        )\n",
    "        print(f'{kwargs=}')\n",
    "\n",
    "        kwargs = {name: kwargs[name] for name in kwargs if name not in names_for_args}\n",
    "        print(f'{kwargs=}')\n",
    "\n",
    "        return args, kwargs"
   ]
  },
  {
   "cell_type": "code",
   "execution_count": 46,
   "metadata": {},
   "outputs": [
    {
     "name": "stdout",
     "output_type": "stream",
     "text": [
      "args=(1, (2, 3))\n",
      "kwargs={'ko': 4, 'vk': {'hello': 'world'}}\n",
      "kwargs={'vk': {'hello': 'world'}}\n",
      "kwargs={'vk': {'hello': 'world'}}\n"
     ]
    },
    {
     "data": {
      "text/plain": [
       "((1, (2, 3)), {'vk': {'hello': 'world'}})"
      ]
     },
     "execution_count": 46,
     "metadata": {},
     "output_type": "execute_result"
    }
   ],
   "source": [
    "args_and_kwargs_from_kwargs2(self.inner_sig,\n",
    "            func_kwargs, apply_defaults=True, allow_excess=True\n",
    "        )"
   ]
  },
  {
   "cell_type": "code",
   "execution_count": 48,
   "metadata": {},
   "outputs": [
    {
     "ename": "AttributeError",
     "evalue": "'InnerMapIngress' object has no attribute 'sig'",
     "output_type": "error",
     "traceback": [
      "\u001b[0;31m---------------------------------------------------------------------------\u001b[0m",
      "\u001b[0;31mAttributeError\u001b[0m                            Traceback (most recent call last)",
      "\u001b[0;32m<ipython-input-48-282283afecbe>\u001b[0m in \u001b[0;36m<module>\u001b[0;34m\u001b[0m\n\u001b[0;32m----> 1\u001b[0;31m \u001b[0mself\u001b[0m\u001b[0;34m.\u001b[0m\u001b[0msig\u001b[0m\u001b[0;34m\u001b[0m\u001b[0;34m\u001b[0m\u001b[0m\n\u001b[0m",
      "\u001b[0;31mAttributeError\u001b[0m: 'InnerMapIngress' object has no attribute 'sig'"
     ]
    }
   ],
   "source": [
    "self.sig"
   ]
  },
  {
   "cell_type": "code",
   "execution_count": null,
   "metadata": {},
   "outputs": [],
   "source": []
  },
  {
   "cell_type": "code",
   "execution_count": null,
   "metadata": {},
   "outputs": [],
   "source": []
  },
  {
   "cell_type": "code",
   "execution_count": null,
   "metadata": {},
   "outputs": [],
   "source": []
  },
  {
   "cell_type": "code",
   "execution_count": null,
   "metadata": {},
   "outputs": [],
   "source": []
  },
  {
   "cell_type": "code",
   "execution_count": 66,
   "metadata": {},
   "outputs": [],
   "source": [
    "def inner_most_kv(k, v):\n",
    "    if isinstance(v, dict) and k in v:\n",
    "        return inner_most_kv(k, v[k])\n",
    "    else:\n",
    "        return k,v\n"
   ]
  },
  {
   "cell_type": "code",
   "execution_count": 68,
   "metadata": {},
   "outputs": [
    {
     "data": {
      "text/plain": [
       "('vk', 34)"
      ]
     },
     "execution_count": 68,
     "metadata": {},
     "output_type": "execute_result"
    }
   ],
   "source": [
    "k='vk'\n",
    "v={'vk':{'vk':{'vk':34}}}\n",
    "inner_most_kv(k, v)\n"
   ]
  },
  {
   "cell_type": "code",
   "execution_count": null,
   "metadata": {},
   "outputs": [],
   "source": []
  },
  {
   "cell_type": "code",
   "execution_count": null,
   "metadata": {},
   "outputs": [],
   "source": [
    "def flatten_dict(d: MutableMapping, parent_key: str = '', sep: str ='.') -> MutableMapping:\n",
    "    items = []\n",
    "    for k, v in d.items():\n",
    "        new_key = parent_key + sep + k if parent_key else k\n",
    "        if isinstance(v, MutableMapping):\n",
    "            items.extend(flatten_dict(v, new_key, sep=sep).items())\n",
    "        else:\n",
    "            items.append((new_key, v))\n",
    "    return dict(items)"
   ]
  },
  {
   "cell_type": "code",
   "execution_count": null,
   "metadata": {},
   "outputs": [],
   "source": []
  },
  {
   "cell_type": "code",
   "execution_count": null,
   "metadata": {},
   "outputs": [],
   "source": [
    "counter = 0\n",
    "string1 = ''\n",
    "\n",
    "for i in range(1_000_000):\n",
    "     old_id = id(string1)\n",
    "     string1 += str(i)\n",
    "     if id(string1) != old_id:\n",
    "         counter += 1\n",
    "\n",
    "print(counter)  # returns 39"
   ]
  },
  {
   "cell_type": "code",
   "execution_count": null,
   "metadata": {},
   "outputs": [],
   "source": [
    "s='abc'\n",
    "s +='d'"
   ]
  },
  {
   "cell_type": "code",
   "execution_count": null,
   "metadata": {},
   "outputs": [],
   "source": [
    "s"
   ]
  },
  {
   "cell_type": "code",
   "execution_count": null,
   "metadata": {},
   "outputs": [],
   "source": [
    "id(s)"
   ]
  },
  {
   "cell_type": "code",
   "execution_count": null,
   "metadata": {},
   "outputs": [],
   "source": [
    "s += 'dddd'\n",
    "id(s)"
   ]
  },
  {
   "cell_type": "code",
   "execution_count": null,
   "metadata": {},
   "outputs": [],
   "source": []
  }
 ],
 "metadata": {
  "interpreter": {
   "hash": "1a569799154504b406baf5195ac89fceebc6fb1ed8aa567618566bf3d18c8582"
  },
  "kernelspec": {
   "display_name": "Python 3.8.11 ('otopy38')",
   "language": "python",
   "name": "python3"
  },
  "language_info": {
   "codemirror_mode": {
    "name": "ipython",
    "version": 3
   },
   "file_extension": ".py",
   "mimetype": "text/x-python",
   "name": "python",
   "nbconvert_exporter": "python",
   "pygments_lexer": "ipython3",
   "version": "3.8.11"
  },
  "orig_nbformat": 4
 },
 "nbformat": 4,
 "nbformat_minor": 2
}
